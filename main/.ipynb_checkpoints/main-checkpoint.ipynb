{
 "cells": [
  {
   "cell_type": "markdown",
   "metadata": {},
   "source": [
    "# Introduction\n",
    "\n",
    "The aim of this project is to determine if the clients on the given database will make transactions again in the next two months. To achieve this, 6 tables will be used, containing data regarding transactions, demographics, behavior, finance, etc. The main platform to study is platform A (pa in the tables), which allows the user to save money, invest and pay for things or bills, etc; while also being closely related to platform B, which is a marketplace.\n",
    "\n",
    "First, I am going to analyze the quality of the data in each table, fixing errors such as duplicates or null values (either removing or imputing them) and working with categorical features. Once fixed, we will build an input table to be used in the following sections.\n",
    "\n",
    "Afterwards, I am going to do an exploratory data analysis to indentify key points that will help in achieving the main objective of this project. For this, I will check counts (independently and in relation to the response labels), variance, correlations, boxplots, distributions, and many more.\n",
    "\n",
    "Lastly, I will start searching for a predictive model to determine if the client is going to churn or not. Three types of models will be used, while also trying to improve them by cross validating, parameter tuning and feature engineering.\n",
    "\n",
    "So, before we start, here is the data dictionary regarding the tables.\n",
    "   1. ACCOUNT_MONEY: Contains data about the amount of cash in the account and if the user is investing.\n",
    "           a. cus_id: Customer ID.\n",
    "           b. money_1: Amount of cash in the previous month (-1).\n",
    "           c. money_2: Amount of cash in the previous two months (-2).\n",
    "           d. investment: If the user is eligible to invest, is investing or not.\n",
    "   2. ACTIVE_USER: Contains data about the visits to each app (for platforms A and B).\n",
    "           a. cus_id: Customer ID.\n",
    "           b. pa_n: Amounts of visits per month for platform A on the previous N month (either 1, 2 or 3).\n",
    "           c. pb_n: Amounts of visits per month for platform B on the previous N month (either 1, 2 or 3).\n",
    "           d. last_login_pa: Date of the last login for platform A in each month.\n",
    "           e. last_login_pa: Date of the last login for platform B in each month.\n",
    "   3. DEMOGRAPHICS: Contains demographic data about the users.\n",
    "           a. cus_id: Customer ID.\n",
    "           b. city.\n",
    "           c. gender.\n",
    "           d. age.\n",
    "           e. pay_type: Type of payment they have access to (Credit/Debit/etc).\n",
    "           f. province.\n",
    "   4. EVALUATE: Contains the labels for each user. Used to test the models.\n",
    "           a. cus_id: Customer ID.\n",
    "           b. churn: if the user will stop using the platform in the next two months or not.\n",
    "   5. MARKETPLACE_DATA: Summary of each users' transaction records on platform B on the last 6 months.\n",
    "           a. cus_id: Customer ID.\n",
    "           b. spent_pb: Amount of cash spent.\n",
    "           c. last_date_pb: Date of the last purchase on the platform.\n",
    "           d. frequency_pb: Amount of days each user made a purchase.\n",
    "   6. PAYMENTS: Transactional data on platform A for each user.\n",
    "           a. cus_id: Customer ID.\n",
    "           b. date: Date of the transaction.\n",
    "           c. cus_id_seller: Seller ID.\n",
    "           d. spent_pa: Amount spent on the transaction.\n",
    "           e. segment: Transaction type.\n",
    "           f. discount_pa: Discount the buyer received on the transaction."
   ]
  },
  {
   "cell_type": "code",
   "execution_count": 1,
   "metadata": {},
   "outputs": [],
   "source": [
    "import pandas as pd\n",
    "import numpy as np\n",
    "import matplotlib.pyplot as plt\n",
    "%matplotlib inline\n",
    "import seaborn as sns\n",
    "import xgboost as xgb\n",
    "from os import listdir\n",
    "from os.path import isfile, join\n",
    "from sklearn.experimental import enable_iterative_imputer # Needed for IterativeImputer\n",
    "from sklearn.impute import IterativeImputer\n",
    "from sklearn.model_selection import train_test_split\n",
    "from sklearn.linear_model import LogisticRegression\n",
    "from sklearn.ensemble import RandomForestClassifier\n",
    "from sklearn.model_selection import KFold\n",
    "from sklearn.model_selection import GridSearchCV\n",
    "from sklearn.metrics import f1_score\n",
    "from datetime import datetime"
   ]
  },
  {
   "cell_type": "code",
   "execution_count": 2,
   "metadata": {},
   "outputs": [],
   "source": [
    "## TABLE UTILS\n",
    "\n",
    "def read_files(path):\n",
    "    '''\n",
    "    Reads every file in a folder and loads it as a DataFrame on a dictionary\n",
    "    Args:\n",
    "        path (str): folder where the files are located\n",
    "    Returns:\n",
    "        Dictionary of DataFrames.\n",
    "    '''\n",
    "    \n",
    "    files = [file for file in listdir(path) if isfile(join(path, file))]\n",
    "    \n",
    "    table_dict = {}\n",
    "    \n",
    "    for file in files:\n",
    "        name = file.split('.')[0]\n",
    "        df = pd.read_csv(path+file)\n",
    "        table_dict[name] = df\n",
    "        \n",
    "    return table_dict\n",
    "\n",
    "def check_stats(df, cols):\n",
    "    '''\n",
    "    Checks Mean and Standard Deviation on the selected columns.\n",
    "    Args:\n",
    "        df (DataFrame object): table to analyze\n",
    "        cols (list): list of columns to analyze\n",
    "    Returns:\n",
    "        nothing - just prints the mean and std.dev.\n",
    "    '''\n",
    "    \n",
    "    for col in cols:\n",
    "        print(col)\n",
    "        print('Mean: ', df[col].mean())\n",
    "        print('Std. Dev.: ', df[col].std())\n",
    "        print('\\n')\n",
    "        \n",
    "    return\n",
    "        \n",
    "def check_values(df):\n",
    "    '''\n",
    "    Checks value counts on a DataFrame.\n",
    "    Args:\n",
    "        df (DataFrame object): table to analyze.\n",
    "    Returns:\n",
    "        nothing - just prints the value counts.\n",
    "    '''\n",
    "    \n",
    "    for col in df.columns:\n",
    "        if col == 'cus_id': # client id col, not useful for value count check\n",
    "            continue\n",
    "        print(col)\n",
    "        print(df[col].value_counts())\n",
    "        print('\\n')\n",
    "    \n",
    "    return\n",
    "\n",
    "def to_category(df, col):\n",
    "    '''\n",
    "    Transforms the selected columns of a table into categorical variables, and saves the mapping\n",
    "    Args:\n",
    "        df (DataFrame object): table to analyze\n",
    "        cols (list): list of columns to analyze\n",
    "    Returns:\n",
    "        Fixed DataFrame and Mapping Dictionary.\n",
    "    '''\n",
    "    \n",
    "    cat_map = {}\n",
    "    if isinstance(col, str):\n",
    "        df[col] = df[col].astype('category')\n",
    "        df[col+'_int'] = df[col].cat.codes\n",
    "        cat_map[col] = dict(zip(df[col].cat.codes, df[col]))\n",
    "    elif isinstance(col, list):\n",
    "        for c in col:\n",
    "            df[c] = df[c].astype('category')\n",
    "            df[c+'_int'] = df[c].astype('category').cat.codes\n",
    "            cat_map[c] = dict(zip(df[c].cat.codes, df[c]))\n",
    "    df.drop(col, axis=1, inplace=True)\n",
    "            \n",
    "    return df, cat_map"
   ]
  },
  {
   "cell_type": "code",
   "execution_count": 3,
   "metadata": {},
   "outputs": [
    {
     "data": {
      "text/plain": [
       "6"
      ]
     },
     "execution_count": 3,
     "metadata": {},
     "output_type": "execute_result"
    }
   ],
   "source": [
    "table_dict = read_files('Datasets/')\n",
    "\n",
    "# Check if all files are loaded\n",
    "len(table_dict)"
   ]
  },
  {
   "cell_type": "markdown",
   "metadata": {},
   "source": [
    "# Arreglo de datos\n",
    "Tenemos 6 tablas, a unir a través del campo CUS_CUST_ID_BUY:\n",
    "   1. El dataframe ACTIVE_USER nos da información sobre las visitas a la APP.\n",
    "   2. El dataframe DEMOGRAFICOS brinda datos demográficos de los usuarios.\n",
    "   3. El dataframe DINERO_CUENTA contiene datos de dinero en la cuenta e inversiones.\n",
    "   4. El dataframe EVALUATE es utilizado para evaluar el modelo, tiene la respuesta de si hubo churn o no.\n",
    "   5. El dataframe MARKETPLACE_DATA tiene los movimientos del usuario en mercadolibre para los últimos 6 meses.\n",
    "   6. El dataframe PAYMENTS tiene datos de transacciones en MP de los últimos 6 meses.\n",
    "\n",
    "A continuación se hará un análisis de cada uno (a excepción de target) y una correspondiente limpieza. Terminado esto, los uniremos para generar una tabla de input del modelo."
   ]
  },
  {
   "cell_type": "code",
   "execution_count": 4,
   "metadata": {},
   "outputs": [
    {
     "name": "stdout",
     "output_type": "stream",
     "text": [
      "ACCOUNT_MONEY\n",
      "Duplicates:  0 Total:  41627\n",
      "cus_id        0.000000\n",
      "money_1       0.000000\n",
      "money_2       4.470656\n",
      "investment    2.380666\n",
      "dtype: float64\n",
      "\n",
      "\n",
      "ACTIVE_USER\n",
      "Duplicates:  0 Total:  43502\n",
      "cus_id            0.000000\n",
      "pa_3             24.104639\n",
      "pb_3             24.104639\n",
      "pa_2             18.953152\n",
      "pb_2             18.953152\n",
      "pa_1             14.944140\n",
      "pb_1             14.944140\n",
      "last_login_pa    14.944140\n",
      "last_login_pb    14.944140\n",
      "dtype: float64\n",
      "\n",
      "\n",
      "DEMOGRAPHICS\n",
      "Duplicates:  0 Total:  30466\n",
      "city        5.76052\n",
      "cus_id      0.00000\n",
      "gender      0.00000\n",
      "age         0.00000\n",
      "pay_type    0.00000\n",
      "province    0.00000\n",
      "dtype: float64\n",
      "\n",
      "\n",
      "EVALUATE\n",
      "Duplicates:  0 Total:  43502\n",
      "cus_id    0.0\n",
      "churn     0.0\n",
      "dtype: float64\n",
      "\n",
      "\n",
      "MARKETPLACE_DATA\n",
      "Duplicates:  0 Total:  24442\n",
      "cus_id          0.0\n",
      "spent_pb        0.0\n",
      "last_date_pb    0.0\n",
      "frequency_pb    0.0\n",
      "dtype: float64\n",
      "\n",
      "\n",
      "PAYMENTS\n",
      "Duplicates:  40138 Total:  555516\n",
      "date             0.0\n",
      "cus_id_seller    0.0\n",
      "cus_id           0.0\n",
      "spent_pa         0.0\n",
      "segment          0.0\n",
      "discount_pa      0.0\n",
      "dtype: float64\n",
      "\n",
      "\n"
     ]
    }
   ],
   "source": [
    "for name, df in table_dict.items():\n",
    "    for col in df:\n",
    "        # Limpiando espacios en blanco por las dudas\n",
    "        if type(col) == object:\n",
    "            df[col] = df[col].str.strip()\n",
    "    print(name)\n",
    "    print('Duplicates: ', df.duplicated().sum(), 'Total: ', df.shape[0])\n",
    "    print(df.isnull().sum() / df.shape[0] * 100)\n",
    "    print('\\n')"
   ]
  },
  {
   "cell_type": "markdown",
   "metadata": {},
   "source": [
    "There are no DataFrames with duplicated rows with the exception of PAYMENTS, with 40000 duplicates, which will be deleted. This might change when fixing/combining tables.\n",
    "\n",
    "On the other hand, EVALUATE, MARKETPLACE_DATA and PAYMENTS have no null values. However, ACCOUNT_MONEY has 2% and 4% respectively on money_2 and investment. DEMOGRAPHICS has 5% nulls on city, while ACTIVE_USER has nulls on every column on a considerably higher proportion. Again, this might get worse when combining tables. The columns on the lower end of the spectrum will be imputed with mean or mode, while the ones presenting a higher degree of nulls will be fixed with Multiple Imputation\n",
    "\n",
    "The data cleaning woork wil start below."
   ]
  },
  {
   "cell_type": "code",
   "execution_count": 5,
   "metadata": {},
   "outputs": [],
   "source": [
    "active = table_dict['ACTIVE_USER']\n",
    "demo = table_dict['DEMOGRAPHICS']\n",
    "money = table_dict['ACCOUNT_MONEY']\n",
    "target = table_dict['EVALUATE']\n",
    "market = table_dict['MARKETPLACE_DATA']\n",
    "payments = table_dict['PAYMENTS']"
   ]
  },
  {
   "cell_type": "markdown",
   "metadata": {},
   "source": [
    "### Fixing ACTIVE_USER"
   ]
  },
  {
   "cell_type": "code",
   "execution_count": 6,
   "metadata": {
    "scrolled": false
   },
   "outputs": [
    {
     "name": "stdout",
     "output_type": "stream",
     "text": [
      "<class 'pandas.core.frame.DataFrame'>\n",
      "RangeIndex: 43502 entries, 0 to 43501\n",
      "Data columns (total 9 columns):\n",
      " #   Column         Non-Null Count  Dtype  \n",
      "---  ------         --------------  -----  \n",
      " 0   cus_id         43502 non-null  int64  \n",
      " 1   pa_3           33016 non-null  float64\n",
      " 2   pb_3           33016 non-null  float64\n",
      " 3   pa_2           35257 non-null  float64\n",
      " 4   pb_2           35257 non-null  float64\n",
      " 5   pa_1           37001 non-null  float64\n",
      " 6   pb_1           37001 non-null  float64\n",
      " 7   last_login_pa  37001 non-null  object \n",
      " 8   last_login_pb  37001 non-null  object \n",
      "dtypes: float64(6), int64(1), object(2)\n",
      "memory usage: 3.0+ MB\n",
      "None\n"
     ]
    },
    {
     "data": {
      "text/html": [
       "<div>\n",
       "<style scoped>\n",
       "    .dataframe tbody tr th:only-of-type {\n",
       "        vertical-align: middle;\n",
       "    }\n",
       "\n",
       "    .dataframe tbody tr th {\n",
       "        vertical-align: top;\n",
       "    }\n",
       "\n",
       "    .dataframe thead th {\n",
       "        text-align: right;\n",
       "    }\n",
       "</style>\n",
       "<table border=\"1\" class=\"dataframe\">\n",
       "  <thead>\n",
       "    <tr style=\"text-align: right;\">\n",
       "      <th></th>\n",
       "      <th>cus_id</th>\n",
       "      <th>pa_3</th>\n",
       "      <th>pb_3</th>\n",
       "      <th>pa_2</th>\n",
       "      <th>pb_2</th>\n",
       "      <th>pa_1</th>\n",
       "      <th>pb_1</th>\n",
       "      <th>last_login_pa</th>\n",
       "      <th>last_login_pb</th>\n",
       "    </tr>\n",
       "  </thead>\n",
       "  <tbody>\n",
       "    <tr>\n",
       "      <th>0</th>\n",
       "      <td>424070401</td>\n",
       "      <td>NaN</td>\n",
       "      <td>NaN</td>\n",
       "      <td>1.0</td>\n",
       "      <td>0.0</td>\n",
       "      <td>NaN</td>\n",
       "      <td>NaN</td>\n",
       "      <td>NaN</td>\n",
       "      <td>NaN</td>\n",
       "    </tr>\n",
       "    <tr>\n",
       "      <th>1</th>\n",
       "      <td>271894453</td>\n",
       "      <td>1.0</td>\n",
       "      <td>14.0</td>\n",
       "      <td>11.0</td>\n",
       "      <td>21.0</td>\n",
       "      <td>2.0</td>\n",
       "      <td>12.0</td>\n",
       "      <td>5/17/2019</td>\n",
       "      <td>5/24/2019</td>\n",
       "    </tr>\n",
       "    <tr>\n",
       "      <th>2</th>\n",
       "      <td>327402711</td>\n",
       "      <td>NaN</td>\n",
       "      <td>NaN</td>\n",
       "      <td>0.0</td>\n",
       "      <td>10.0</td>\n",
       "      <td>4.0</td>\n",
       "      <td>26.0</td>\n",
       "      <td>5/28/2019</td>\n",
       "      <td>5/31/2019</td>\n",
       "    </tr>\n",
       "    <tr>\n",
       "      <th>3</th>\n",
       "      <td>310355113</td>\n",
       "      <td>5.0</td>\n",
       "      <td>18.0</td>\n",
       "      <td>5.0</td>\n",
       "      <td>7.0</td>\n",
       "      <td>3.0</td>\n",
       "      <td>10.0</td>\n",
       "      <td>5/21/2019</td>\n",
       "      <td>5/29/2019</td>\n",
       "    </tr>\n",
       "    <tr>\n",
       "      <th>4</th>\n",
       "      <td>59350476</td>\n",
       "      <td>1.0</td>\n",
       "      <td>18.0</td>\n",
       "      <td>5.0</td>\n",
       "      <td>17.0</td>\n",
       "      <td>4.0</td>\n",
       "      <td>27.0</td>\n",
       "      <td>5/31/2019</td>\n",
       "      <td>5/31/2019</td>\n",
       "    </tr>\n",
       "  </tbody>\n",
       "</table>\n",
       "</div>"
      ],
      "text/plain": [
       "      cus_id  pa_3  pb_3  pa_2  pb_2  pa_1  pb_1 last_login_pa last_login_pb\n",
       "0  424070401   NaN   NaN   1.0   0.0   NaN   NaN           NaN           NaN\n",
       "1  271894453   1.0  14.0  11.0  21.0   2.0  12.0     5/17/2019     5/24/2019\n",
       "2  327402711   NaN   NaN   0.0  10.0   4.0  26.0     5/28/2019     5/31/2019\n",
       "3  310355113   5.0  18.0   5.0   7.0   3.0  10.0     5/21/2019     5/29/2019\n",
       "4   59350476   1.0  18.0   5.0  17.0   4.0  27.0     5/31/2019     5/31/2019"
      ]
     },
     "execution_count": 6,
     "metadata": {},
     "output_type": "execute_result"
    }
   ],
   "source": [
    "print(active.info())\n",
    "active.head()"
   ]
  },
  {
   "cell_type": "code",
   "execution_count": 7,
   "metadata": {},
   "outputs": [
    {
     "name": "stdout",
     "output_type": "stream",
     "text": [
      "pa_3\n",
      "0.0     8703\n",
      "1.0     4122\n",
      "2.0     3153\n",
      "3.0     2574\n",
      "4.0     2014\n",
      "5.0     1634\n",
      "6.0     1381\n",
      "7.0     1180\n",
      "8.0      967\n",
      "9.0      845\n",
      "10.0     714\n",
      "11.0     671\n",
      "12.0     544\n",
      "13.0     488\n",
      "14.0     416\n",
      "15.0     377\n",
      "16.0     320\n",
      "17.0     302\n",
      "18.0     286\n",
      "19.0     242\n",
      "31.0     226\n",
      "22.0     224\n",
      "20.0     222\n",
      "21.0     205\n",
      "23.0     196\n",
      "25.0     159\n",
      "26.0     158\n",
      "24.0     151\n",
      "27.0     145\n",
      "28.0     139\n",
      "30.0     135\n",
      "29.0     123\n",
      "Name: pa_3, dtype: int64\n",
      "\n",
      "\n",
      "pb_3\n",
      "0.0     7862\n",
      "6.0     1095\n",
      "1.0     1081\n",
      "4.0     1056\n",
      "5.0     1041\n",
      "3.0     1038\n",
      "7.0     1031\n",
      "2.0     1019\n",
      "11.0    1010\n",
      "8.0     1002\n",
      "10.0     988\n",
      "9.0      946\n",
      "12.0     941\n",
      "15.0     895\n",
      "16.0     871\n",
      "13.0     849\n",
      "14.0     845\n",
      "18.0     775\n",
      "17.0     764\n",
      "19.0     758\n",
      "20.0     710\n",
      "21.0     696\n",
      "22.0     694\n",
      "23.0     640\n",
      "24.0     622\n",
      "25.0     614\n",
      "26.0     574\n",
      "27.0     565\n",
      "31.0     541\n",
      "29.0     520\n",
      "28.0     494\n",
      "30.0     479\n",
      "Name: pb_3, dtype: int64\n",
      "\n",
      "\n",
      "pa_2\n",
      "0.0     7664\n",
      "1.0     4428\n",
      "2.0     3433\n",
      "3.0     2889\n",
      "4.0     2353\n",
      "5.0     1961\n",
      "6.0     1627\n",
      "7.0     1410\n",
      "8.0     1205\n",
      "9.0      971\n",
      "10.0     866\n",
      "11.0     748\n",
      "12.0     646\n",
      "13.0     548\n",
      "14.0     473\n",
      "15.0     420\n",
      "16.0     373\n",
      "17.0     350\n",
      "18.0     325\n",
      "19.0     287\n",
      "30.0     272\n",
      "21.0     257\n",
      "20.0     243\n",
      "23.0     227\n",
      "24.0     208\n",
      "22.0     196\n",
      "27.0     191\n",
      "25.0     183\n",
      "26.0     182\n",
      "28.0     166\n",
      "29.0     155\n",
      "Name: pa_2, dtype: int64\n",
      "\n",
      "\n",
      "pb_2\n",
      "0.0     9290\n",
      "1.0     1258\n",
      "3.0     1193\n",
      "4.0     1188\n",
      "5.0     1161\n",
      "2.0     1139\n",
      "7.0     1138\n",
      "6.0     1132\n",
      "8.0     1073\n",
      "9.0     1033\n",
      "11.0     992\n",
      "13.0     975\n",
      "10.0     968\n",
      "12.0     915\n",
      "15.0     892\n",
      "14.0     876\n",
      "16.0     821\n",
      "17.0     812\n",
      "18.0     798\n",
      "19.0     777\n",
      "21.0     733\n",
      "22.0     718\n",
      "20.0     717\n",
      "23.0     659\n",
      "24.0     639\n",
      "25.0     621\n",
      "30.0     619\n",
      "28.0     540\n",
      "26.0     540\n",
      "27.0     531\n",
      "29.0     509\n",
      "Name: pb_2, dtype: int64\n",
      "\n",
      "\n",
      "pa_1\n",
      "0.0     6829\n",
      "1.0     4436\n",
      "2.0     3689\n",
      "3.0     3125\n",
      "4.0     2501\n",
      "5.0     2145\n",
      "6.0     1823\n",
      "7.0     1543\n",
      "8.0     1316\n",
      "9.0     1105\n",
      "10.0     962\n",
      "11.0     810\n",
      "12.0     720\n",
      "13.0     616\n",
      "14.0     564\n",
      "15.0     483\n",
      "16.0     407\n",
      "18.0     382\n",
      "17.0     379\n",
      "19.0     318\n",
      "31.0     307\n",
      "21.0     277\n",
      "20.0     274\n",
      "22.0     265\n",
      "23.0     259\n",
      "25.0     245\n",
      "24.0     229\n",
      "30.0     215\n",
      "26.0     209\n",
      "28.0     194\n",
      "27.0     193\n",
      "29.0     181\n",
      "Name: pa_1, dtype: int64\n",
      "\n",
      "\n",
      "pb_1\n",
      "0.0     9845\n",
      "1.0     1186\n",
      "5.0     1106\n",
      "3.0     1082\n",
      "6.0     1079\n",
      "8.0     1079\n",
      "7.0     1076\n",
      "2.0     1057\n",
      "4.0     1057\n",
      "9.0     1036\n",
      "10.0    1006\n",
      "11.0     996\n",
      "12.0     992\n",
      "14.0     961\n",
      "13.0     961\n",
      "16.0     916\n",
      "15.0     894\n",
      "17.0     861\n",
      "20.0     845\n",
      "18.0     814\n",
      "22.0     797\n",
      "19.0     756\n",
      "21.0     755\n",
      "23.0     746\n",
      "24.0     738\n",
      "25.0     697\n",
      "31.0     680\n",
      "26.0     665\n",
      "28.0     614\n",
      "30.0     588\n",
      "27.0     584\n",
      "29.0     532\n",
      "Name: pb_1, dtype: int64\n",
      "\n",
      "\n",
      "last_login_pa\n",
      "5/31/2019    10935\n",
      "5/30/2019     4614\n",
      "5/28/2019     3053\n",
      "5/29/2019     2549\n",
      "5/27/2019     2044\n",
      "5/24/2019     1345\n",
      "5/21/2019     1278\n",
      "5/26/2019     1118\n",
      "5/22/2019     1062\n",
      "5/25/2019     1030\n",
      "5/20/2019     1015\n",
      "5/23/2019      925\n",
      "5/17/2019      476\n",
      "5/16/2019      476\n",
      "5/15/2019      469\n",
      "5/18/2019      430\n",
      "5/14/2019      402\n",
      "5/19/2019      397\n",
      "5/13/2019      394\n",
      "5/10/2019      379\n",
      "5/7/2019       354\n",
      "5/2/2019       295\n",
      "5/9/2019       278\n",
      "5/8/2019       272\n",
      "5/12/2019      251\n",
      "5/11/2019      249\n",
      "5/3/2019       225\n",
      "5/6/2019       201\n",
      "5/5/2019       185\n",
      "5/4/2019       179\n",
      "5/1/2019       121\n",
      "Name: last_login_pa, dtype: int64\n",
      "\n",
      "\n",
      "last_login_pb\n",
      "5/31/2019    14585\n",
      "5/30/2019     5256\n",
      "5/29/2019     3036\n",
      "5/28/2019     2360\n",
      "5/27/2019     1824\n",
      "5/26/2019      995\n",
      "5/24/2019      882\n",
      "5/25/2019      866\n",
      "5/20/2019      809\n",
      "5/21/2019      780\n",
      "5/22/2019      741\n",
      "5/23/2019      731\n",
      "5/16/2019      388\n",
      "5/17/2019      339\n",
      "5/15/2019      335\n",
      "5/13/2019      326\n",
      "5/18/2019      324\n",
      "5/19/2019      301\n",
      "5/14/2019      275\n",
      "5/10/2019      221\n",
      "5/7/2019       186\n",
      "5/2/2019       183\n",
      "5/9/2019       178\n",
      "5/8/2019       167\n",
      "5/11/2019      152\n",
      "5/12/2019      152\n",
      "5/3/2019       135\n",
      "5/5/2019       131\n",
      "5/4/2019       128\n",
      "5/6/2019       118\n",
      "5/1/2019        97\n",
      "Name: last_login_pb, dtype: int64\n",
      "\n",
      "\n"
     ]
    }
   ],
   "source": [
    "check_values(active)"
   ]
  },
  {
   "cell_type": "code",
   "execution_count": 8,
   "metadata": {},
   "outputs": [
    {
     "name": "stdout",
     "output_type": "stream",
     "text": [
      "(43502, 9)\n"
     ]
    },
    {
     "data": {
      "text/plain": [
       "(43502, 7)"
      ]
     },
     "execution_count": 8,
     "metadata": {},
     "output_type": "execute_result"
    }
   ],
   "source": [
    "# All dates correspond to the month of May 2019, so no need to filter, and will not be used, so they'll be deleted\n",
    "print(active.shape)\n",
    "active.drop(['last_login_pa', 'last_login_pb'], axis=1, inplace=True)\n",
    "active.drop_duplicates(inplace=True)\n",
    "active.shape"
   ]
  },
  {
   "cell_type": "markdown",
   "metadata": {},
   "source": [
    "The pa and pb columns are the ones with null values. Using the median/mean/mode would result in the repetition of a value too many times, since there are to many nulls, thus introducing biases on the dataset. As such, Multiple Imputation by Chained Equations will be used, where the value is imputed many times, the algorithm takes the best cases, and applies the value to the table."
   ]
  },
  {
   "cell_type": "code",
   "execution_count": 9,
   "metadata": {},
   "outputs": [
    {
     "name": "stdout",
     "output_type": "stream",
     "text": [
      "pa_3\n",
      "Mean:  5.3747576932396415\n",
      "Std. Dev.:  6.890093947862642\n",
      "\n",
      "\n",
      "pb_3\n",
      "Mean:  10.574963653985947\n",
      "Std. Dev.:  9.55527605400023\n",
      "\n",
      "\n",
      "pa_2\n",
      "Mean:  5.71928978642539\n",
      "Std. Dev.:  6.828091898783042\n",
      "\n",
      "\n",
      "pb_2\n",
      "Mean:  9.77519357858014\n",
      "Std. Dev.:  9.281497352826227\n",
      "\n",
      "\n",
      "pa_1\n",
      "Mean:  6.278749222993973\n",
      "Std. Dev.:  7.21789626556008\n",
      "\n",
      "\n",
      "pb_1\n",
      "Mean:  10.427664117186023\n",
      "Std. Dev.:  9.74756607598431\n",
      "\n",
      "\n"
     ]
    }
   ],
   "source": [
    "check_stats(active, active.columns[1:])"
   ]
  },
  {
   "cell_type": "code",
   "execution_count": 10,
   "metadata": {},
   "outputs": [
    {
     "data": {
      "text/html": [
       "<div>\n",
       "<style scoped>\n",
       "    .dataframe tbody tr th:only-of-type {\n",
       "        vertical-align: middle;\n",
       "    }\n",
       "\n",
       "    .dataframe tbody tr th {\n",
       "        vertical-align: top;\n",
       "    }\n",
       "\n",
       "    .dataframe thead th {\n",
       "        text-align: right;\n",
       "    }\n",
       "</style>\n",
       "<table border=\"1\" class=\"dataframe\">\n",
       "  <thead>\n",
       "    <tr style=\"text-align: right;\">\n",
       "      <th></th>\n",
       "      <th>pa_3</th>\n",
       "      <th>pb_3</th>\n",
       "      <th>pa_2</th>\n",
       "      <th>pb_2</th>\n",
       "      <th>pa_1</th>\n",
       "      <th>pb_1</th>\n",
       "    </tr>\n",
       "  </thead>\n",
       "  <tbody>\n",
       "    <tr>\n",
       "      <th>0</th>\n",
       "      <td>1.595919</td>\n",
       "      <td>1.503445</td>\n",
       "      <td>1.000000</td>\n",
       "      <td>0.000000</td>\n",
       "      <td>2.196253</td>\n",
       "      <td>1.790577</td>\n",
       "    </tr>\n",
       "    <tr>\n",
       "      <th>1</th>\n",
       "      <td>1.000000</td>\n",
       "      <td>14.000000</td>\n",
       "      <td>11.000000</td>\n",
       "      <td>21.000000</td>\n",
       "      <td>2.000000</td>\n",
       "      <td>12.000000</td>\n",
       "    </tr>\n",
       "    <tr>\n",
       "      <th>2</th>\n",
       "      <td>1.085248</td>\n",
       "      <td>14.087593</td>\n",
       "      <td>0.000000</td>\n",
       "      <td>10.000000</td>\n",
       "      <td>4.000000</td>\n",
       "      <td>26.000000</td>\n",
       "    </tr>\n",
       "    <tr>\n",
       "      <th>3</th>\n",
       "      <td>5.000000</td>\n",
       "      <td>18.000000</td>\n",
       "      <td>5.000000</td>\n",
       "      <td>7.000000</td>\n",
       "      <td>3.000000</td>\n",
       "      <td>10.000000</td>\n",
       "    </tr>\n",
       "    <tr>\n",
       "      <th>4</th>\n",
       "      <td>1.000000</td>\n",
       "      <td>18.000000</td>\n",
       "      <td>5.000000</td>\n",
       "      <td>17.000000</td>\n",
       "      <td>4.000000</td>\n",
       "      <td>27.000000</td>\n",
       "    </tr>\n",
       "    <tr>\n",
       "      <th>...</th>\n",
       "      <td>...</td>\n",
       "      <td>...</td>\n",
       "      <td>...</td>\n",
       "      <td>...</td>\n",
       "      <td>...</td>\n",
       "      <td>...</td>\n",
       "    </tr>\n",
       "    <tr>\n",
       "      <th>43497</th>\n",
       "      <td>6.000000</td>\n",
       "      <td>28.000000</td>\n",
       "      <td>21.000000</td>\n",
       "      <td>29.000000</td>\n",
       "      <td>20.000000</td>\n",
       "      <td>31.000000</td>\n",
       "    </tr>\n",
       "    <tr>\n",
       "      <th>43498</th>\n",
       "      <td>12.000000</td>\n",
       "      <td>28.000000</td>\n",
       "      <td>6.000000</td>\n",
       "      <td>24.000000</td>\n",
       "      <td>8.000000</td>\n",
       "      <td>30.000000</td>\n",
       "    </tr>\n",
       "    <tr>\n",
       "      <th>43499</th>\n",
       "      <td>5.849332</td>\n",
       "      <td>1.411241</td>\n",
       "      <td>6.233453</td>\n",
       "      <td>0.716699</td>\n",
       "      <td>7.000000</td>\n",
       "      <td>0.000000</td>\n",
       "    </tr>\n",
       "    <tr>\n",
       "      <th>43500</th>\n",
       "      <td>15.000000</td>\n",
       "      <td>21.000000</td>\n",
       "      <td>12.000000</td>\n",
       "      <td>18.000000</td>\n",
       "      <td>18.000000</td>\n",
       "      <td>26.000000</td>\n",
       "    </tr>\n",
       "    <tr>\n",
       "      <th>43501</th>\n",
       "      <td>5.000000</td>\n",
       "      <td>16.000000</td>\n",
       "      <td>6.000000</td>\n",
       "      <td>15.000000</td>\n",
       "      <td>3.000000</td>\n",
       "      <td>18.000000</td>\n",
       "    </tr>\n",
       "  </tbody>\n",
       "</table>\n",
       "<p>43502 rows × 6 columns</p>\n",
       "</div>"
      ],
      "text/plain": [
       "            pa_3       pb_3       pa_2       pb_2       pa_1       pb_1\n",
       "0       1.595919   1.503445   1.000000   0.000000   2.196253   1.790577\n",
       "1       1.000000  14.000000  11.000000  21.000000   2.000000  12.000000\n",
       "2       1.085248  14.087593   0.000000  10.000000   4.000000  26.000000\n",
       "3       5.000000  18.000000   5.000000   7.000000   3.000000  10.000000\n",
       "4       1.000000  18.000000   5.000000  17.000000   4.000000  27.000000\n",
       "...          ...        ...        ...        ...        ...        ...\n",
       "43497   6.000000  28.000000  21.000000  29.000000  20.000000  31.000000\n",
       "43498  12.000000  28.000000   6.000000  24.000000   8.000000  30.000000\n",
       "43499   5.849332   1.411241   6.233453   0.716699   7.000000   0.000000\n",
       "43500  15.000000  21.000000  12.000000  18.000000  18.000000  26.000000\n",
       "43501   5.000000  16.000000   6.000000  15.000000   3.000000  18.000000\n",
       "\n",
       "[43502 rows x 6 columns]"
      ]
     },
     "execution_count": 10,
     "metadata": {},
     "output_type": "execute_result"
    }
   ],
   "source": [
    "imputer = IterativeImputer(random_state=42)\n",
    "imputer.fit(active.iloc[:, 1:])\n",
    "\n",
    "fixed = imputer.transform(active.iloc[:, 1:])\n",
    "fixed_df = pd.DataFrame(fixed, columns=active.columns[1:])\n",
    "fixed_df"
   ]
  },
  {
   "cell_type": "code",
   "execution_count": 11,
   "metadata": {},
   "outputs": [
    {
     "data": {
      "text/plain": [
       "cus_id    0\n",
       "pa_3      0\n",
       "pb_3      0\n",
       "pa_2      0\n",
       "pb_2      0\n",
       "pa_1      0\n",
       "pb_1      0\n",
       "dtype: int64"
      ]
     },
     "execution_count": 11,
     "metadata": {},
     "output_type": "execute_result"
    }
   ],
   "source": [
    "active_fixed = pd.concat([active['cus_id'], fixed_df], axis=1)\n",
    "active_fixed.isnull().sum()"
   ]
  },
  {
   "cell_type": "code",
   "execution_count": 12,
   "metadata": {},
   "outputs": [
    {
     "name": "stdout",
     "output_type": "stream",
     "text": [
      "pa_3\n",
      "Mean:  5.0652011474583345\n",
      "Std. Dev.:  6.158583020503096\n",
      "\n",
      "\n",
      "pb_3\n",
      "Mean:  9.350643534115346\n",
      "Std. Dev.:  8.852197058130042\n",
      "\n",
      "\n",
      "pa_2\n",
      "Mean:  5.455315714349051\n",
      "Std. Dev.:  6.26028845480834\n",
      "\n",
      "\n",
      "pb_2\n",
      "Mean:  8.959666325829913\n",
      "Std. Dev.:  8.714472895700847\n",
      "\n",
      "\n",
      "pa_1\n",
      "Mean:  6.0848777403387695\n",
      "Std. Dev.:  6.716061432336075\n",
      "\n",
      "\n",
      "pb_1\n",
      "Mean:  9.936978066655618\n",
      "Std. Dev.:  9.189889315852286\n",
      "\n",
      "\n"
     ]
    }
   ],
   "source": [
    "check_stats(active_fixed, active.columns[1:])"
   ]
  },
  {
   "cell_type": "markdown",
   "metadata": {},
   "source": [
    "After MICE, the mean of each column stays close enough to the original one."
   ]
  },
  {
   "cell_type": "markdown",
   "metadata": {},
   "source": [
    "### Fixing DEMOGRAPHICS"
   ]
  },
  {
   "cell_type": "code",
   "execution_count": 13,
   "metadata": {
    "scrolled": false
   },
   "outputs": [
    {
     "name": "stdout",
     "output_type": "stream",
     "text": [
      "<class 'pandas.core.frame.DataFrame'>\n",
      "RangeIndex: 30466 entries, 0 to 30465\n",
      "Data columns (total 6 columns):\n",
      " #   Column    Non-Null Count  Dtype \n",
      "---  ------    --------------  ----- \n",
      " 0   city      28711 non-null  object\n",
      " 1   cus_id    30466 non-null  int64 \n",
      " 2   gender    30466 non-null  object\n",
      " 3   age       30466 non-null  object\n",
      " 4   pay_type  30466 non-null  object\n",
      " 5   province  30466 non-null  object\n",
      "dtypes: int64(1), object(5)\n",
      "memory usage: 1.4+ MB\n",
      "None\n"
     ]
    },
    {
     "data": {
      "text/html": [
       "<div>\n",
       "<style scoped>\n",
       "    .dataframe tbody tr th:only-of-type {\n",
       "        vertical-align: middle;\n",
       "    }\n",
       "\n",
       "    .dataframe tbody tr th {\n",
       "        vertical-align: top;\n",
       "    }\n",
       "\n",
       "    .dataframe thead th {\n",
       "        text-align: right;\n",
       "    }\n",
       "</style>\n",
       "<table border=\"1\" class=\"dataframe\">\n",
       "  <thead>\n",
       "    <tr style=\"text-align: right;\">\n",
       "      <th></th>\n",
       "      <th>city</th>\n",
       "      <th>cus_id</th>\n",
       "      <th>gender</th>\n",
       "      <th>age</th>\n",
       "      <th>pay_type</th>\n",
       "      <th>province</th>\n",
       "    </tr>\n",
       "  </thead>\n",
       "  <tbody>\n",
       "    <tr>\n",
       "      <th>0</th>\n",
       "      <td>caba</td>\n",
       "      <td>47629682</td>\n",
       "      <td>male</td>\n",
       "      <td>03.Entre 26 y 30 años</td>\n",
       "      <td>Credit Card</td>\n",
       "      <td>capital federal</td>\n",
       "    </tr>\n",
       "    <tr>\n",
       "      <th>1</th>\n",
       "      <td>belen de escobar</td>\n",
       "      <td>184288617</td>\n",
       "      <td>male</td>\n",
       "      <td>03.Entre 26 y 30 años</td>\n",
       "      <td>Account Money</td>\n",
       "      <td>buenos aires</td>\n",
       "    </tr>\n",
       "    <tr>\n",
       "      <th>2</th>\n",
       "      <td>san fernando del valle de catamarca</td>\n",
       "      <td>134359455</td>\n",
       "      <td>female</td>\n",
       "      <td>03.Entre 26 y 30 años</td>\n",
       "      <td>Debit Card</td>\n",
       "      <td>catamarca</td>\n",
       "    </tr>\n",
       "    <tr>\n",
       "      <th>3</th>\n",
       "      <td>lomas de zamora</td>\n",
       "      <td>126256149</td>\n",
       "      <td>female</td>\n",
       "      <td>07.Entre 56 y 65 años</td>\n",
       "      <td>Account Money</td>\n",
       "      <td>buenos aires</td>\n",
       "    </tr>\n",
       "    <tr>\n",
       "      <th>4</th>\n",
       "      <td>villa manzano</td>\n",
       "      <td>447582139</td>\n",
       "      <td>male</td>\n",
       "      <td>02.Entre 18 y 25 años</td>\n",
       "      <td>Debit Card</td>\n",
       "      <td>rio negro</td>\n",
       "    </tr>\n",
       "  </tbody>\n",
       "</table>\n",
       "</div>"
      ],
      "text/plain": [
       "                                  city     cus_id  gender  \\\n",
       "0                                 caba   47629682    male   \n",
       "1                     belen de escobar  184288617    male   \n",
       "2  san fernando del valle de catamarca  134359455  female   \n",
       "3                      lomas de zamora  126256149  female   \n",
       "4                        villa manzano  447582139    male   \n",
       "\n",
       "                     age       pay_type         province  \n",
       "0  03.Entre 26 y 30 años    Credit Card  capital federal  \n",
       "1  03.Entre 26 y 30 años  Account Money     buenos aires  \n",
       "2  03.Entre 26 y 30 años     Debit Card        catamarca  \n",
       "3  07.Entre 56 y 65 años  Account Money     buenos aires  \n",
       "4  02.Entre 18 y 25 años     Debit Card        rio negro  "
      ]
     },
     "execution_count": 13,
     "metadata": {},
     "output_type": "execute_result"
    }
   ],
   "source": [
    "print(demo.info())\n",
    "demo.head()"
   ]
  },
  {
   "cell_type": "code",
   "execution_count": 14,
   "metadata": {
    "scrolled": true
   },
   "outputs": [
    {
     "name": "stdout",
     "output_type": "stream",
     "text": [
      "city\n",
      "caba                                            1784\n",
      "capital federal                                 1440\n",
      "buenos aires                                     672\n",
      "cordoba                                          521\n",
      "la plata                                         481\n",
      "                                                ... \n",
      "adrogue, zona sur. provincia de buenos aires       1\n",
      "altamira                                           1\n",
      "atte 1                                             1\n",
      "san jose temperley                                 1\n",
      "la silleta                                         1\n",
      "Name: city, Length: 3155, dtype: int64\n",
      "\n",
      "\n",
      "gender\n",
      "male       15914\n",
      "female     12769\n",
      "Unknown     1783\n",
      "Name: gender, dtype: int64\n",
      "\n",
      "\n",
      "age\n",
      "06.Entre 41 y 55 años    6822\n",
      "04.Entre 31 y 35 años    5155\n",
      "03.Entre 26 y 30 años    5072\n",
      "05.Entre 36 y 40 años    4331\n",
      "02.Entre 18 y 25 años    4246\n",
      "00. Sin Dato             2700\n",
      "07.Entre 56 y 65 años    1545\n",
      "08.Mayor de 65 años       541\n",
      "01.Menor de 18 años        54\n",
      "Name: age, dtype: int64\n",
      "\n",
      "\n",
      "pay_type\n",
      "Credit Card         14308\n",
      "Account Money        7717\n",
      "Debit Card           7440\n",
      "Ticket                945\n",
      "Bank Transfer          20\n",
      "digital_currency       19\n",
      "ATM                    17\n",
      "Name: pay_type, dtype: int64\n",
      "\n",
      "\n",
      "province\n",
      "buenos aires            13367\n",
      "capital federal          8455\n",
      "cordoba                  1356\n",
      "santa fe                 1202\n",
      "mendoza                   622\n",
      "entre rios                579\n",
      "tucuman                   434\n",
      "rio negro                 392\n",
      "neuquen                   391\n",
      "misiones                  391\n",
      "salta                     378\n",
      "corrientes                367\n",
      "chaco                     363\n",
      "san luis                  283\n",
      "chubut                    279\n",
      "san juan                  267\n",
      "santa cruz                242\n",
      "formosa                   216\n",
      "jujuy                     209\n",
      "la rioja                  146\n",
      "gran buenos aires         132\n",
      "catamarca                 126\n",
      "santiago del estero       124\n",
      "la pampa                  108\n",
      "tierra del fuego           25\n",
      "virginia                    6\n",
      "nuevo leon                  1\n",
      "alto parana                 1\n",
      "são paulo                   1\n",
      "bs.as. g.b.a. norte         1\n",
      "buenos aires interio        1\n",
      "minnesota                   1\n",
      "Name: province, dtype: int64\n",
      "\n",
      "\n"
     ]
    }
   ],
   "source": [
    "check_values(demo)"
   ]
  },
  {
   "cell_type": "markdown",
   "metadata": {},
   "source": [
    "All columns have some type of error. The city column has its information way to stratified, and it is already contained on province, so it is going to be dropped in favour of the latest one. Gender, age and pay_type will be transformed to categorical. Province too but first we need to fix certain values (in particular, we will just divide the ones related to buenos aires in two: Buenos Aires and Buenos Aires City (CABA)."
   ]
  },
  {
   "cell_type": "code",
   "execution_count": 15,
   "metadata": {},
   "outputs": [],
   "source": [
    "demo.drop('city', axis=1, inplace=True)"
   ]
  },
  {
   "cell_type": "code",
   "execution_count": 16,
   "metadata": {},
   "outputs": [
    {
     "data": {
      "text/plain": [
       "{3: 'Entre 26 y 30 años',\n",
       " 7: 'Entre 56 y 65 años',\n",
       " 2: 'Entre 18 y 25 años',\n",
       " 6: 'Entre 41 y 55 años',\n",
       " 4: 'Entre 31 y 35 años',\n",
       " 0: ' Sin Dato',\n",
       " 5: 'Entre 36 y 40 años',\n",
       " 8: 'Mayor de 65 años',\n",
       " 1: 'Menor de 18 años'}"
      ]
     },
     "execution_count": 16,
     "metadata": {},
     "output_type": "execute_result"
    }
   ],
   "source": [
    "age_cat_map = {}\n",
    "for elem in demo['age'].unique():\n",
    "    num = int(elem.split('.')[0])\n",
    "    cat = elem.split('.')[1]\n",
    "    age_cat_map[num] = cat\n",
    "age_cat_map"
   ]
  },
  {
   "cell_type": "code",
   "execution_count": 17,
   "metadata": {},
   "outputs": [
    {
     "data": {
      "text/html": [
       "<div>\n",
       "<style scoped>\n",
       "    .dataframe tbody tr th:only-of-type {\n",
       "        vertical-align: middle;\n",
       "    }\n",
       "\n",
       "    .dataframe tbody tr th {\n",
       "        vertical-align: top;\n",
       "    }\n",
       "\n",
       "    .dataframe thead th {\n",
       "        text-align: right;\n",
       "    }\n",
       "</style>\n",
       "<table border=\"1\" class=\"dataframe\">\n",
       "  <thead>\n",
       "    <tr style=\"text-align: right;\">\n",
       "      <th></th>\n",
       "      <th>cus_id</th>\n",
       "      <th>gender</th>\n",
       "      <th>pay_type</th>\n",
       "      <th>province</th>\n",
       "      <th>age_int</th>\n",
       "    </tr>\n",
       "  </thead>\n",
       "  <tbody>\n",
       "    <tr>\n",
       "      <th>0</th>\n",
       "      <td>47629682</td>\n",
       "      <td>male</td>\n",
       "      <td>Credit Card</td>\n",
       "      <td>capital federal</td>\n",
       "      <td>3</td>\n",
       "    </tr>\n",
       "    <tr>\n",
       "      <th>1</th>\n",
       "      <td>184288617</td>\n",
       "      <td>male</td>\n",
       "      <td>Account Money</td>\n",
       "      <td>buenos aires</td>\n",
       "      <td>3</td>\n",
       "    </tr>\n",
       "    <tr>\n",
       "      <th>2</th>\n",
       "      <td>134359455</td>\n",
       "      <td>female</td>\n",
       "      <td>Debit Card</td>\n",
       "      <td>catamarca</td>\n",
       "      <td>3</td>\n",
       "    </tr>\n",
       "    <tr>\n",
       "      <th>3</th>\n",
       "      <td>126256149</td>\n",
       "      <td>female</td>\n",
       "      <td>Account Money</td>\n",
       "      <td>buenos aires</td>\n",
       "      <td>7</td>\n",
       "    </tr>\n",
       "    <tr>\n",
       "      <th>4</th>\n",
       "      <td>447582139</td>\n",
       "      <td>male</td>\n",
       "      <td>Debit Card</td>\n",
       "      <td>rio negro</td>\n",
       "      <td>2</td>\n",
       "    </tr>\n",
       "    <tr>\n",
       "      <th>...</th>\n",
       "      <td>...</td>\n",
       "      <td>...</td>\n",
       "      <td>...</td>\n",
       "      <td>...</td>\n",
       "      <td>...</td>\n",
       "    </tr>\n",
       "    <tr>\n",
       "      <th>30461</th>\n",
       "      <td>364733791</td>\n",
       "      <td>male</td>\n",
       "      <td>Account Money</td>\n",
       "      <td>buenos aires</td>\n",
       "      <td>2</td>\n",
       "    </tr>\n",
       "    <tr>\n",
       "      <th>30462</th>\n",
       "      <td>80326400</td>\n",
       "      <td>male</td>\n",
       "      <td>Account Money</td>\n",
       "      <td>buenos aires</td>\n",
       "      <td>6</td>\n",
       "    </tr>\n",
       "    <tr>\n",
       "      <th>30463</th>\n",
       "      <td>258115316</td>\n",
       "      <td>male</td>\n",
       "      <td>Debit Card</td>\n",
       "      <td>mendoza</td>\n",
       "      <td>6</td>\n",
       "    </tr>\n",
       "    <tr>\n",
       "      <th>30464</th>\n",
       "      <td>267027856</td>\n",
       "      <td>female</td>\n",
       "      <td>Credit Card</td>\n",
       "      <td>tucuman</td>\n",
       "      <td>3</td>\n",
       "    </tr>\n",
       "    <tr>\n",
       "      <th>30465</th>\n",
       "      <td>127140551</td>\n",
       "      <td>female</td>\n",
       "      <td>Credit Card</td>\n",
       "      <td>chubut</td>\n",
       "      <td>7</td>\n",
       "    </tr>\n",
       "  </tbody>\n",
       "</table>\n",
       "<p>30466 rows × 5 columns</p>\n",
       "</div>"
      ],
      "text/plain": [
       "          cus_id  gender       pay_type         province  age_int\n",
       "0       47629682    male    Credit Card  capital federal        3\n",
       "1      184288617    male  Account Money     buenos aires        3\n",
       "2      134359455  female     Debit Card        catamarca        3\n",
       "3      126256149  female  Account Money     buenos aires        7\n",
       "4      447582139    male     Debit Card        rio negro        2\n",
       "...          ...     ...            ...              ...      ...\n",
       "30461  364733791    male  Account Money     buenos aires        2\n",
       "30462   80326400    male  Account Money     buenos aires        6\n",
       "30463  258115316    male     Debit Card          mendoza        6\n",
       "30464  267027856  female    Credit Card          tucuman        3\n",
       "30465  127140551  female    Credit Card           chubut        7\n",
       "\n",
       "[30466 rows x 5 columns]"
      ]
     },
     "execution_count": 17,
     "metadata": {},
     "output_type": "execute_result"
    }
   ],
   "source": [
    "# Fix RANGO_EDAD - Not using to_category because the categories are already defined\n",
    "demo['age_int'] = demo['age'].str.split('.').str[0].astype(int)\n",
    "demo.drop('age', axis=1, inplace=True)\n",
    "demo"
   ]
  },
  {
   "cell_type": "code",
   "execution_count": 18,
   "metadata": {
    "scrolled": true
   },
   "outputs": [
    {
     "data": {
      "text/plain": [
       "buenos aires           13501\n",
       "capital federal         8455\n",
       "cordoba                 1356\n",
       "santa fe                1202\n",
       "mendoza                  622\n",
       "entre rios               579\n",
       "tucuman                  434\n",
       "rio negro                392\n",
       "neuquen                  391\n",
       "misiones                 391\n",
       "salta                    378\n",
       "corrientes               367\n",
       "chaco                    363\n",
       "san luis                 283\n",
       "chubut                   279\n",
       "san juan                 267\n",
       "santa cruz               242\n",
       "formosa                  216\n",
       "jujuy                    209\n",
       "la rioja                 146\n",
       "catamarca                126\n",
       "santiago del estero      124\n",
       "la pampa                 108\n",
       "tierra del fuego          25\n",
       "virginia                   6\n",
       "nuevo leon                 1\n",
       "alto parana                1\n",
       "são paulo                  1\n",
       "minnesota                  1\n",
       "Name: province, dtype: int64"
      ]
     },
     "execution_count": 18,
     "metadata": {},
     "output_type": "execute_result"
    }
   ],
   "source": [
    "# Fix ESTADO before transforming to categorical\n",
    "# Only divide Buenos Aires between CABA and Buenos Aires (GBA)\n",
    "demo['province'].replace('gran buenos aires', 'buenos aires', inplace=True)\n",
    "demo['province'].replace('buenos aires interio', 'buenos aires', inplace=True)\n",
    "demo['province'].replace('bs.as. g.b.a. norte', 'buenos aires', inplace=True)\n",
    "\n",
    "demo['province'].value_counts()"
   ]
  },
  {
   "cell_type": "code",
   "execution_count": 19,
   "metadata": {},
   "outputs": [
    {
     "data": {
      "text/html": [
       "<div>\n",
       "<style scoped>\n",
       "    .dataframe tbody tr th:only-of-type {\n",
       "        vertical-align: middle;\n",
       "    }\n",
       "\n",
       "    .dataframe tbody tr th {\n",
       "        vertical-align: top;\n",
       "    }\n",
       "\n",
       "    .dataframe thead th {\n",
       "        text-align: right;\n",
       "    }\n",
       "</style>\n",
       "<table border=\"1\" class=\"dataframe\">\n",
       "  <thead>\n",
       "    <tr style=\"text-align: right;\">\n",
       "      <th></th>\n",
       "      <th>cus_id</th>\n",
       "      <th>age_int</th>\n",
       "      <th>gender_int</th>\n",
       "      <th>pay_type_int</th>\n",
       "      <th>province_int</th>\n",
       "    </tr>\n",
       "  </thead>\n",
       "  <tbody>\n",
       "    <tr>\n",
       "      <th>0</th>\n",
       "      <td>47629682</td>\n",
       "      <td>3</td>\n",
       "      <td>2</td>\n",
       "      <td>3</td>\n",
       "      <td>2</td>\n",
       "    </tr>\n",
       "    <tr>\n",
       "      <th>1</th>\n",
       "      <td>184288617</td>\n",
       "      <td>3</td>\n",
       "      <td>2</td>\n",
       "      <td>1</td>\n",
       "      <td>1</td>\n",
       "    </tr>\n",
       "    <tr>\n",
       "      <th>2</th>\n",
       "      <td>134359455</td>\n",
       "      <td>3</td>\n",
       "      <td>1</td>\n",
       "      <td>4</td>\n",
       "      <td>3</td>\n",
       "    </tr>\n",
       "    <tr>\n",
       "      <th>3</th>\n",
       "      <td>126256149</td>\n",
       "      <td>7</td>\n",
       "      <td>1</td>\n",
       "      <td>1</td>\n",
       "      <td>1</td>\n",
       "    </tr>\n",
       "    <tr>\n",
       "      <th>4</th>\n",
       "      <td>447582139</td>\n",
       "      <td>2</td>\n",
       "      <td>2</td>\n",
       "      <td>4</td>\n",
       "      <td>18</td>\n",
       "    </tr>\n",
       "  </tbody>\n",
       "</table>\n",
       "</div>"
      ],
      "text/plain": [
       "      cus_id  age_int  gender_int  pay_type_int  province_int\n",
       "0   47629682        3           2             3             2\n",
       "1  184288617        3           2             1             1\n",
       "2  134359455        3           1             4             3\n",
       "3  126256149        7           1             1             1\n",
       "4  447582139        2           2             4            18"
      ]
     },
     "execution_count": 19,
     "metadata": {},
     "output_type": "execute_result"
    }
   ],
   "source": [
    "demo_fixed, demo_cat_map = to_category(demo, ['gender', 'pay_type', 'province'])\n",
    "demo_fixed.head()"
   ]
  },
  {
   "cell_type": "markdown",
   "metadata": {},
   "source": [
    "### Fixing ACCOUNT_MONEY"
   ]
  },
  {
   "cell_type": "code",
   "execution_count": 20,
   "metadata": {},
   "outputs": [
    {
     "data": {
      "text/html": [
       "<div>\n",
       "<style scoped>\n",
       "    .dataframe tbody tr th:only-of-type {\n",
       "        vertical-align: middle;\n",
       "    }\n",
       "\n",
       "    .dataframe tbody tr th {\n",
       "        vertical-align: top;\n",
       "    }\n",
       "\n",
       "    .dataframe thead th {\n",
       "        text-align: right;\n",
       "    }\n",
       "</style>\n",
       "<table border=\"1\" class=\"dataframe\">\n",
       "  <thead>\n",
       "    <tr style=\"text-align: right;\">\n",
       "      <th></th>\n",
       "      <th>cus_id</th>\n",
       "      <th>money_1</th>\n",
       "      <th>money_2</th>\n",
       "      <th>investment</th>\n",
       "    </tr>\n",
       "  </thead>\n",
       "  <tbody>\n",
       "    <tr>\n",
       "      <th>0</th>\n",
       "      <td>54018</td>\n",
       "      <td>250.99</td>\n",
       "      <td>0.00</td>\n",
       "      <td>pending</td>\n",
       "    </tr>\n",
       "    <tr>\n",
       "      <th>1</th>\n",
       "      <td>23513</td>\n",
       "      <td>20.05</td>\n",
       "      <td>2220.05</td>\n",
       "      <td>warmup</td>\n",
       "    </tr>\n",
       "    <tr>\n",
       "      <th>2</th>\n",
       "      <td>21230</td>\n",
       "      <td>0.00</td>\n",
       "      <td>0.00</td>\n",
       "      <td>warmup</td>\n",
       "    </tr>\n",
       "    <tr>\n",
       "      <th>3</th>\n",
       "      <td>100387</td>\n",
       "      <td>0.00</td>\n",
       "      <td>0.00</td>\n",
       "      <td>eligible</td>\n",
       "    </tr>\n",
       "    <tr>\n",
       "      <th>4</th>\n",
       "      <td>97357</td>\n",
       "      <td>0.00</td>\n",
       "      <td>0.00</td>\n",
       "      <td>eligible</td>\n",
       "    </tr>\n",
       "  </tbody>\n",
       "</table>\n",
       "</div>"
      ],
      "text/plain": [
       "   cus_id  money_1  money_2 investment\n",
       "0   54018   250.99     0.00    pending\n",
       "1   23513    20.05  2220.05     warmup\n",
       "2   21230     0.00     0.00     warmup\n",
       "3  100387     0.00     0.00   eligible\n",
       "4   97357     0.00     0.00   eligible"
      ]
     },
     "execution_count": 20,
     "metadata": {},
     "output_type": "execute_result"
    }
   ],
   "source": [
    "money.head()"
   ]
  },
  {
   "cell_type": "code",
   "execution_count": 21,
   "metadata": {},
   "outputs": [
    {
     "name": "stdout",
     "output_type": "stream",
     "text": [
      "money_1\n",
      "Mean:  3060.4674506930683\n",
      "Std. Dev.:  23787.312260479273\n",
      "\n",
      "\n",
      "money_2\n",
      "Mean:  2741.5737557209773\n",
      "Std. Dev.:  22387.86036034167\n",
      "\n",
      "\n"
     ]
    }
   ],
   "source": [
    "check_stats(money, ['money_1', 'money_2'])"
   ]
  },
  {
   "cell_type": "code",
   "execution_count": 22,
   "metadata": {},
   "outputs": [],
   "source": [
    "# Only 4% values on missing PLATA_CUENTA_2, could use mean for imputation\n",
    "money['money_2'].fillna(money['money_2'].mean(), inplace=True)"
   ]
  },
  {
   "cell_type": "code",
   "execution_count": 23,
   "metadata": {},
   "outputs": [
    {
     "name": "stdout",
     "output_type": "stream",
     "text": [
      "money_1\n",
      "0.00        25883\n",
      "50.00         158\n",
      "500.00        112\n",
      "100.00        102\n",
      "0.01          100\n",
      "            ...  \n",
      "4298.87         1\n",
      "20.41           1\n",
      "863.84          1\n",
      "11399.73        1\n",
      "4580.00         1\n",
      "Name: money_1, Length: 12235, dtype: int64\n",
      "\n",
      "\n",
      "money_2\n",
      "0.000000        25682\n",
      "2741.573756      1861\n",
      "50.000000         125\n",
      "100.000000        103\n",
      "0.010000           93\n",
      "                ...  \n",
      "20.390000           1\n",
      "4109.680000         1\n",
      "12095.920000        1\n",
      "275.790000          1\n",
      "22238.700000        1\n",
      "Name: money_2, Length: 10926, dtype: int64\n",
      "\n",
      "\n",
      "investment\n",
      "eligible           18101\n",
      "warmup              9933\n",
      "pending             5611\n",
      "investing           5591\n",
      "non_eligible         964\n",
      "disabled             236\n",
      "disable_pending      117\n",
      "rejected              53\n",
      "banned                30\n",
      "Name: investment, dtype: int64\n",
      "\n",
      "\n"
     ]
    }
   ],
   "source": [
    "check_values(money)"
   ]
  },
  {
   "cell_type": "code",
   "execution_count": 24,
   "metadata": {},
   "outputs": [
    {
     "data": {
      "text/plain": [
       "cus_id        0\n",
       "money_1       0\n",
       "money_2       0\n",
       "investment    0\n",
       "dtype: int64"
      ]
     },
     "execution_count": 24,
     "metadata": {},
     "output_type": "execute_result"
    }
   ],
   "source": [
    "# Only 2% missing on INVERSION, replacing with mode and then converting to categorical\n",
    "money['investment'].fillna(money['investment'].mode().values[0], inplace=True)\n",
    "money.isnull().sum()"
   ]
  },
  {
   "cell_type": "code",
   "execution_count": 25,
   "metadata": {},
   "outputs": [
    {
     "data": {
      "text/html": [
       "<div>\n",
       "<style scoped>\n",
       "    .dataframe tbody tr th:only-of-type {\n",
       "        vertical-align: middle;\n",
       "    }\n",
       "\n",
       "    .dataframe tbody tr th {\n",
       "        vertical-align: top;\n",
       "    }\n",
       "\n",
       "    .dataframe thead th {\n",
       "        text-align: right;\n",
       "    }\n",
       "</style>\n",
       "<table border=\"1\" class=\"dataframe\">\n",
       "  <thead>\n",
       "    <tr style=\"text-align: right;\">\n",
       "      <th></th>\n",
       "      <th>cus_id</th>\n",
       "      <th>money_1</th>\n",
       "      <th>money_2</th>\n",
       "      <th>investment_int</th>\n",
       "    </tr>\n",
       "  </thead>\n",
       "  <tbody>\n",
       "    <tr>\n",
       "      <th>0</th>\n",
       "      <td>54018</td>\n",
       "      <td>250.99</td>\n",
       "      <td>0.00</td>\n",
       "      <td>6</td>\n",
       "    </tr>\n",
       "    <tr>\n",
       "      <th>1</th>\n",
       "      <td>23513</td>\n",
       "      <td>20.05</td>\n",
       "      <td>2220.05</td>\n",
       "      <td>8</td>\n",
       "    </tr>\n",
       "    <tr>\n",
       "      <th>2</th>\n",
       "      <td>21230</td>\n",
       "      <td>0.00</td>\n",
       "      <td>0.00</td>\n",
       "      <td>8</td>\n",
       "    </tr>\n",
       "    <tr>\n",
       "      <th>3</th>\n",
       "      <td>100387</td>\n",
       "      <td>0.00</td>\n",
       "      <td>0.00</td>\n",
       "      <td>3</td>\n",
       "    </tr>\n",
       "    <tr>\n",
       "      <th>4</th>\n",
       "      <td>97357</td>\n",
       "      <td>0.00</td>\n",
       "      <td>0.00</td>\n",
       "      <td>3</td>\n",
       "    </tr>\n",
       "  </tbody>\n",
       "</table>\n",
       "</div>"
      ],
      "text/plain": [
       "   cus_id  money_1  money_2  investment_int\n",
       "0   54018   250.99     0.00               6\n",
       "1   23513    20.05  2220.05               8\n",
       "2   21230     0.00     0.00               8\n",
       "3  100387     0.00     0.00               3\n",
       "4   97357     0.00     0.00               3"
      ]
     },
     "execution_count": 25,
     "metadata": {},
     "output_type": "execute_result"
    }
   ],
   "source": [
    "money_fixed, money_cat_map = to_category(money, 'investment')\n",
    "money_fixed.head()"
   ]
  },
  {
   "cell_type": "markdown",
   "metadata": {},
   "source": [
    "### Fixing MARKETPLACE_DATA"
   ]
  },
  {
   "cell_type": "code",
   "execution_count": 26,
   "metadata": {},
   "outputs": [
    {
     "data": {
      "text/html": [
       "<div>\n",
       "<style scoped>\n",
       "    .dataframe tbody tr th:only-of-type {\n",
       "        vertical-align: middle;\n",
       "    }\n",
       "\n",
       "    .dataframe tbody tr th {\n",
       "        vertical-align: top;\n",
       "    }\n",
       "\n",
       "    .dataframe thead th {\n",
       "        text-align: right;\n",
       "    }\n",
       "</style>\n",
       "<table border=\"1\" class=\"dataframe\">\n",
       "  <thead>\n",
       "    <tr style=\"text-align: right;\">\n",
       "      <th></th>\n",
       "      <th>cus_id</th>\n",
       "      <th>spent_pb</th>\n",
       "      <th>last_date_pb</th>\n",
       "      <th>frequency_pb</th>\n",
       "    </tr>\n",
       "  </thead>\n",
       "  <tbody>\n",
       "    <tr>\n",
       "      <th>0</th>\n",
       "      <td>53621056</td>\n",
       "      <td>71.51</td>\n",
       "      <td>3/30/2019</td>\n",
       "      <td>1</td>\n",
       "    </tr>\n",
       "    <tr>\n",
       "      <th>1</th>\n",
       "      <td>308208758</td>\n",
       "      <td>269.20</td>\n",
       "      <td>5/30/2019</td>\n",
       "      <td>11</td>\n",
       "    </tr>\n",
       "    <tr>\n",
       "      <th>2</th>\n",
       "      <td>30591970</td>\n",
       "      <td>149.22</td>\n",
       "      <td>3/24/2019</td>\n",
       "      <td>4</td>\n",
       "    </tr>\n",
       "    <tr>\n",
       "      <th>3</th>\n",
       "      <td>343783095</td>\n",
       "      <td>352.15</td>\n",
       "      <td>5/31/2019</td>\n",
       "      <td>11</td>\n",
       "    </tr>\n",
       "    <tr>\n",
       "      <th>4</th>\n",
       "      <td>163876883</td>\n",
       "      <td>1.10</td>\n",
       "      <td>5/10/2019</td>\n",
       "      <td>1</td>\n",
       "    </tr>\n",
       "  </tbody>\n",
       "</table>\n",
       "</div>"
      ],
      "text/plain": [
       "      cus_id  spent_pb last_date_pb  frequency_pb\n",
       "0   53621056     71.51    3/30/2019             1\n",
       "1  308208758    269.20    5/30/2019            11\n",
       "2   30591970    149.22    3/24/2019             4\n",
       "3  343783095    352.15    5/31/2019            11\n",
       "4  163876883      1.10    5/10/2019             1"
      ]
     },
     "execution_count": 26,
     "metadata": {},
     "output_type": "execute_result"
    }
   ],
   "source": [
    "market.head()"
   ]
  },
  {
   "cell_type": "code",
   "execution_count": 27,
   "metadata": {},
   "outputs": [
    {
     "data": {
      "text/html": [
       "<div>\n",
       "<style scoped>\n",
       "    .dataframe tbody tr th:only-of-type {\n",
       "        vertical-align: middle;\n",
       "    }\n",
       "\n",
       "    .dataframe tbody tr th {\n",
       "        vertical-align: top;\n",
       "    }\n",
       "\n",
       "    .dataframe thead th {\n",
       "        text-align: right;\n",
       "    }\n",
       "</style>\n",
       "<table border=\"1\" class=\"dataframe\">\n",
       "  <thead>\n",
       "    <tr style=\"text-align: right;\">\n",
       "      <th></th>\n",
       "      <th>cus_id</th>\n",
       "      <th>spent_pb</th>\n",
       "      <th>last_date_pb</th>\n",
       "      <th>frequency_pb</th>\n",
       "    </tr>\n",
       "  </thead>\n",
       "  <tbody>\n",
       "    <tr>\n",
       "      <th>18671</th>\n",
       "      <td>238630904</td>\n",
       "      <td>16.57</td>\n",
       "      <td>2019-06-01</td>\n",
       "      <td>2</td>\n",
       "    </tr>\n",
       "    <tr>\n",
       "      <th>18900</th>\n",
       "      <td>39010408</td>\n",
       "      <td>283.00</td>\n",
       "      <td>2019-06-01</td>\n",
       "      <td>9</td>\n",
       "    </tr>\n",
       "    <tr>\n",
       "      <th>14885</th>\n",
       "      <td>23218066</td>\n",
       "      <td>524.79</td>\n",
       "      <td>2019-06-01</td>\n",
       "      <td>12</td>\n",
       "    </tr>\n",
       "    <tr>\n",
       "      <th>13015</th>\n",
       "      <td>77522158</td>\n",
       "      <td>468.90</td>\n",
       "      <td>2019-06-01</td>\n",
       "      <td>12</td>\n",
       "    </tr>\n",
       "    <tr>\n",
       "      <th>10170</th>\n",
       "      <td>140506832</td>\n",
       "      <td>502.35</td>\n",
       "      <td>2019-06-01</td>\n",
       "      <td>7</td>\n",
       "    </tr>\n",
       "    <tr>\n",
       "      <th>...</th>\n",
       "      <td>...</td>\n",
       "      <td>...</td>\n",
       "      <td>...</td>\n",
       "      <td>...</td>\n",
       "    </tr>\n",
       "    <tr>\n",
       "      <th>9044</th>\n",
       "      <td>179610908</td>\n",
       "      <td>1.95</td>\n",
       "      <td>2018-12-01</td>\n",
       "      <td>1</td>\n",
       "    </tr>\n",
       "    <tr>\n",
       "      <th>12081</th>\n",
       "      <td>344659653</td>\n",
       "      <td>62.38</td>\n",
       "      <td>2018-12-01</td>\n",
       "      <td>1</td>\n",
       "    </tr>\n",
       "    <tr>\n",
       "      <th>18323</th>\n",
       "      <td>116043897</td>\n",
       "      <td>1.53</td>\n",
       "      <td>2018-12-01</td>\n",
       "      <td>1</td>\n",
       "    </tr>\n",
       "    <tr>\n",
       "      <th>4932</th>\n",
       "      <td>170814081</td>\n",
       "      <td>176.78</td>\n",
       "      <td>2018-12-01</td>\n",
       "      <td>1</td>\n",
       "    </tr>\n",
       "    <tr>\n",
       "      <th>14919</th>\n",
       "      <td>45015314</td>\n",
       "      <td>41.58</td>\n",
       "      <td>2018-12-01</td>\n",
       "      <td>1</td>\n",
       "    </tr>\n",
       "  </tbody>\n",
       "</table>\n",
       "<p>24442 rows × 4 columns</p>\n",
       "</div>"
      ],
      "text/plain": [
       "          cus_id  spent_pb last_date_pb  frequency_pb\n",
       "18671  238630904     16.57   2019-06-01             2\n",
       "18900   39010408    283.00   2019-06-01             9\n",
       "14885   23218066    524.79   2019-06-01            12\n",
       "13015   77522158    468.90   2019-06-01            12\n",
       "10170  140506832    502.35   2019-06-01             7\n",
       "...          ...       ...          ...           ...\n",
       "9044   179610908      1.95   2018-12-01             1\n",
       "12081  344659653     62.38   2018-12-01             1\n",
       "18323  116043897      1.53   2018-12-01             1\n",
       "4932   170814081    176.78   2018-12-01             1\n",
       "14919   45015314     41.58   2018-12-01             1\n",
       "\n",
       "[24442 rows x 4 columns]"
      ]
     },
     "execution_count": 27,
     "metadata": {},
     "output_type": "execute_result"
    }
   ],
   "source": [
    "market['last_date_pb'] = pd.to_datetime(market['last_date_pb'])\n",
    "market.sort_values('last_date_pb', ascending=False)"
   ]
  },
  {
   "cell_type": "code",
   "execution_count": 28,
   "metadata": {},
   "outputs": [],
   "source": [
    "# Take only from May 2019 since thats the timeframe we had in the other table\n",
    "market['last_date_pb'] = pd.to_datetime(market['last_date_pb'])\n",
    "market_fixed = market[market['last_date_pb'] >= datetime(year=2019, month=5, day=1)].copy()\n",
    "market_fixed.drop('last_date_pb', axis=1, inplace=True)"
   ]
  },
  {
   "cell_type": "markdown",
   "metadata": {},
   "source": [
    "### Fixing PAYMENTS"
   ]
  },
  {
   "cell_type": "code",
   "execution_count": 29,
   "metadata": {},
   "outputs": [
    {
     "data": {
      "text/html": [
       "<div>\n",
       "<style scoped>\n",
       "    .dataframe tbody tr th:only-of-type {\n",
       "        vertical-align: middle;\n",
       "    }\n",
       "\n",
       "    .dataframe tbody tr th {\n",
       "        vertical-align: top;\n",
       "    }\n",
       "\n",
       "    .dataframe thead th {\n",
       "        text-align: right;\n",
       "    }\n",
       "</style>\n",
       "<table border=\"1\" class=\"dataframe\">\n",
       "  <thead>\n",
       "    <tr style=\"text-align: right;\">\n",
       "      <th></th>\n",
       "      <th>date</th>\n",
       "      <th>cus_id_seller</th>\n",
       "      <th>cus_id</th>\n",
       "      <th>spent_pa</th>\n",
       "      <th>segment</th>\n",
       "      <th>discount_pa</th>\n",
       "    </tr>\n",
       "  </thead>\n",
       "  <tbody>\n",
       "    <tr>\n",
       "      <th>0</th>\n",
       "      <td>5/25/2019</td>\n",
       "      <td>314941456</td>\n",
       "      <td>20663512</td>\n",
       "      <td>11.3566</td>\n",
       "      <td>Instore</td>\n",
       "      <td>2.2312</td>\n",
       "    </tr>\n",
       "    <tr>\n",
       "      <th>1</th>\n",
       "      <td>6/20/2019</td>\n",
       "      <td>251693291</td>\n",
       "      <td>444286946</td>\n",
       "      <td>4.6190</td>\n",
       "      <td>Transport</td>\n",
       "      <td>0.9238</td>\n",
       "    </tr>\n",
       "    <tr>\n",
       "      <th>2</th>\n",
       "      <td>1/10/2019</td>\n",
       "      <td>251693291</td>\n",
       "      <td>20663512</td>\n",
       "      <td>5.3519</td>\n",
       "      <td>Transport</td>\n",
       "      <td>1.0704</td>\n",
       "    </tr>\n",
       "    <tr>\n",
       "      <th>3</th>\n",
       "      <td>3/28/2019</td>\n",
       "      <td>251693291</td>\n",
       "      <td>20663512</td>\n",
       "      <td>4.5589</td>\n",
       "      <td>Transport</td>\n",
       "      <td>0.0000</td>\n",
       "    </tr>\n",
       "    <tr>\n",
       "      <th>4</th>\n",
       "      <td>1/7/2019</td>\n",
       "      <td>251693291</td>\n",
       "      <td>20663512</td>\n",
       "      <td>8.0278</td>\n",
       "      <td>Transport</td>\n",
       "      <td>0.0000</td>\n",
       "    </tr>\n",
       "  </tbody>\n",
       "</table>\n",
       "</div>"
      ],
      "text/plain": [
       "        date  cus_id_seller     cus_id  spent_pa    segment  discount_pa\n",
       "0  5/25/2019      314941456   20663512   11.3566    Instore       2.2312\n",
       "1  6/20/2019      251693291  444286946    4.6190  Transport       0.9238\n",
       "2  1/10/2019      251693291   20663512    5.3519  Transport       1.0704\n",
       "3  3/28/2019      251693291   20663512    4.5589  Transport       0.0000\n",
       "4   1/7/2019      251693291   20663512    8.0278  Transport       0.0000"
      ]
     },
     "execution_count": 29,
     "metadata": {},
     "output_type": "execute_result"
    }
   ],
   "source": [
    "payments.drop_duplicates(ignore_index=True, inplace=True)\n",
    "payments.head()"
   ]
  },
  {
   "cell_type": "code",
   "execution_count": 30,
   "metadata": {},
   "outputs": [
    {
     "data": {
      "text/html": [
       "<div>\n",
       "<style scoped>\n",
       "    .dataframe tbody tr th:only-of-type {\n",
       "        vertical-align: middle;\n",
       "    }\n",
       "\n",
       "    .dataframe tbody tr th {\n",
       "        vertical-align: top;\n",
       "    }\n",
       "\n",
       "    .dataframe thead th {\n",
       "        text-align: right;\n",
       "    }\n",
       "</style>\n",
       "<table border=\"1\" class=\"dataframe\">\n",
       "  <thead>\n",
       "    <tr style=\"text-align: right;\">\n",
       "      <th></th>\n",
       "      <th>date</th>\n",
       "      <th>cus_id_seller</th>\n",
       "      <th>cus_id</th>\n",
       "      <th>spent_pa</th>\n",
       "      <th>segment</th>\n",
       "      <th>discount_pa</th>\n",
       "    </tr>\n",
       "  </thead>\n",
       "  <tbody>\n",
       "    <tr>\n",
       "      <th>370642</th>\n",
       "      <td>7/1/2019</td>\n",
       "      <td>387063044</td>\n",
       "      <td>107897694</td>\n",
       "      <td>7.3426</td>\n",
       "      <td>Instore</td>\n",
       "      <td>0.000</td>\n",
       "    </tr>\n",
       "    <tr>\n",
       "      <th>402537</th>\n",
       "      <td>7/1/2019</td>\n",
       "      <td>251693291</td>\n",
       "      <td>106730233</td>\n",
       "      <td>7.0650</td>\n",
       "      <td>Transport</td>\n",
       "      <td>0.000</td>\n",
       "    </tr>\n",
       "    <tr>\n",
       "      <th>200963</th>\n",
       "      <td>7/1/2019</td>\n",
       "      <td>314941456</td>\n",
       "      <td>146844853</td>\n",
       "      <td>11.4217</td>\n",
       "      <td>Instore</td>\n",
       "      <td>2.355</td>\n",
       "    </tr>\n",
       "    <tr>\n",
       "      <th>115429</th>\n",
       "      <td>7/1/2019</td>\n",
       "      <td>254303242</td>\n",
       "      <td>25483018</td>\n",
       "      <td>1.1775</td>\n",
       "      <td>Cellphone Recharge</td>\n",
       "      <td>0.000</td>\n",
       "    </tr>\n",
       "    <tr>\n",
       "      <th>293641</th>\n",
       "      <td>7/1/2019</td>\n",
       "      <td>251693291</td>\n",
       "      <td>201458340</td>\n",
       "      <td>9.4200</td>\n",
       "      <td>Transport</td>\n",
       "      <td>0.000</td>\n",
       "    </tr>\n",
       "    <tr>\n",
       "      <th>...</th>\n",
       "      <td>...</td>\n",
       "      <td>...</td>\n",
       "      <td>...</td>\n",
       "      <td>...</td>\n",
       "      <td>...</td>\n",
       "      <td>...</td>\n",
       "    </tr>\n",
       "    <tr>\n",
       "      <th>115674</th>\n",
       "      <td>1/1/2019</td>\n",
       "      <td>295153733</td>\n",
       "      <td>28562261</td>\n",
       "      <td>2.6525</td>\n",
       "      <td>Cellphone Recharge</td>\n",
       "      <td>0.000</td>\n",
       "    </tr>\n",
       "    <tr>\n",
       "      <th>344344</th>\n",
       "      <td>1/1/2019</td>\n",
       "      <td>251693291</td>\n",
       "      <td>59211645</td>\n",
       "      <td>5.3050</td>\n",
       "      <td>Transport</td>\n",
       "      <td>0.000</td>\n",
       "    </tr>\n",
       "    <tr>\n",
       "      <th>189550</th>\n",
       "      <td>1/1/2019</td>\n",
       "      <td>254303242</td>\n",
       "      <td>161642444</td>\n",
       "      <td>2.6525</td>\n",
       "      <td>Cellphone Recharge</td>\n",
       "      <td>0.000</td>\n",
       "    </tr>\n",
       "    <tr>\n",
       "      <th>23657</th>\n",
       "      <td>1/1/2019</td>\n",
       "      <td>254303242</td>\n",
       "      <td>332683745</td>\n",
       "      <td>5.3050</td>\n",
       "      <td>Cellphone Recharge</td>\n",
       "      <td>0.000</td>\n",
       "    </tr>\n",
       "    <tr>\n",
       "      <th>36319</th>\n",
       "      <td>1/1/2019</td>\n",
       "      <td>316520595</td>\n",
       "      <td>205421780</td>\n",
       "      <td>15.9151</td>\n",
       "      <td>Instore</td>\n",
       "      <td>0.000</td>\n",
       "    </tr>\n",
       "  </tbody>\n",
       "</table>\n",
       "<p>515378 rows × 6 columns</p>\n",
       "</div>"
      ],
      "text/plain": [
       "            date  cus_id_seller     cus_id  spent_pa             segment  \\\n",
       "370642  7/1/2019      387063044  107897694    7.3426             Instore   \n",
       "402537  7/1/2019      251693291  106730233    7.0650           Transport   \n",
       "200963  7/1/2019      314941456  146844853   11.4217             Instore   \n",
       "115429  7/1/2019      254303242   25483018    1.1775  Cellphone Recharge   \n",
       "293641  7/1/2019      251693291  201458340    9.4200           Transport   \n",
       "...          ...            ...        ...       ...                 ...   \n",
       "115674  1/1/2019      295153733   28562261    2.6525  Cellphone Recharge   \n",
       "344344  1/1/2019      251693291   59211645    5.3050           Transport   \n",
       "189550  1/1/2019      254303242  161642444    2.6525  Cellphone Recharge   \n",
       "23657   1/1/2019      254303242  332683745    5.3050  Cellphone Recharge   \n",
       "36319   1/1/2019      316520595  205421780   15.9151             Instore   \n",
       "\n",
       "        discount_pa  \n",
       "370642        0.000  \n",
       "402537        0.000  \n",
       "200963        2.355  \n",
       "115429        0.000  \n",
       "293641        0.000  \n",
       "...             ...  \n",
       "115674        0.000  \n",
       "344344        0.000  \n",
       "189550        0.000  \n",
       "23657         0.000  \n",
       "36319         0.000  \n",
       "\n",
       "[515378 rows x 6 columns]"
      ]
     },
     "execution_count": 30,
     "metadata": {},
     "output_type": "execute_result"
    }
   ],
   "source": [
    "payments.sort_values('date', ascending=False)"
   ]
  },
  {
   "cell_type": "code",
   "execution_count": 31,
   "metadata": {},
   "outputs": [],
   "source": [
    "# Dropping date\n",
    "# Dropping seller, only interested in the customers spending the money\n",
    "payments['date'] = pd.to_datetime(payments['date'])\n",
    "payments = payments[payments['date'] >= datetime(year=2019, month=5, day=1)].copy()\n",
    "payments.drop(['date', 'cus_id_seller'], axis=1, inplace=True)"
   ]
  },
  {
   "cell_type": "code",
   "execution_count": 32,
   "metadata": {},
   "outputs": [
    {
     "data": {
      "text/html": [
       "<div>\n",
       "<style scoped>\n",
       "    .dataframe tbody tr th:only-of-type {\n",
       "        vertical-align: middle;\n",
       "    }\n",
       "\n",
       "    .dataframe tbody tr th {\n",
       "        vertical-align: top;\n",
       "    }\n",
       "\n",
       "    .dataframe thead th {\n",
       "        text-align: right;\n",
       "    }\n",
       "</style>\n",
       "<table border=\"1\" class=\"dataframe\">\n",
       "  <thead>\n",
       "    <tr style=\"text-align: right;\">\n",
       "      <th></th>\n",
       "      <th>cus_id</th>\n",
       "      <th>spent_pa</th>\n",
       "      <th>discount_pa</th>\n",
       "      <th>segment_int</th>\n",
       "    </tr>\n",
       "  </thead>\n",
       "  <tbody>\n",
       "    <tr>\n",
       "      <th>0</th>\n",
       "      <td>1276</td>\n",
       "      <td>1.1198</td>\n",
       "      <td>0.0000</td>\n",
       "      <td>0</td>\n",
       "    </tr>\n",
       "    <tr>\n",
       "      <th>1</th>\n",
       "      <td>14525</td>\n",
       "      <td>143.1102</td>\n",
       "      <td>4.4531</td>\n",
       "      <td>1</td>\n",
       "    </tr>\n",
       "    <tr>\n",
       "      <th>2</th>\n",
       "      <td>21230</td>\n",
       "      <td>4.4198</td>\n",
       "      <td>2.2099</td>\n",
       "      <td>4</td>\n",
       "    </tr>\n",
       "    <tr>\n",
       "      <th>3</th>\n",
       "      <td>22083</td>\n",
       "      <td>53.9070</td>\n",
       "      <td>0.0000</td>\n",
       "      <td>1</td>\n",
       "    </tr>\n",
       "    <tr>\n",
       "      <th>4</th>\n",
       "      <td>22083</td>\n",
       "      <td>7.8679</td>\n",
       "      <td>1.5736</td>\n",
       "      <td>4</td>\n",
       "    </tr>\n",
       "    <tr>\n",
       "      <th>...</th>\n",
       "      <td>...</td>\n",
       "      <td>...</td>\n",
       "      <td>...</td>\n",
       "      <td>...</td>\n",
       "    </tr>\n",
       "    <tr>\n",
       "      <th>53725</th>\n",
       "      <td>448290283</td>\n",
       "      <td>4.7100</td>\n",
       "      <td>0.0000</td>\n",
       "      <td>4</td>\n",
       "    </tr>\n",
       "    <tr>\n",
       "      <th>53726</th>\n",
       "      <td>448313152</td>\n",
       "      <td>4.7100</td>\n",
       "      <td>0.0000</td>\n",
       "      <td>4</td>\n",
       "    </tr>\n",
       "    <tr>\n",
       "      <th>53727</th>\n",
       "      <td>448326912</td>\n",
       "      <td>7.7715</td>\n",
       "      <td>1.5543</td>\n",
       "      <td>1</td>\n",
       "    </tr>\n",
       "    <tr>\n",
       "      <th>53728</th>\n",
       "      <td>448330186</td>\n",
       "      <td>9.7025</td>\n",
       "      <td>1.9405</td>\n",
       "      <td>1</td>\n",
       "    </tr>\n",
       "    <tr>\n",
       "      <th>53729</th>\n",
       "      <td>448374921</td>\n",
       "      <td>17.7095</td>\n",
       "      <td>3.5325</td>\n",
       "      <td>1</td>\n",
       "    </tr>\n",
       "  </tbody>\n",
       "</table>\n",
       "<p>53730 rows × 4 columns</p>\n",
       "</div>"
      ],
      "text/plain": [
       "          cus_id  spent_pa  discount_pa  segment_int\n",
       "0           1276    1.1198       0.0000            0\n",
       "1          14525  143.1102       4.4531            1\n",
       "2          21230    4.4198       2.2099            4\n",
       "3          22083   53.9070       0.0000            1\n",
       "4          22083    7.8679       1.5736            4\n",
       "...          ...       ...          ...          ...\n",
       "53725  448290283    4.7100       0.0000            4\n",
       "53726  448313152    4.7100       0.0000            4\n",
       "53727  448326912    7.7715       1.5543            1\n",
       "53728  448330186    9.7025       1.9405            1\n",
       "53729  448374921   17.7095       3.5325            1\n",
       "\n",
       "[53730 rows x 4 columns]"
      ]
     },
     "execution_count": 32,
     "metadata": {},
     "output_type": "execute_result"
    }
   ],
   "source": [
    "# Since we are interested only in how much has the client spent, we'll group by it\n",
    "payments_fixed = payments.groupby(['cus_id', 'segment'], as_index=False).sum()\n",
    "payments_fixed, pay_cat_map = to_category(payments_fixed, 'segment')\n",
    "payments_fixed"
   ]
  },
  {
   "cell_type": "markdown",
   "metadata": {},
   "source": [
    "# Building Input Table"
   ]
  },
  {
   "cell_type": "code",
   "execution_count": 33,
   "metadata": {},
   "outputs": [],
   "source": [
    "# Final tables: active_fixed, demo_fixed, money_fixed, target, market_fixed and payments_fixed\n",
    "\n",
    "# We merge based on the target as they are the ones with the known responses.\n",
    "df = target.copy()\n",
    "\n",
    "dfs = [active_fixed, demo_fixed, money_fixed, market_fixed, payments_fixed]\n",
    "\n",
    "for dataframe in dfs:\n",
    "    df = df.merge(dataframe, how='left', on='cus_id')\n",
    "    \n",
    "df.rename(columns={'cus_id': 'id'}, inplace=True)"
   ]
  },
  {
   "cell_type": "code",
   "execution_count": 34,
   "metadata": {},
   "outputs": [
    {
     "data": {
      "text/plain": [
       "id                 0.000000\n",
       "churn              0.000000\n",
       "pa_3               0.000000\n",
       "pb_3               0.000000\n",
       "pa_2               0.000000\n",
       "pb_2               0.000000\n",
       "pa_1               0.000000\n",
       "pb_1               0.000000\n",
       "age_int           28.045984\n",
       "gender_int        28.045984\n",
       "pay_type_int      28.045984\n",
       "province_int      28.045984\n",
       "money_1            3.722084\n",
       "money_2            3.722084\n",
       "investment_int     3.722084\n",
       "spent_pb          68.723498\n",
       "frequency_pb      68.723498\n",
       "spent_pa          15.617049\n",
       "discount_pa       15.617049\n",
       "segment_int       15.617049\n",
       "dtype: float64"
      ]
     },
     "execution_count": 34,
     "metadata": {},
     "output_type": "execute_result"
    }
   ],
   "source": [
    "df.isnull().sum() / df.shape[0] * 100"
   ]
  },
  {
   "cell_type": "markdown",
   "metadata": {},
   "source": [
    "When Building the final table, new null values are going to appear due to the size difference of each table. We will make use of imputation following the guidelines already discussed.\n",
    "\n",
    "First, I will check how useful each column is when predicting churn, just going on intuition. The money spent is iseful as it affects the available income of the client. Age and gender too, as they may e associated to a particular taste or preference of each category which may affect the decision to keep using a service or not. Payment Method may not be too important, as all possible cases are digital (cash on account, debit or credit). Province is useful as there are differences regarding income which may impact on the ability to use a service or not.\n",
    "\n",
    "The investment column will be useful given that if a client is already investment, they may have less cash to make a transaction in the future. Money spent on the platforms and its frequency might be useful for similar motives. Moreover, the amount of times the user uses the platforms per month might be a good indication to their attachment to them."
   ]
  },
  {
   "cell_type": "code",
   "execution_count": 35,
   "metadata": {},
   "outputs": [],
   "source": [
    "df.drop(['spent_pb', 'frequency_pb'], axis=1, inplace=True)"
   ]
  },
  {
   "cell_type": "code",
   "execution_count": 36,
   "metadata": {},
   "outputs": [
    {
     "data": {
      "text/html": [
       "<div>\n",
       "<style scoped>\n",
       "    .dataframe tbody tr th:only-of-type {\n",
       "        vertical-align: middle;\n",
       "    }\n",
       "\n",
       "    .dataframe tbody tr th {\n",
       "        vertical-align: top;\n",
       "    }\n",
       "\n",
       "    .dataframe thead th {\n",
       "        text-align: right;\n",
       "    }\n",
       "</style>\n",
       "<table border=\"1\" class=\"dataframe\">\n",
       "  <thead>\n",
       "    <tr style=\"text-align: right;\">\n",
       "      <th></th>\n",
       "      <th>id</th>\n",
       "      <th>churn</th>\n",
       "      <th>pa_3</th>\n",
       "      <th>pb_3</th>\n",
       "      <th>pa_2</th>\n",
       "      <th>pb_2</th>\n",
       "      <th>pa_1</th>\n",
       "      <th>pb_1</th>\n",
       "      <th>age_int</th>\n",
       "      <th>gender_int</th>\n",
       "      <th>pay_type_int</th>\n",
       "      <th>province_int</th>\n",
       "      <th>money_1</th>\n",
       "      <th>money_2</th>\n",
       "      <th>investment_int</th>\n",
       "      <th>spent_pa</th>\n",
       "      <th>discount_pa</th>\n",
       "      <th>segment_int</th>\n",
       "    </tr>\n",
       "  </thead>\n",
       "  <tbody>\n",
       "    <tr>\n",
       "      <th>0</th>\n",
       "      <td>20663512.0</td>\n",
       "      <td>1.0</td>\n",
       "      <td>13.000000</td>\n",
       "      <td>25.000000</td>\n",
       "      <td>14.000000</td>\n",
       "      <td>24.000000</td>\n",
       "      <td>5.000000</td>\n",
       "      <td>25.000000</td>\n",
       "      <td>6.000000</td>\n",
       "      <td>1.000000</td>\n",
       "      <td>3.000000</td>\n",
       "      <td>2.000000</td>\n",
       "      <td>6935.650000</td>\n",
       "      <td>10447.870000</td>\n",
       "      <td>4.000000</td>\n",
       "      <td>11.356600</td>\n",
       "      <td>2.231200</td>\n",
       "      <td>1.000000</td>\n",
       "    </tr>\n",
       "    <tr>\n",
       "      <th>1</th>\n",
       "      <td>20663512.0</td>\n",
       "      <td>1.0</td>\n",
       "      <td>13.000000</td>\n",
       "      <td>25.000000</td>\n",
       "      <td>14.000000</td>\n",
       "      <td>24.000000</td>\n",
       "      <td>5.000000</td>\n",
       "      <td>25.000000</td>\n",
       "      <td>6.000000</td>\n",
       "      <td>1.000000</td>\n",
       "      <td>3.000000</td>\n",
       "      <td>2.000000</td>\n",
       "      <td>6935.650000</td>\n",
       "      <td>10447.870000</td>\n",
       "      <td>4.000000</td>\n",
       "      <td>36.638400</td>\n",
       "      <td>0.000000</td>\n",
       "      <td>2.000000</td>\n",
       "    </tr>\n",
       "    <tr>\n",
       "      <th>2</th>\n",
       "      <td>444286946.0</td>\n",
       "      <td>0.0</td>\n",
       "      <td>5.065201</td>\n",
       "      <td>9.350644</td>\n",
       "      <td>5.455316</td>\n",
       "      <td>8.959666</td>\n",
       "      <td>6.084878</td>\n",
       "      <td>9.936978</td>\n",
       "      <td>3.000000</td>\n",
       "      <td>2.000000</td>\n",
       "      <td>4.000000</td>\n",
       "      <td>2.000000</td>\n",
       "      <td>3692.968965</td>\n",
       "      <td>3086.271906</td>\n",
       "      <td>4.523088</td>\n",
       "      <td>16.206400</td>\n",
       "      <td>3.822600</td>\n",
       "      <td>1.000000</td>\n",
       "    </tr>\n",
       "    <tr>\n",
       "      <th>3</th>\n",
       "      <td>444286946.0</td>\n",
       "      <td>0.0</td>\n",
       "      <td>5.065201</td>\n",
       "      <td>9.350644</td>\n",
       "      <td>5.455316</td>\n",
       "      <td>8.959666</td>\n",
       "      <td>6.084878</td>\n",
       "      <td>9.936978</td>\n",
       "      <td>3.000000</td>\n",
       "      <td>2.000000</td>\n",
       "      <td>4.000000</td>\n",
       "      <td>2.000000</td>\n",
       "      <td>3626.798983</td>\n",
       "      <td>3027.306869</td>\n",
       "      <td>4.666030</td>\n",
       "      <td>4.619000</td>\n",
       "      <td>0.923800</td>\n",
       "      <td>4.000000</td>\n",
       "    </tr>\n",
       "    <tr>\n",
       "      <th>4</th>\n",
       "      <td>348084528.0</td>\n",
       "      <td>1.0</td>\n",
       "      <td>4.000000</td>\n",
       "      <td>4.000000</td>\n",
       "      <td>4.000000</td>\n",
       "      <td>3.000000</td>\n",
       "      <td>3.000000</td>\n",
       "      <td>8.000000</td>\n",
       "      <td>0.000000</td>\n",
       "      <td>1.000000</td>\n",
       "      <td>3.000000</td>\n",
       "      <td>25.000000</td>\n",
       "      <td>0.000000</td>\n",
       "      <td>0.000000</td>\n",
       "      <td>3.000000</td>\n",
       "      <td>6.457400</td>\n",
       "      <td>0.000000</td>\n",
       "      <td>0.000000</td>\n",
       "    </tr>\n",
       "    <tr>\n",
       "      <th>...</th>\n",
       "      <td>...</td>\n",
       "      <td>...</td>\n",
       "      <td>...</td>\n",
       "      <td>...</td>\n",
       "      <td>...</td>\n",
       "      <td>...</td>\n",
       "      <td>...</td>\n",
       "      <td>...</td>\n",
       "      <td>...</td>\n",
       "      <td>...</td>\n",
       "      <td>...</td>\n",
       "      <td>...</td>\n",
       "      <td>...</td>\n",
       "      <td>...</td>\n",
       "      <td>...</td>\n",
       "      <td>...</td>\n",
       "      <td>...</td>\n",
       "      <td>...</td>\n",
       "    </tr>\n",
       "    <tr>\n",
       "      <th>63669</th>\n",
       "      <td>35688803.0</td>\n",
       "      <td>1.0</td>\n",
       "      <td>1.000000</td>\n",
       "      <td>12.000000</td>\n",
       "      <td>0.000000</td>\n",
       "      <td>20.000000</td>\n",
       "      <td>0.000000</td>\n",
       "      <td>22.000000</td>\n",
       "      <td>4.000000</td>\n",
       "      <td>1.000000</td>\n",
       "      <td>3.000000</td>\n",
       "      <td>9.000000</td>\n",
       "      <td>0.000000</td>\n",
       "      <td>0.000000</td>\n",
       "      <td>3.000000</td>\n",
       "      <td>51.820400</td>\n",
       "      <td>0.000000</td>\n",
       "      <td>1.000000</td>\n",
       "    </tr>\n",
       "    <tr>\n",
       "      <th>63670</th>\n",
       "      <td>384904109.0</td>\n",
       "      <td>0.0</td>\n",
       "      <td>0.522179</td>\n",
       "      <td>4.766530</td>\n",
       "      <td>0.000000</td>\n",
       "      <td>4.000000</td>\n",
       "      <td>0.000000</td>\n",
       "      <td>4.000000</td>\n",
       "      <td>2.964685</td>\n",
       "      <td>1.299537</td>\n",
       "      <td>2.987566</td>\n",
       "      <td>6.694827</td>\n",
       "      <td>0.000000</td>\n",
       "      <td>0.000000</td>\n",
       "      <td>3.000000</td>\n",
       "      <td>22.500096</td>\n",
       "      <td>0.824763</td>\n",
       "      <td>1.692443</td>\n",
       "    </tr>\n",
       "    <tr>\n",
       "      <th>63671</th>\n",
       "      <td>403313804.0</td>\n",
       "      <td>0.0</td>\n",
       "      <td>5.065201</td>\n",
       "      <td>9.350644</td>\n",
       "      <td>5.455316</td>\n",
       "      <td>8.959666</td>\n",
       "      <td>6.084878</td>\n",
       "      <td>9.936978</td>\n",
       "      <td>2.808801</td>\n",
       "      <td>1.333928</td>\n",
       "      <td>2.639401</td>\n",
       "      <td>7.018952</td>\n",
       "      <td>0.000000</td>\n",
       "      <td>0.000000</td>\n",
       "      <td>3.000000</td>\n",
       "      <td>74.544089</td>\n",
       "      <td>0.714365</td>\n",
       "      <td>1.679462</td>\n",
       "    </tr>\n",
       "    <tr>\n",
       "      <th>63672</th>\n",
       "      <td>307339795.0</td>\n",
       "      <td>0.0</td>\n",
       "      <td>3.000000</td>\n",
       "      <td>0.000000</td>\n",
       "      <td>1.000000</td>\n",
       "      <td>0.000000</td>\n",
       "      <td>2.000000</td>\n",
       "      <td>0.000000</td>\n",
       "      <td>6.000000</td>\n",
       "      <td>1.000000</td>\n",
       "      <td>3.000000</td>\n",
       "      <td>1.000000</td>\n",
       "      <td>0.000000</td>\n",
       "      <td>0.000000</td>\n",
       "      <td>3.000000</td>\n",
       "      <td>33.065628</td>\n",
       "      <td>1.073004</td>\n",
       "      <td>1.969576</td>\n",
       "    </tr>\n",
       "    <tr>\n",
       "      <th>63673</th>\n",
       "      <td>42975676.0</td>\n",
       "      <td>0.0</td>\n",
       "      <td>5.000000</td>\n",
       "      <td>0.000000</td>\n",
       "      <td>5.798593</td>\n",
       "      <td>0.069701</td>\n",
       "      <td>7.000000</td>\n",
       "      <td>0.000000</td>\n",
       "      <td>6.000000</td>\n",
       "      <td>1.000000</td>\n",
       "      <td>3.000000</td>\n",
       "      <td>6.000000</td>\n",
       "      <td>0.000000</td>\n",
       "      <td>0.000000</td>\n",
       "      <td>6.000000</td>\n",
       "      <td>22.371400</td>\n",
       "      <td>0.000000</td>\n",
       "      <td>2.000000</td>\n",
       "    </tr>\n",
       "  </tbody>\n",
       "</table>\n",
       "<p>63674 rows × 18 columns</p>\n",
       "</div>"
      ],
      "text/plain": [
       "                id  churn       pa_3       pb_3       pa_2       pb_2  \\\n",
       "0       20663512.0    1.0  13.000000  25.000000  14.000000  24.000000   \n",
       "1       20663512.0    1.0  13.000000  25.000000  14.000000  24.000000   \n",
       "2      444286946.0    0.0   5.065201   9.350644   5.455316   8.959666   \n",
       "3      444286946.0    0.0   5.065201   9.350644   5.455316   8.959666   \n",
       "4      348084528.0    1.0   4.000000   4.000000   4.000000   3.000000   \n",
       "...            ...    ...        ...        ...        ...        ...   \n",
       "63669   35688803.0    1.0   1.000000  12.000000   0.000000  20.000000   \n",
       "63670  384904109.0    0.0   0.522179   4.766530   0.000000   4.000000   \n",
       "63671  403313804.0    0.0   5.065201   9.350644   5.455316   8.959666   \n",
       "63672  307339795.0    0.0   3.000000   0.000000   1.000000   0.000000   \n",
       "63673   42975676.0    0.0   5.000000   0.000000   5.798593   0.069701   \n",
       "\n",
       "           pa_1       pb_1   age_int  gender_int  pay_type_int  province_int  \\\n",
       "0      5.000000  25.000000  6.000000    1.000000      3.000000      2.000000   \n",
       "1      5.000000  25.000000  6.000000    1.000000      3.000000      2.000000   \n",
       "2      6.084878   9.936978  3.000000    2.000000      4.000000      2.000000   \n",
       "3      6.084878   9.936978  3.000000    2.000000      4.000000      2.000000   \n",
       "4      3.000000   8.000000  0.000000    1.000000      3.000000     25.000000   \n",
       "...         ...        ...       ...         ...           ...           ...   \n",
       "63669  0.000000  22.000000  4.000000    1.000000      3.000000      9.000000   \n",
       "63670  0.000000   4.000000  2.964685    1.299537      2.987566      6.694827   \n",
       "63671  6.084878   9.936978  2.808801    1.333928      2.639401      7.018952   \n",
       "63672  2.000000   0.000000  6.000000    1.000000      3.000000      1.000000   \n",
       "63673  7.000000   0.000000  6.000000    1.000000      3.000000      6.000000   \n",
       "\n",
       "           money_1       money_2  investment_int   spent_pa  discount_pa  \\\n",
       "0      6935.650000  10447.870000        4.000000  11.356600     2.231200   \n",
       "1      6935.650000  10447.870000        4.000000  36.638400     0.000000   \n",
       "2      3692.968965   3086.271906        4.523088  16.206400     3.822600   \n",
       "3      3626.798983   3027.306869        4.666030   4.619000     0.923800   \n",
       "4         0.000000      0.000000        3.000000   6.457400     0.000000   \n",
       "...            ...           ...             ...        ...          ...   \n",
       "63669     0.000000      0.000000        3.000000  51.820400     0.000000   \n",
       "63670     0.000000      0.000000        3.000000  22.500096     0.824763   \n",
       "63671     0.000000      0.000000        3.000000  74.544089     0.714365   \n",
       "63672     0.000000      0.000000        3.000000  33.065628     1.073004   \n",
       "63673     0.000000      0.000000        6.000000  22.371400     0.000000   \n",
       "\n",
       "       segment_int  \n",
       "0         1.000000  \n",
       "1         2.000000  \n",
       "2         1.000000  \n",
       "3         4.000000  \n",
       "4         0.000000  \n",
       "...            ...  \n",
       "63669     1.000000  \n",
       "63670     1.692443  \n",
       "63671     1.679462  \n",
       "63672     1.969576  \n",
       "63673     2.000000  \n",
       "\n",
       "[63674 rows x 18 columns]"
      ]
     },
     "execution_count": 36,
     "metadata": {},
     "output_type": "execute_result"
    }
   ],
   "source": [
    "imputer = IterativeImputer(max_iter=10, random_state=42)\n",
    "imputer.fit(df)\n",
    "\n",
    "fixed = imputer.transform(df)\n",
    "final_df = pd.DataFrame(fixed, columns=df.columns)\n",
    "final_df"
   ]
  },
  {
   "cell_type": "code",
   "execution_count": 37,
   "metadata": {},
   "outputs": [
    {
     "data": {
      "text/plain": [
       "{'segment': {0: 'Cellphone Recharge',\n",
       "  1: 'Instore',\n",
       "  4: 'Transport',\n",
       "  5: 'Utilities',\n",
       "  2: 'Money Transfer',\n",
       "  3: 'Other Single Players'}}"
      ]
     },
     "execution_count": 37,
     "metadata": {},
     "output_type": "execute_result"
    }
   ],
   "source": [
    "pay_cat_map"
   ]
  },
  {
   "cell_type": "code",
   "execution_count": 38,
   "metadata": {
    "scrolled": true
   },
   "outputs": [
    {
     "data": {
      "text/html": [
       "<div>\n",
       "<style scoped>\n",
       "    .dataframe tbody tr th:only-of-type {\n",
       "        vertical-align: middle;\n",
       "    }\n",
       "\n",
       "    .dataframe tbody tr th {\n",
       "        vertical-align: top;\n",
       "    }\n",
       "\n",
       "    .dataframe thead th {\n",
       "        text-align: right;\n",
       "    }\n",
       "</style>\n",
       "<table border=\"1\" class=\"dataframe\">\n",
       "  <thead>\n",
       "    <tr style=\"text-align: right;\">\n",
       "      <th></th>\n",
       "      <th>id</th>\n",
       "      <th>churn</th>\n",
       "      <th>pa_3</th>\n",
       "      <th>pb_3</th>\n",
       "      <th>pa_2</th>\n",
       "      <th>pb_2</th>\n",
       "      <th>pa_1</th>\n",
       "      <th>pb_1</th>\n",
       "      <th>age_int</th>\n",
       "      <th>gender_int</th>\n",
       "      <th>pay_type_int</th>\n",
       "      <th>province_int</th>\n",
       "      <th>money_1</th>\n",
       "      <th>money_2</th>\n",
       "      <th>investment_int</th>\n",
       "      <th>spent_pa</th>\n",
       "      <th>discount_pa</th>\n",
       "      <th>segment_int</th>\n",
       "    </tr>\n",
       "  </thead>\n",
       "  <tbody>\n",
       "    <tr>\n",
       "      <th>0</th>\n",
       "      <td>20663512</td>\n",
       "      <td>1</td>\n",
       "      <td>13</td>\n",
       "      <td>25</td>\n",
       "      <td>14</td>\n",
       "      <td>24</td>\n",
       "      <td>5</td>\n",
       "      <td>25</td>\n",
       "      <td>Entre 41 y 55 años</td>\n",
       "      <td>female</td>\n",
       "      <td>Credit Card</td>\n",
       "      <td>capital federal</td>\n",
       "      <td>6935.650000</td>\n",
       "      <td>10447.870000</td>\n",
       "      <td>investing</td>\n",
       "      <td>11.3566</td>\n",
       "      <td>2.2312</td>\n",
       "      <td>Instore</td>\n",
       "    </tr>\n",
       "    <tr>\n",
       "      <th>1</th>\n",
       "      <td>20663512</td>\n",
       "      <td>1</td>\n",
       "      <td>13</td>\n",
       "      <td>25</td>\n",
       "      <td>14</td>\n",
       "      <td>24</td>\n",
       "      <td>5</td>\n",
       "      <td>25</td>\n",
       "      <td>Entre 41 y 55 años</td>\n",
       "      <td>female</td>\n",
       "      <td>Credit Card</td>\n",
       "      <td>capital federal</td>\n",
       "      <td>6935.650000</td>\n",
       "      <td>10447.870000</td>\n",
       "      <td>investing</td>\n",
       "      <td>36.6384</td>\n",
       "      <td>0.0000</td>\n",
       "      <td>Money Transfer</td>\n",
       "    </tr>\n",
       "    <tr>\n",
       "      <th>2</th>\n",
       "      <td>444286946</td>\n",
       "      <td>0</td>\n",
       "      <td>5</td>\n",
       "      <td>9</td>\n",
       "      <td>5</td>\n",
       "      <td>9</td>\n",
       "      <td>6</td>\n",
       "      <td>10</td>\n",
       "      <td>Entre 26 y 30 años</td>\n",
       "      <td>male</td>\n",
       "      <td>Debit Card</td>\n",
       "      <td>capital federal</td>\n",
       "      <td>3692.968965</td>\n",
       "      <td>3086.271906</td>\n",
       "      <td>non_eligible</td>\n",
       "      <td>16.2064</td>\n",
       "      <td>3.8226</td>\n",
       "      <td>Instore</td>\n",
       "    </tr>\n",
       "    <tr>\n",
       "      <th>3</th>\n",
       "      <td>444286946</td>\n",
       "      <td>0</td>\n",
       "      <td>5</td>\n",
       "      <td>9</td>\n",
       "      <td>5</td>\n",
       "      <td>9</td>\n",
       "      <td>6</td>\n",
       "      <td>10</td>\n",
       "      <td>Entre 26 y 30 años</td>\n",
       "      <td>male</td>\n",
       "      <td>Debit Card</td>\n",
       "      <td>capital federal</td>\n",
       "      <td>3626.798983</td>\n",
       "      <td>3027.306869</td>\n",
       "      <td>non_eligible</td>\n",
       "      <td>4.6190</td>\n",
       "      <td>0.9238</td>\n",
       "      <td>Transport</td>\n",
       "    </tr>\n",
       "    <tr>\n",
       "      <th>4</th>\n",
       "      <td>348084528</td>\n",
       "      <td>1</td>\n",
       "      <td>4</td>\n",
       "      <td>4</td>\n",
       "      <td>4</td>\n",
       "      <td>3</td>\n",
       "      <td>3</td>\n",
       "      <td>8</td>\n",
       "      <td>Sin Dato</td>\n",
       "      <td>female</td>\n",
       "      <td>Credit Card</td>\n",
       "      <td>são paulo</td>\n",
       "      <td>0.000000</td>\n",
       "      <td>0.000000</td>\n",
       "      <td>eligible</td>\n",
       "      <td>6.4574</td>\n",
       "      <td>0.0000</td>\n",
       "      <td>Cellphone Recharge</td>\n",
       "    </tr>\n",
       "  </tbody>\n",
       "</table>\n",
       "</div>"
      ],
      "text/plain": [
       "          id  churn  pa_3  pb_3  pa_2  pb_2  pa_1  pb_1             age_int  \\\n",
       "0   20663512      1    13    25    14    24     5    25  Entre 41 y 55 años   \n",
       "1   20663512      1    13    25    14    24     5    25  Entre 41 y 55 años   \n",
       "2  444286946      0     5     9     5     9     6    10  Entre 26 y 30 años   \n",
       "3  444286946      0     5     9     5     9     6    10  Entre 26 y 30 años   \n",
       "4  348084528      1     4     4     4     3     3     8            Sin Dato   \n",
       "\n",
       "  gender_int pay_type_int     province_int      money_1       money_2  \\\n",
       "0     female  Credit Card  capital federal  6935.650000  10447.870000   \n",
       "1     female  Credit Card  capital federal  6935.650000  10447.870000   \n",
       "2       male   Debit Card  capital federal  3692.968965   3086.271906   \n",
       "3       male   Debit Card  capital federal  3626.798983   3027.306869   \n",
       "4     female  Credit Card        são paulo     0.000000      0.000000   \n",
       "\n",
       "  investment_int  spent_pa  discount_pa         segment_int  \n",
       "0      investing   11.3566       2.2312             Instore  \n",
       "1      investing   36.6384       0.0000      Money Transfer  \n",
       "2   non_eligible   16.2064       3.8226             Instore  \n",
       "3   non_eligible    4.6190       0.9238           Transport  \n",
       "4       eligible    6.4574       0.0000  Cellphone Recharge  "
      ]
     },
     "execution_count": 38,
     "metadata": {},
     "output_type": "execute_result"
    }
   ],
   "source": [
    "# Round values so they belong to their respective categories\n",
    "# Replacing to the actual categories for easier visualization, then back to numbers for the model\n",
    "for col, data in demo_cat_map.items():\n",
    "    final_df[col+'_int'] = final_df[col+'_int'].apply(abs).apply(round)\n",
    "    for code, cat in data.items():\n",
    "        final_df.loc[final_df[col+'_int'] == code, col+'_int'] = cat\n",
    "\n",
    "for col, data in money_cat_map.items():\n",
    "    final_df[col+'_int'] = final_df[col+'_int'].apply(abs).apply(round)\n",
    "    for code, cat in data.items():\n",
    "        final_df.loc[final_df[col+'_int'] == code, col+'_int'] = cat\n",
    "    \n",
    "final_df['age_int'] = final_df['age_int'].apply(abs).apply(round)\n",
    "\n",
    "for code, cat in age_cat_map.items():\n",
    "    final_df.loc[final_df['age_int'] == code, 'age_int'] = cat\n",
    "    \n",
    "for col, data in pay_cat_map.items():\n",
    "    final_df['segment_int'] = final_df['segment_int'].apply(abs).apply(round)\n",
    "    for code, cat in data.items():\n",
    "        final_df.loc[final_df['segment_int'] == code, 'segment_int'] = cat\n",
    "    \n",
    "# Amount of times the user visits the app needs to be an int\n",
    "for i in range(1, 4):\n",
    "    final_df['pa_'+str(i)] = final_df['pa_'+str(i)].apply(abs).apply(round)\n",
    "    final_df['pb_'+str(i)] = final_df['pb_'+str(i)].apply(abs).apply(round)\n",
    "\n",
    "final_df['churn'] = final_df['churn'].apply(int)\n",
    "# Delete .0 decimal first then convert to str\n",
    "final_df['id'] = final_df['id'].apply(int).apply(str)\n",
    "    \n",
    "og_df = final_df.copy()\n",
    "final_df.head()"
   ]
  },
  {
   "cell_type": "markdown",
   "metadata": {},
   "source": [
    "# Data Analysis\n",
    "\n",
    "The aim of the section is to get more information regarding our dataset, feature relevance, correlations, etc, which will be useful when we enter the modelling stage. It will be heavily focused on graphics, as we can summarize information quickly and intuitively. There will be two parts:\n",
    "   1. Categorical variables analysis.\n",
    "   2. Numeric variables analysis.\n",
    "\n",
    "For the categorical features, we need to find out if there is a dominant class for each of them, meaning there's very little variance (and thus making it a candidate to be dropped) as well as determine how each of them reacts to the actual response (churn). Given we have an unbalanced dataset in favor of the True response (around 75%), if we find a class that responds very heavily to the False churn label, it will be an indication of an important feature.\n",
    "   \n",
    "For the numeric ones, we'll analyze counts (if discrete), boxplots, correlations and heatmaps to see how each of them reacts to the churn."
   ]
  },
  {
   "cell_type": "code",
   "execution_count": 39,
   "metadata": {},
   "outputs": [],
   "source": [
    "categorical = ['age_int', 'gender_int', 'pay_type_int', 'province_int', 'investment_int', 'segment_int']\n",
    "numeric = ['pa_3', 'pb_3', 'pa_2', 'pb_2', 'pa_1', 'pb_1', 'money_1', 'money_2', 'spent_pa', 'discount_pa']"
   ]
  },
  {
   "cell_type": "markdown",
   "metadata": {},
   "source": [
    "### Variables Categóricas."
   ]
  },
  {
   "cell_type": "code",
   "execution_count": 40,
   "metadata": {},
   "outputs": [
    {
     "data": {
      "image/png": "[encoded data removed]",
      "text/plain": [
       "<Figure size 432x288 with 1 Axes>"
      ]
     },
     "metadata": {
      "needs_background": "light"
     },
     "output_type": "display_data"
    },
    {
     "data": {
      "image/png": "[encoded data removed]",
      "text/plain": [
       "<Figure size 432x288 with 1 Axes>"
      ]
     },
     "metadata": {
      "needs_background": "light"
     },
     "output_type": "display_data"
    },
    {
     "data": {
      "image/png": "[encoded data removed]",
      "text/plain": [
       "<Figure size 432x288 with 1 Axes>"
      ]
     },
     "metadata": {
      "needs_background": "light"
     },
     "output_type": "display_data"
    },
    {
     "data": {
      "image/png": "[encoded data removed]",
      "text/plain": [
       "<Figure size 432x288 with 1 Axes>"
      ]
     },
     "metadata": {
      "needs_background": "light"
     },
     "output_type": "display_data"
    },
    {
     "data": {
      "image/png": "[encoded data removed]",
      "text/plain": [
       "<Figure size 432x288 with 1 Axes>"
      ]
     },
     "metadata": {
      "needs_background": "light"
     },
     "output_type": "display_data"
    },
    {
     "data": {
      "image/png": "[encoded data removed]",
      "text/plain": [
       "<Figure size 432x288 with 1 Axes>"
      ]
     },
     "metadata": {
      "needs_background": "light"
     },
     "output_type": "display_data"
    }
   ],
   "source": [
    "for cat in categorical:\n",
    "    sns.countplot(y=cat, data=final_df, order=final_df[cat].value_counts().index)\n",
    "    plt.show()"
   ]
  },
  {
   "cell_type": "markdown",
   "metadata": {},
   "source": [
    "Our data shows the majority of our population are women, between 25-35 years old, living in Buenos Aires or CABA, which gives a strong idea that most people are concentrated in the country's center (especially since Cordoba is third). Again, the fact that province is heavily skewed towards top values makes it a strong candidate to traight up drop it.\n",
    "\n",
    "Regarding financial data, most people use credit card as their preferred form of payments, and are eligible to invest (but are not currently doing it), which hints to them having available income to either invest or make a transaction in the next 2 months. However, that pay type is strongly unbalanced, which also makes it a candidate to drop it.\n",
    "\n",
    "Lastly, segment shows a great deal of balance, with money transactions being the most frequent ones, and making it a useful feature in the future."
   ]
  },
  {
   "cell_type": "code",
   "execution_count": 41,
   "metadata": {
    "scrolled": false
   },
   "outputs": [
    {
     "data": {
      "image/png": "[encoded data removed]",
      "text/plain": [
       "<Figure size 720x360 with 1 Axes>"
      ]
     },
     "metadata": {
      "needs_background": "light"
     },
     "output_type": "display_data"
    },
    {
     "data": {
      "image/png": "[encoded data removed]",
      "text/plain": [
       "<Figure size 720x360 with 1 Axes>"
      ]
     },
     "metadata": {
      "needs_background": "light"
     },
     "output_type": "display_data"
    },
    {
     "data": {
      "image/png": "[encoded data removed]",
      "text/plain": [
       "<Figure size 720x360 with 1 Axes>"
      ]
     },
     "metadata": {
      "needs_background": "light"
     },
     "output_type": "display_data"
    },
    {
     "data": {
      "image/png": "[encoded data removed]",
      "text/plain": [
       "<Figure size 720x360 with 1 Axes>"
      ]
     },
     "metadata": {
      "needs_background": "light"
     },
     "output_type": "display_data"
    },
    {
     "data": {
      "image/png": "[encoded data removed]",
      "text/plain": [
       "<Figure size 720x360 with 1 Axes>"
      ]
     },
     "metadata": {
      "needs_background": "light"
     },
     "output_type": "display_data"
    }
   ],
   "source": [
    "for cat in categorical:\n",
    "    if cat == 'province_int': #too many values, will do it below\n",
    "        continue\n",
    "    plt.figure(figsize=(10,5))\n",
    "    ax = sns.countplot(x=cat, data=final_df, hue='churn')\n",
    "    for p in ax.patches:\n",
    "        # Percentages on bars\n",
    "        ax.annotate('{:.1f}%'.format(100*p.get_height()/len(final_df[cat])), (p.get_x()+0.1, p.get_height()+5))\n",
    "\n",
    "    ax.yaxis.set_ticks(np.linspace(0, len(final_df[cat]), 11))\n",
    "\n",
    "    ax.set_yticklabels(map('{:.1f}%'.format, 100*ax.yaxis.get_majorticklocs()/len(final_df[cat])))\n",
    "    ax.set_xticklabels(ax.get_xticklabels(), rotation=40, ha='right')\n",
    "    ax.legend(labels=['no', 'yes'])\n",
    "    plt.show()"
   ]
  },
  {
   "cell_type": "code",
   "execution_count": 42,
   "metadata": {},
   "outputs": [
    {
     "data": {
      "image/png": "[encoded data removed]",
      "text/plain": [
       "<Figure size 720x360 with 1 Axes>"
      ]
     },
     "metadata": {
      "needs_background": "light"
     },
     "output_type": "display_data"
    }
   ],
   "source": [
    "#Check the top 10 for ESTADO\n",
    "estado_df = final_df[final_df['province_int'].isin(final_df['province_int'].value_counts().index.tolist()[:10])]\n",
    "plt.figure(figsize=(10,5))\n",
    "ax = sns.countplot(x='province_int', data=estado_df, hue='churn')\n",
    "for p in ax.patches:\n",
    "    # Percentages on bars\n",
    "    ax.annotate('{:.1f}%'.format(100*p.get_height()/len(estado_df[cat])), (p.get_x()+0.1, p.get_height()+5))\n",
    "\n",
    "ax.yaxis.set_ticks(np.linspace(0, len(estado_df[cat]), 11))\n",
    "\n",
    "ax.set_yticklabels(map('{:.1f}%'.format, 100*ax.yaxis.get_majorticklocs()/len(estado_df[cat])))\n",
    "ax.set_xticklabels(ax.get_xticklabels(), rotation=40, ha='right')\n",
    "ax.legend(labels=['no', 'yes'])\n",
    "plt.show()"
   ]
  },
  {
   "cell_type": "code",
   "execution_count": 43,
   "metadata": {},
   "outputs": [
    {
     "data": {
      "text/plain": [
       "1    73.186858\n",
       "0    26.813142\n",
       "Name: churn, dtype: float64"
      ]
     },
     "execution_count": 43,
     "metadata": {},
     "output_type": "execute_result"
    }
   ],
   "source": [
    "final_df['churn'].value_counts() * 100 / final_df.shape[0]"
   ]
  },
  {
   "cell_type": "markdown",
   "metadata": {},
   "source": [
    "The response label (churn) is unbalanced in favor of 1 (or Yes/True, the customer actually churning), which might cause issues when modelling. Resampling our table is not ideal, given the unbalance is not that high, and deleting or creating new data is not ideal. So, we'll just choose a proper metric in the future to account for this problem, as well as play around with class weight parameters in the models.\n",
    "\n",
    "That also gives us an idea tu identify useful features: if we find a class inside a category with a higher percentage of 0 (or No/False), then it will be particularly useful when modelling.\n",
    "\n",
    "The age field tends to positive churn, same as gender and investments. Payment method shows the described behaviour for the ticket class, but its too small to be relevant. Provinces show a couple of classes that might be relevant, such as Entre Rios or especially Corrientes, but we already analyzed why we might have to drop this one."
   ]
  },
  {
   "cell_type": "code",
   "execution_count": 44,
   "metadata": {},
   "outputs": [
    {
     "data": {
      "text/html": [
       "<div>\n",
       "<style scoped>\n",
       "    .dataframe tbody tr th:only-of-type {\n",
       "        vertical-align: middle;\n",
       "    }\n",
       "\n",
       "    .dataframe tbody tr th {\n",
       "        vertical-align: top;\n",
       "    }\n",
       "\n",
       "    .dataframe thead th {\n",
       "        text-align: right;\n",
       "    }\n",
       "</style>\n",
       "<table border=\"1\" class=\"dataframe\">\n",
       "  <thead>\n",
       "    <tr style=\"text-align: right;\">\n",
       "      <th></th>\n",
       "      <th>id</th>\n",
       "      <th>churn</th>\n",
       "      <th>pa_3</th>\n",
       "      <th>pb_3</th>\n",
       "      <th>pa_2</th>\n",
       "      <th>pb_2</th>\n",
       "      <th>pa_1</th>\n",
       "      <th>pb_1</th>\n",
       "      <th>age_int</th>\n",
       "      <th>gender_int</th>\n",
       "      <th>pay_type_int</th>\n",
       "      <th>province_int</th>\n",
       "      <th>money_1</th>\n",
       "      <th>money_2</th>\n",
       "      <th>investment_int</th>\n",
       "      <th>spent_pa</th>\n",
       "      <th>discount_pa</th>\n",
       "      <th>segment_int</th>\n",
       "    </tr>\n",
       "  </thead>\n",
       "  <tbody>\n",
       "    <tr>\n",
       "      <th>0</th>\n",
       "      <td>20663512</td>\n",
       "      <td>1</td>\n",
       "      <td>13</td>\n",
       "      <td>25</td>\n",
       "      <td>14</td>\n",
       "      <td>24</td>\n",
       "      <td>5</td>\n",
       "      <td>25</td>\n",
       "      <td>6</td>\n",
       "      <td>1</td>\n",
       "      <td>3</td>\n",
       "      <td>2</td>\n",
       "      <td>6935.650000</td>\n",
       "      <td>10447.870000</td>\n",
       "      <td>4</td>\n",
       "      <td>11.3566</td>\n",
       "      <td>2.2312</td>\n",
       "      <td>1</td>\n",
       "    </tr>\n",
       "    <tr>\n",
       "      <th>1</th>\n",
       "      <td>20663512</td>\n",
       "      <td>1</td>\n",
       "      <td>13</td>\n",
       "      <td>25</td>\n",
       "      <td>14</td>\n",
       "      <td>24</td>\n",
       "      <td>5</td>\n",
       "      <td>25</td>\n",
       "      <td>6</td>\n",
       "      <td>1</td>\n",
       "      <td>3</td>\n",
       "      <td>2</td>\n",
       "      <td>6935.650000</td>\n",
       "      <td>10447.870000</td>\n",
       "      <td>4</td>\n",
       "      <td>36.6384</td>\n",
       "      <td>0.0000</td>\n",
       "      <td>2</td>\n",
       "    </tr>\n",
       "    <tr>\n",
       "      <th>2</th>\n",
       "      <td>444286946</td>\n",
       "      <td>0</td>\n",
       "      <td>5</td>\n",
       "      <td>9</td>\n",
       "      <td>5</td>\n",
       "      <td>9</td>\n",
       "      <td>6</td>\n",
       "      <td>10</td>\n",
       "      <td>3</td>\n",
       "      <td>2</td>\n",
       "      <td>4</td>\n",
       "      <td>2</td>\n",
       "      <td>3692.968965</td>\n",
       "      <td>3086.271906</td>\n",
       "      <td>5</td>\n",
       "      <td>16.2064</td>\n",
       "      <td>3.8226</td>\n",
       "      <td>1</td>\n",
       "    </tr>\n",
       "    <tr>\n",
       "      <th>3</th>\n",
       "      <td>444286946</td>\n",
       "      <td>0</td>\n",
       "      <td>5</td>\n",
       "      <td>9</td>\n",
       "      <td>5</td>\n",
       "      <td>9</td>\n",
       "      <td>6</td>\n",
       "      <td>10</td>\n",
       "      <td>3</td>\n",
       "      <td>2</td>\n",
       "      <td>4</td>\n",
       "      <td>2</td>\n",
       "      <td>3626.798983</td>\n",
       "      <td>3027.306869</td>\n",
       "      <td>5</td>\n",
       "      <td>4.6190</td>\n",
       "      <td>0.9238</td>\n",
       "      <td>4</td>\n",
       "    </tr>\n",
       "    <tr>\n",
       "      <th>4</th>\n",
       "      <td>348084528</td>\n",
       "      <td>1</td>\n",
       "      <td>4</td>\n",
       "      <td>4</td>\n",
       "      <td>4</td>\n",
       "      <td>3</td>\n",
       "      <td>3</td>\n",
       "      <td>8</td>\n",
       "      <td>0</td>\n",
       "      <td>1</td>\n",
       "      <td>3</td>\n",
       "      <td>25</td>\n",
       "      <td>0.000000</td>\n",
       "      <td>0.000000</td>\n",
       "      <td>3</td>\n",
       "      <td>6.4574</td>\n",
       "      <td>0.0000</td>\n",
       "      <td>0</td>\n",
       "    </tr>\n",
       "  </tbody>\n",
       "</table>\n",
       "</div>"
      ],
      "text/plain": [
       "          id  churn  pa_3  pb_3  pa_2  pb_2  pa_1  pb_1  age_int  gender_int  \\\n",
       "0   20663512      1    13    25    14    24     5    25        6           1   \n",
       "1   20663512      1    13    25    14    24     5    25        6           1   \n",
       "2  444286946      0     5     9     5     9     6    10        3           2   \n",
       "3  444286946      0     5     9     5     9     6    10        3           2   \n",
       "4  348084528      1     4     4     4     3     3     8        0           1   \n",
       "\n",
       "   pay_type_int  province_int      money_1       money_2  investment_int  \\\n",
       "0             3             2  6935.650000  10447.870000               4   \n",
       "1             3             2  6935.650000  10447.870000               4   \n",
       "2             4             2  3692.968965   3086.271906               5   \n",
       "3             4             2  3626.798983   3027.306869               5   \n",
       "4             3            25     0.000000      0.000000               3   \n",
       "\n",
       "   spent_pa  discount_pa  segment_int  \n",
       "0   11.3566       2.2312            1  \n",
       "1   36.6384       0.0000            2  \n",
       "2   16.2064       3.8226            1  \n",
       "3    4.6190       0.9238            4  \n",
       "4    6.4574       0.0000            0  "
      ]
     },
     "execution_count": 44,
     "metadata": {},
     "output_type": "execute_result"
    }
   ],
   "source": [
    "# Categories back to numeric data\n",
    "for col, data in demo_cat_map.items():\n",
    "    for code, cat in data.items():\n",
    "        final_df.loc[final_df[col+'_int'] == cat, col+'_int'] = code\n",
    "    final_df[col+'_int'] = final_df[col+'_int'].astype(int)\n",
    "\n",
    "for col, data in money_cat_map.items():\n",
    "    for code, cat in data.items():\n",
    "        final_df.loc[final_df[col+'_int'] == cat, col+'_int'] = code\n",
    "    final_df[col+'_int'] = final_df[col+'_int'].astype(int)\n",
    "\n",
    "for code, cat in age_cat_map.items():\n",
    "    final_df.loc[final_df['age_int'] == cat, 'age_int'] = code\n",
    "final_df['age_int'] = final_df['age_int'].astype(int)\n",
    "\n",
    "for col, data in pay_cat_map.items():\n",
    "    for code, cat in data.items():\n",
    "        final_df.loc[final_df[col+'_int'] == cat, col+'_int'] = code\n",
    "    final_df[col+'_int'] = final_df[col+'_int'].astype(int)\n",
    "final_df.head()"
   ]
  },
  {
   "cell_type": "markdown",
   "metadata": {},
   "source": [
    "### Numeric Data"
   ]
  },
  {
   "cell_type": "code",
   "execution_count": 45,
   "metadata": {},
   "outputs": [
    {
     "data": {
      "image/png": "[encoded data removed]",
      "text/plain": [
       "<Figure size 432x288 with 1 Axes>"
      ]
     },
     "metadata": {
      "needs_background": "light"
     },
     "output_type": "display_data"
    },
    {
     "data": {
      "image/png": "[encoded data removed]",
      "text/plain": [
       "<Figure size 432x288 with 1 Axes>"
      ]
     },
     "metadata": {
      "needs_background": "light"
     },
     "output_type": "display_data"
    },
    {
     "data": {
      "image/png": "[encoded data removed]",
      "text/plain": [
       "<Figure size 432x288 with 1 Axes>"
      ]
     },
     "metadata": {
      "needs_background": "light"
     },
     "output_type": "display_data"
    },
    {
     "data": {
      "image/png": "[encoded data removed]",
      "text/plain": [
       "<Figure size 432x288 with 1 Axes>"
      ]
     },
     "metadata": {
      "needs_background": "light"
     },
     "output_type": "display_data"
    },
    {
     "data": {
      "image/png": "[encoded data removed]",
      "text/plain": [
       "<Figure size 432x288 with 1 Axes>"
      ]
     },
     "metadata": {
      "needs_background": "light"
     },
     "output_type": "display_data"
    },
    {
     "data": {
      "image/png": "[encoded data removed]",
      "text/plain": [
       "<Figure size 432x288 with 1 Axes>"
      ]
     },
     "metadata": {
      "needs_background": "light"
     },
     "output_type": "display_data"
    }
   ],
   "source": [
    "for num in numeric[:6]: #countplot only for discrete variables\n",
    "    sns.countplot(y=final_df[num], data=final_df[num])\n",
    "    plt.show()"
   ]
  },
  {
   "cell_type": "markdown",
   "metadata": {},
   "source": [
    "We see the amount of times each customer has opened the platform A or B app in the last 1/2/3 months. For all cases, users seem to utilize platform B more for every month."
   ]
  },
  {
   "cell_type": "code",
   "execution_count": 46,
   "metadata": {},
   "outputs": [
    {
     "data": {
      "image/png": "[encoded data removed]",
      "text/plain": [
       "<Figure size 432x288 with 1 Axes>"
      ]
     },
     "metadata": {
      "needs_background": "light"
     },
     "output_type": "display_data"
    },
    {
     "data": {
      "image/png": "[encoded data removed]",
      "text/plain": [
       "<Figure size 432x288 with 1 Axes>"
      ]
     },
     "metadata": {
      "needs_background": "light"
     },
     "output_type": "display_data"
    },
    {
     "data": {
      "image/png": "[encoded data removed]",
      "text/plain": [
       "<Figure size 432x288 with 1 Axes>"
      ]
     },
     "metadata": {
      "needs_background": "light"
     },
     "output_type": "display_data"
    },
    {
     "data": {
      "image/png": "[encoded data removed]",
      "text/plain": [
       "<Figure size 432x288 with 1 Axes>"
      ]
     },
     "metadata": {
      "needs_background": "light"
     },
     "output_type": "display_data"
    },
    {
     "data": {
      "image/png": "[encoded data removed]",
      "text/plain": [
       "<Figure size 432x288 with 1 Axes>"
      ]
     },
     "metadata": {
      "needs_background": "light"
     },
     "output_type": "display_data"
    },
    {
     "data": {
      "image/png": "[encoded data removed]",
      "text/plain": [
       "<Figure size 432x288 with 1 Axes>"
      ]
     },
     "metadata": {
      "needs_background": "light"
     },
     "output_type": "display_data"
    }
   ],
   "source": [
    "for num in numeric[:6]:\n",
    "    sns.boxplot(data=final_df, x=\"churn\", y=num)\n",
    "    plt.show()"
   ]
  },
  {
   "cell_type": "markdown",
   "metadata": {},
   "source": [
    "Boxplots show how \"separated\" are our data points. In general, they are within similar lines, and the height is the thing that differs beween the True/False response. However, platform B pb seems to be positioned a little bit higher, showing differences within the groups. Height is always in favour of the True response, confirming the unbalanced nature of our dataset. Moreover, platform A fields show a bigger amount of outliers, which shows there are some users using the platform a lot more than most people.\n",
    "\n",
    "Lastly, platform A fields might be believed to spill information to the actual response, given that, the more an user opens the app, the more he's going to transact in it. This is not the case, however, due to them being based on time - they refer to the previous three months, and we are analyzing the following two. If anything, they might be important fields due to high correlation, which we are going to analyze later."
   ]
  },
  {
   "cell_type": "code",
   "execution_count": 47,
   "metadata": {},
   "outputs": [
    {
     "data": {
      "image/png": "[encoded data removed]",
      "text/plain": [
       "<Figure size 432x288 with 1 Axes>"
      ]
     },
     "metadata": {
      "needs_background": "light"
     },
     "output_type": "display_data"
    },
    {
     "data": {
      "image/png": "[encoded data removed]",
      "text/plain": [
       "<Figure size 432x288 with 1 Axes>"
      ]
     },
     "metadata": {
      "needs_background": "light"
     },
     "output_type": "display_data"
    },
    {
     "data": {
      "image/png": "[encoded data removed]",
      "text/plain": [
       "<Figure size 432x288 with 1 Axes>"
      ]
     },
     "metadata": {
      "needs_background": "light"
     },
     "output_type": "display_data"
    }
   ],
   "source": [
    "# Check continuous variables\n",
    "for num in numeric[7:]:\n",
    "    sns.distplot(final_df[num])\n",
    "    plt.show()"
   ]
  },
  {
   "cell_type": "markdown",
   "metadata": {},
   "source": [
    "The distributions for our continues variables are right-skewed, meaning most values are o the left side of the distribution, while the outliers are on the right. This means the money spent (be it platform A or B) or the discount are closer to 0 (in relative terms to each column, with discount not being as extreme as the other two fields)."
   ]
  },
  {
   "cell_type": "code",
   "execution_count": 48,
   "metadata": {},
   "outputs": [],
   "source": [
    "aux_df = final_df.drop('id', axis=1)"
   ]
  },
  {
   "cell_type": "code",
   "execution_count": 49,
   "metadata": {},
   "outputs": [
    {
     "data": {
      "text/plain": [
       "<matplotlib.axes._subplots.AxesSubplot at 0x17fcd042588>"
      ]
     },
     "execution_count": 49,
     "metadata": {},
     "output_type": "execute_result"
    },
    {
     "data": {
      "image/png": "[encoded data removed]",
      "text/plain": [
       "<Figure size 432x288 with 2 Axes>"
      ]
     },
     "metadata": {
      "needs_background": "light"
     },
     "output_type": "display_data"
    }
   ],
   "source": [
    "sns.heatmap(aux_df.corr())"
   ]
  },
  {
   "cell_type": "code",
   "execution_count": 50,
   "metadata": {},
   "outputs": [
    {
     "data": {
      "text/html": [
       "<div>\n",
       "<style scoped>\n",
       "    .dataframe tbody tr th:only-of-type {\n",
       "        vertical-align: middle;\n",
       "    }\n",
       "\n",
       "    .dataframe tbody tr th {\n",
       "        vertical-align: top;\n",
       "    }\n",
       "\n",
       "    .dataframe thead th {\n",
       "        text-align: right;\n",
       "    }\n",
       "</style>\n",
       "<table border=\"1\" class=\"dataframe\">\n",
       "  <thead>\n",
       "    <tr style=\"text-align: right;\">\n",
       "      <th></th>\n",
       "      <th>churn</th>\n",
       "      <th>pa_3</th>\n",
       "      <th>pb_3</th>\n",
       "      <th>pa_2</th>\n",
       "      <th>pb_2</th>\n",
       "      <th>pa_1</th>\n",
       "      <th>pb_1</th>\n",
       "      <th>age_int</th>\n",
       "      <th>gender_int</th>\n",
       "      <th>pay_type_int</th>\n",
       "      <th>province_int</th>\n",
       "      <th>money_1</th>\n",
       "      <th>money_2</th>\n",
       "      <th>investment_int</th>\n",
       "      <th>spent_pa</th>\n",
       "      <th>discount_pa</th>\n",
       "      <th>segment_int</th>\n",
       "    </tr>\n",
       "  </thead>\n",
       "  <tbody>\n",
       "    <tr>\n",
       "      <th>churn</th>\n",
       "      <td>1.000000</td>\n",
       "      <td>0.219681</td>\n",
       "      <td>0.063380</td>\n",
       "      <td>0.250053</td>\n",
       "      <td>0.069911</td>\n",
       "      <td>0.279025</td>\n",
       "      <td>0.077768</td>\n",
       "      <td>-0.032665</td>\n",
       "      <td>0.050549</td>\n",
       "      <td>-0.090026</td>\n",
       "      <td>-0.126840</td>\n",
       "      <td>0.063823</td>\n",
       "      <td>0.055592</td>\n",
       "      <td>0.090385</td>\n",
       "      <td>0.049677</td>\n",
       "      <td>0.088780</td>\n",
       "      <td>0.083580</td>\n",
       "    </tr>\n",
       "    <tr>\n",
       "      <th>pa_3</th>\n",
       "      <td>0.219681</td>\n",
       "      <td>1.000000</td>\n",
       "      <td>0.122466</td>\n",
       "      <td>0.834807</td>\n",
       "      <td>0.103566</td>\n",
       "      <td>0.740764</td>\n",
       "      <td>0.090047</td>\n",
       "      <td>-0.062560</td>\n",
       "      <td>0.040193</td>\n",
       "      <td>-0.416272</td>\n",
       "      <td>0.054869</td>\n",
       "      <td>0.221959</td>\n",
       "      <td>0.228871</td>\n",
       "      <td>0.158045</td>\n",
       "      <td>0.155073</td>\n",
       "      <td>-0.064861</td>\n",
       "      <td>0.041506</td>\n",
       "    </tr>\n",
       "    <tr>\n",
       "      <th>pb_3</th>\n",
       "      <td>0.063380</td>\n",
       "      <td>0.122466</td>\n",
       "      <td>1.000000</td>\n",
       "      <td>0.107290</td>\n",
       "      <td>0.873719</td>\n",
       "      <td>0.084520</td>\n",
       "      <td>0.823862</td>\n",
       "      <td>0.106577</td>\n",
       "      <td>0.248317</td>\n",
       "      <td>0.004101</td>\n",
       "      <td>-0.083320</td>\n",
       "      <td>0.069573</td>\n",
       "      <td>0.069770</td>\n",
       "      <td>0.058357</td>\n",
       "      <td>0.000030</td>\n",
       "      <td>0.013860</td>\n",
       "      <td>-0.037065</td>\n",
       "    </tr>\n",
       "    <tr>\n",
       "      <th>pa_2</th>\n",
       "      <td>0.250053</td>\n",
       "      <td>0.834807</td>\n",
       "      <td>0.107290</td>\n",
       "      <td>1.000000</td>\n",
       "      <td>0.141048</td>\n",
       "      <td>0.830558</td>\n",
       "      <td>0.112251</td>\n",
       "      <td>-0.066518</td>\n",
       "      <td>0.044035</td>\n",
       "      <td>-0.425002</td>\n",
       "      <td>0.046067</td>\n",
       "      <td>0.232446</td>\n",
       "      <td>0.234778</td>\n",
       "      <td>0.169205</td>\n",
       "      <td>0.158210</td>\n",
       "      <td>-0.052997</td>\n",
       "      <td>0.045302</td>\n",
       "    </tr>\n",
       "    <tr>\n",
       "      <th>pb_2</th>\n",
       "      <td>0.069911</td>\n",
       "      <td>0.103566</td>\n",
       "      <td>0.873719</td>\n",
       "      <td>0.141048</td>\n",
       "      <td>1.000000</td>\n",
       "      <td>0.116881</td>\n",
       "      <td>0.875833</td>\n",
       "      <td>0.106210</td>\n",
       "      <td>0.249928</td>\n",
       "      <td>-0.001258</td>\n",
       "      <td>-0.083619</td>\n",
       "      <td>0.077379</td>\n",
       "      <td>0.076948</td>\n",
       "      <td>0.058218</td>\n",
       "      <td>0.006075</td>\n",
       "      <td>0.014998</td>\n",
       "      <td>-0.039228</td>\n",
       "    </tr>\n",
       "    <tr>\n",
       "      <th>pa_1</th>\n",
       "      <td>0.279025</td>\n",
       "      <td>0.740764</td>\n",
       "      <td>0.084520</td>\n",
       "      <td>0.830558</td>\n",
       "      <td>0.116881</td>\n",
       "      <td>1.000000</td>\n",
       "      <td>0.139429</td>\n",
       "      <td>-0.083525</td>\n",
       "      <td>0.043749</td>\n",
       "      <td>-0.442788</td>\n",
       "      <td>0.052341</td>\n",
       "      <td>0.245200</td>\n",
       "      <td>0.217850</td>\n",
       "      <td>0.158280</td>\n",
       "      <td>0.169321</td>\n",
       "      <td>-0.032895</td>\n",
       "      <td>0.045174</td>\n",
       "    </tr>\n",
       "    <tr>\n",
       "      <th>pb_1</th>\n",
       "      <td>0.077768</td>\n",
       "      <td>0.090047</td>\n",
       "      <td>0.823862</td>\n",
       "      <td>0.112251</td>\n",
       "      <td>0.875833</td>\n",
       "      <td>0.139429</td>\n",
       "      <td>1.000000</td>\n",
       "      <td>0.103624</td>\n",
       "      <td>0.248724</td>\n",
       "      <td>-0.002234</td>\n",
       "      <td>-0.076518</td>\n",
       "      <td>0.080078</td>\n",
       "      <td>0.073607</td>\n",
       "      <td>0.051564</td>\n",
       "      <td>0.008191</td>\n",
       "      <td>0.014218</td>\n",
       "      <td>-0.043246</td>\n",
       "    </tr>\n",
       "    <tr>\n",
       "      <th>age_int</th>\n",
       "      <td>-0.032665</td>\n",
       "      <td>-0.062560</td>\n",
       "      <td>0.106577</td>\n",
       "      <td>-0.066518</td>\n",
       "      <td>0.106210</td>\n",
       "      <td>-0.083525</td>\n",
       "      <td>0.103624</td>\n",
       "      <td>1.000000</td>\n",
       "      <td>0.109627</td>\n",
       "      <td>0.030075</td>\n",
       "      <td>-0.018930</td>\n",
       "      <td>-0.060650</td>\n",
       "      <td>-0.045862</td>\n",
       "      <td>0.009451</td>\n",
       "      <td>-0.062732</td>\n",
       "      <td>0.042696</td>\n",
       "      <td>0.019917</td>\n",
       "    </tr>\n",
       "    <tr>\n",
       "      <th>gender_int</th>\n",
       "      <td>0.050549</td>\n",
       "      <td>0.040193</td>\n",
       "      <td>0.248317</td>\n",
       "      <td>0.044035</td>\n",
       "      <td>0.249928</td>\n",
       "      <td>0.043749</td>\n",
       "      <td>0.248724</td>\n",
       "      <td>0.109627</td>\n",
       "      <td>1.000000</td>\n",
       "      <td>-0.021462</td>\n",
       "      <td>0.008431</td>\n",
       "      <td>0.001342</td>\n",
       "      <td>0.001050</td>\n",
       "      <td>0.028596</td>\n",
       "      <td>-0.012005</td>\n",
       "      <td>0.009396</td>\n",
       "      <td>-0.021839</td>\n",
       "    </tr>\n",
       "    <tr>\n",
       "      <th>pay_type_int</th>\n",
       "      <td>-0.090026</td>\n",
       "      <td>-0.416272</td>\n",
       "      <td>0.004101</td>\n",
       "      <td>-0.425002</td>\n",
       "      <td>-0.001258</td>\n",
       "      <td>-0.442788</td>\n",
       "      <td>-0.002234</td>\n",
       "      <td>0.030075</td>\n",
       "      <td>-0.021462</td>\n",
       "      <td>1.000000</td>\n",
       "      <td>-0.113874</td>\n",
       "      <td>-0.170784</td>\n",
       "      <td>-0.166470</td>\n",
       "      <td>-0.114446</td>\n",
       "      <td>-0.110245</td>\n",
       "      <td>0.074966</td>\n",
       "      <td>0.044634</td>\n",
       "    </tr>\n",
       "    <tr>\n",
       "      <th>province_int</th>\n",
       "      <td>-0.126840</td>\n",
       "      <td>0.054869</td>\n",
       "      <td>-0.083320</td>\n",
       "      <td>0.046067</td>\n",
       "      <td>-0.083619</td>\n",
       "      <td>0.052341</td>\n",
       "      <td>-0.076518</td>\n",
       "      <td>-0.018930</td>\n",
       "      <td>0.008431</td>\n",
       "      <td>-0.113874</td>\n",
       "      <td>1.000000</td>\n",
       "      <td>-0.000811</td>\n",
       "      <td>0.004117</td>\n",
       "      <td>-0.002151</td>\n",
       "      <td>-0.012221</td>\n",
       "      <td>-0.127420</td>\n",
       "      <td>-0.091837</td>\n",
       "    </tr>\n",
       "    <tr>\n",
       "      <th>money_1</th>\n",
       "      <td>0.063823</td>\n",
       "      <td>0.221959</td>\n",
       "      <td>0.069573</td>\n",
       "      <td>0.232446</td>\n",
       "      <td>0.077379</td>\n",
       "      <td>0.245200</td>\n",
       "      <td>0.080078</td>\n",
       "      <td>-0.060650</td>\n",
       "      <td>0.001342</td>\n",
       "      <td>-0.170784</td>\n",
       "      <td>-0.000811</td>\n",
       "      <td>1.000000</td>\n",
       "      <td>0.891400</td>\n",
       "      <td>0.011207</td>\n",
       "      <td>0.190262</td>\n",
       "      <td>0.011374</td>\n",
       "      <td>0.010972</td>\n",
       "    </tr>\n",
       "    <tr>\n",
       "      <th>money_2</th>\n",
       "      <td>0.055592</td>\n",
       "      <td>0.228871</td>\n",
       "      <td>0.069770</td>\n",
       "      <td>0.234778</td>\n",
       "      <td>0.076948</td>\n",
       "      <td>0.217850</td>\n",
       "      <td>0.073607</td>\n",
       "      <td>-0.045862</td>\n",
       "      <td>0.001050</td>\n",
       "      <td>-0.166470</td>\n",
       "      <td>0.004117</td>\n",
       "      <td>0.891400</td>\n",
       "      <td>1.000000</td>\n",
       "      <td>0.012237</td>\n",
       "      <td>0.168510</td>\n",
       "      <td>0.006771</td>\n",
       "      <td>0.009759</td>\n",
       "    </tr>\n",
       "    <tr>\n",
       "      <th>investment_int</th>\n",
       "      <td>0.090385</td>\n",
       "      <td>0.158045</td>\n",
       "      <td>0.058357</td>\n",
       "      <td>0.169205</td>\n",
       "      <td>0.058218</td>\n",
       "      <td>0.158280</td>\n",
       "      <td>0.051564</td>\n",
       "      <td>0.009451</td>\n",
       "      <td>0.028596</td>\n",
       "      <td>-0.114446</td>\n",
       "      <td>-0.002151</td>\n",
       "      <td>0.011207</td>\n",
       "      <td>0.012237</td>\n",
       "      <td>1.000000</td>\n",
       "      <td>0.018759</td>\n",
       "      <td>-0.048703</td>\n",
       "      <td>0.023593</td>\n",
       "    </tr>\n",
       "    <tr>\n",
       "      <th>spent_pa</th>\n",
       "      <td>0.049677</td>\n",
       "      <td>0.155073</td>\n",
       "      <td>0.000030</td>\n",
       "      <td>0.158210</td>\n",
       "      <td>0.006075</td>\n",
       "      <td>0.169321</td>\n",
       "      <td>0.008191</td>\n",
       "      <td>-0.062732</td>\n",
       "      <td>-0.012005</td>\n",
       "      <td>-0.110245</td>\n",
       "      <td>-0.012221</td>\n",
       "      <td>0.190262</td>\n",
       "      <td>0.168510</td>\n",
       "      <td>0.018759</td>\n",
       "      <td>1.000000</td>\n",
       "      <td>0.047286</td>\n",
       "      <td>0.005509</td>\n",
       "    </tr>\n",
       "    <tr>\n",
       "      <th>discount_pa</th>\n",
       "      <td>0.088780</td>\n",
       "      <td>-0.064861</td>\n",
       "      <td>0.013860</td>\n",
       "      <td>-0.052997</td>\n",
       "      <td>0.014998</td>\n",
       "      <td>-0.032895</td>\n",
       "      <td>0.014218</td>\n",
       "      <td>0.042696</td>\n",
       "      <td>0.009396</td>\n",
       "      <td>0.074966</td>\n",
       "      <td>-0.127420</td>\n",
       "      <td>0.011374</td>\n",
       "      <td>0.006771</td>\n",
       "      <td>-0.048703</td>\n",
       "      <td>0.047286</td>\n",
       "      <td>1.000000</td>\n",
       "      <td>-0.080843</td>\n",
       "    </tr>\n",
       "    <tr>\n",
       "      <th>segment_int</th>\n",
       "      <td>0.083580</td>\n",
       "      <td>0.041506</td>\n",
       "      <td>-0.037065</td>\n",
       "      <td>0.045302</td>\n",
       "      <td>-0.039228</td>\n",
       "      <td>0.045174</td>\n",
       "      <td>-0.043246</td>\n",
       "      <td>0.019917</td>\n",
       "      <td>-0.021839</td>\n",
       "      <td>0.044634</td>\n",
       "      <td>-0.091837</td>\n",
       "      <td>0.010972</td>\n",
       "      <td>0.009759</td>\n",
       "      <td>0.023593</td>\n",
       "      <td>0.005509</td>\n",
       "      <td>-0.080843</td>\n",
       "      <td>1.000000</td>\n",
       "    </tr>\n",
       "  </tbody>\n",
       "</table>\n",
       "</div>"
      ],
      "text/plain": [
       "                   churn      pa_3      pb_3      pa_2      pb_2      pa_1  \\\n",
       "churn           1.000000  0.219681  0.063380  0.250053  0.069911  0.279025   \n",
       "pa_3            0.219681  1.000000  0.122466  0.834807  0.103566  0.740764   \n",
       "pb_3            0.063380  0.122466  1.000000  0.107290  0.873719  0.084520   \n",
       "pa_2            0.250053  0.834807  0.107290  1.000000  0.141048  0.830558   \n",
       "pb_2            0.069911  0.103566  0.873719  0.141048  1.000000  0.116881   \n",
       "pa_1            0.279025  0.740764  0.084520  0.830558  0.116881  1.000000   \n",
       "pb_1            0.077768  0.090047  0.823862  0.112251  0.875833  0.139429   \n",
       "age_int        -0.032665 -0.062560  0.106577 -0.066518  0.106210 -0.083525   \n",
       "gender_int      0.050549  0.040193  0.248317  0.044035  0.249928  0.043749   \n",
       "pay_type_int   -0.090026 -0.416272  0.004101 -0.425002 -0.001258 -0.442788   \n",
       "province_int   -0.126840  0.054869 -0.083320  0.046067 -0.083619  0.052341   \n",
       "money_1         0.063823  0.221959  0.069573  0.232446  0.077379  0.245200   \n",
       "money_2         0.055592  0.228871  0.069770  0.234778  0.076948  0.217850   \n",
       "investment_int  0.090385  0.158045  0.058357  0.169205  0.058218  0.158280   \n",
       "spent_pa        0.049677  0.155073  0.000030  0.158210  0.006075  0.169321   \n",
       "discount_pa     0.088780 -0.064861  0.013860 -0.052997  0.014998 -0.032895   \n",
       "segment_int     0.083580  0.041506 -0.037065  0.045302 -0.039228  0.045174   \n",
       "\n",
       "                    pb_1   age_int  gender_int  pay_type_int  province_int  \\\n",
       "churn           0.077768 -0.032665    0.050549     -0.090026     -0.126840   \n",
       "pa_3            0.090047 -0.062560    0.040193     -0.416272      0.054869   \n",
       "pb_3            0.823862  0.106577    0.248317      0.004101     -0.083320   \n",
       "pa_2            0.112251 -0.066518    0.044035     -0.425002      0.046067   \n",
       "pb_2            0.875833  0.106210    0.249928     -0.001258     -0.083619   \n",
       "pa_1            0.139429 -0.083525    0.043749     -0.442788      0.052341   \n",
       "pb_1            1.000000  0.103624    0.248724     -0.002234     -0.076518   \n",
       "age_int         0.103624  1.000000    0.109627      0.030075     -0.018930   \n",
       "gender_int      0.248724  0.109627    1.000000     -0.021462      0.008431   \n",
       "pay_type_int   -0.002234  0.030075   -0.021462      1.000000     -0.113874   \n",
       "province_int   -0.076518 -0.018930    0.008431     -0.113874      1.000000   \n",
       "money_1         0.080078 -0.060650    0.001342     -0.170784     -0.000811   \n",
       "money_2         0.073607 -0.045862    0.001050     -0.166470      0.004117   \n",
       "investment_int  0.051564  0.009451    0.028596     -0.114446     -0.002151   \n",
       "spent_pa        0.008191 -0.062732   -0.012005     -0.110245     -0.012221   \n",
       "discount_pa     0.014218  0.042696    0.009396      0.074966     -0.127420   \n",
       "segment_int    -0.043246  0.019917   -0.021839      0.044634     -0.091837   \n",
       "\n",
       "                 money_1   money_2  investment_int  spent_pa  discount_pa  \\\n",
       "churn           0.063823  0.055592        0.090385  0.049677     0.088780   \n",
       "pa_3            0.221959  0.228871        0.158045  0.155073    -0.064861   \n",
       "pb_3            0.069573  0.069770        0.058357  0.000030     0.013860   \n",
       "pa_2            0.232446  0.234778        0.169205  0.158210    -0.052997   \n",
       "pb_2            0.077379  0.076948        0.058218  0.006075     0.014998   \n",
       "pa_1            0.245200  0.217850        0.158280  0.169321    -0.032895   \n",
       "pb_1            0.080078  0.073607        0.051564  0.008191     0.014218   \n",
       "age_int        -0.060650 -0.045862        0.009451 -0.062732     0.042696   \n",
       "gender_int      0.001342  0.001050        0.028596 -0.012005     0.009396   \n",
       "pay_type_int   -0.170784 -0.166470       -0.114446 -0.110245     0.074966   \n",
       "province_int   -0.000811  0.004117       -0.002151 -0.012221    -0.127420   \n",
       "money_1         1.000000  0.891400        0.011207  0.190262     0.011374   \n",
       "money_2         0.891400  1.000000        0.012237  0.168510     0.006771   \n",
       "investment_int  0.011207  0.012237        1.000000  0.018759    -0.048703   \n",
       "spent_pa        0.190262  0.168510        0.018759  1.000000     0.047286   \n",
       "discount_pa     0.011374  0.006771       -0.048703  0.047286     1.000000   \n",
       "segment_int     0.010972  0.009759        0.023593  0.005509    -0.080843   \n",
       "\n",
       "                segment_int  \n",
       "churn              0.083580  \n",
       "pa_3               0.041506  \n",
       "pb_3              -0.037065  \n",
       "pa_2               0.045302  \n",
       "pb_2              -0.039228  \n",
       "pa_1               0.045174  \n",
       "pb_1              -0.043246  \n",
       "age_int            0.019917  \n",
       "gender_int        -0.021839  \n",
       "pay_type_int       0.044634  \n",
       "province_int      -0.091837  \n",
       "money_1            0.010972  \n",
       "money_2            0.009759  \n",
       "investment_int     0.023593  \n",
       "spent_pa           0.005509  \n",
       "discount_pa       -0.080843  \n",
       "segment_int        1.000000  "
      ]
     },
     "execution_count": 50,
     "metadata": {},
     "output_type": "execute_result"
    }
   ],
   "source": [
    "final_df.corr()"
   ]
  },
  {
   "cell_type": "markdown",
   "metadata": {},
   "source": [
    "The correlation table has a lot of information, so we use the heatmap to visualize it quickly. First, there are not a lot of high correlations on the entire dataset. As expected, platform A fields are strongly correlated with each other (that is pa_1, pa_2 and pa_3); and the same happens between the platform B columns. Platform B fields, however, are not really correlated with platform A, which is related to the churn we want to predict, so we might test by dropping them in the future.\n",
    "\n",
    "Similar case for the money columns, that are correlated between each other (given the money on month -2 has a high chance of staying there until month -1). The most surprising part is that there's no correlation between what's spent by the user and the discount they receive.\n",
    "\n",
    "Now we check the correlations in contrast to the response."
   ]
  },
  {
   "cell_type": "code",
   "execution_count": 51,
   "metadata": {},
   "outputs": [
    {
     "data": {
      "text/html": [
       "<div>\n",
       "<style scoped>\n",
       "    .dataframe tbody tr th:only-of-type {\n",
       "        vertical-align: middle;\n",
       "    }\n",
       "\n",
       "    .dataframe tbody tr th {\n",
       "        vertical-align: top;\n",
       "    }\n",
       "\n",
       "    .dataframe thead th {\n",
       "        text-align: right;\n",
       "    }\n",
       "</style>\n",
       "<table border=\"1\" class=\"dataframe\">\n",
       "  <thead>\n",
       "    <tr style=\"text-align: right;\">\n",
       "      <th></th>\n",
       "      <th>churn</th>\n",
       "    </tr>\n",
       "  </thead>\n",
       "  <tbody>\n",
       "    <tr>\n",
       "      <th>churn</th>\n",
       "      <td>1.000000</td>\n",
       "    </tr>\n",
       "    <tr>\n",
       "      <th>pa_1</th>\n",
       "      <td>0.279025</td>\n",
       "    </tr>\n",
       "    <tr>\n",
       "      <th>pa_2</th>\n",
       "      <td>0.250053</td>\n",
       "    </tr>\n",
       "    <tr>\n",
       "      <th>pa_3</th>\n",
       "      <td>0.219681</td>\n",
       "    </tr>\n",
       "    <tr>\n",
       "      <th>investment_int</th>\n",
       "      <td>0.090385</td>\n",
       "    </tr>\n",
       "    <tr>\n",
       "      <th>discount_pa</th>\n",
       "      <td>0.088780</td>\n",
       "    </tr>\n",
       "    <tr>\n",
       "      <th>segment_int</th>\n",
       "      <td>0.083580</td>\n",
       "    </tr>\n",
       "    <tr>\n",
       "      <th>pb_1</th>\n",
       "      <td>0.077768</td>\n",
       "    </tr>\n",
       "    <tr>\n",
       "      <th>pb_2</th>\n",
       "      <td>0.069911</td>\n",
       "    </tr>\n",
       "    <tr>\n",
       "      <th>money_1</th>\n",
       "      <td>0.063823</td>\n",
       "    </tr>\n",
       "    <tr>\n",
       "      <th>pb_3</th>\n",
       "      <td>0.063380</td>\n",
       "    </tr>\n",
       "    <tr>\n",
       "      <th>money_2</th>\n",
       "      <td>0.055592</td>\n",
       "    </tr>\n",
       "    <tr>\n",
       "      <th>gender_int</th>\n",
       "      <td>0.050549</td>\n",
       "    </tr>\n",
       "    <tr>\n",
       "      <th>spent_pa</th>\n",
       "      <td>0.049677</td>\n",
       "    </tr>\n",
       "    <tr>\n",
       "      <th>age_int</th>\n",
       "      <td>-0.032665</td>\n",
       "    </tr>\n",
       "    <tr>\n",
       "      <th>pay_type_int</th>\n",
       "      <td>-0.090026</td>\n",
       "    </tr>\n",
       "    <tr>\n",
       "      <th>province_int</th>\n",
       "      <td>-0.126840</td>\n",
       "    </tr>\n",
       "  </tbody>\n",
       "</table>\n",
       "</div>"
      ],
      "text/plain": [
       "                   churn\n",
       "churn           1.000000\n",
       "pa_1            0.279025\n",
       "pa_2            0.250053\n",
       "pa_3            0.219681\n",
       "investment_int  0.090385\n",
       "discount_pa     0.088780\n",
       "segment_int     0.083580\n",
       "pb_1            0.077768\n",
       "pb_2            0.069911\n",
       "money_1         0.063823\n",
       "pb_3            0.063380\n",
       "money_2         0.055592\n",
       "gender_int      0.050549\n",
       "spent_pa        0.049677\n",
       "age_int        -0.032665\n",
       "pay_type_int   -0.090026\n",
       "province_int   -0.126840"
      ]
     },
     "execution_count": 51,
     "metadata": {},
     "output_type": "execute_result"
    }
   ],
   "source": [
    "final_df.corr()[['churn']].sort_values('churn', ascending=False)"
   ]
  },
  {
   "cell_type": "markdown",
   "metadata": {},
   "source": [
    "There aren't really high correlations between the churn and the rest of the fields. Discount and pa columns are the ones with the highest coefficient. This makes sense, given an user might be less inclined to use the platform when there's no discounts, and the ones that enter the app the most are the most likely to make transactions in the future. This fields will probably be the most relevant when modelling."
   ]
  },
  {
   "cell_type": "markdown",
   "metadata": {},
   "source": [
    "### Summay\n",
    "\n",
    "We conducted an exploratory analysis of the numeric and categorical variables, checking counts, distributions, correlations, variance, etc. Among the numeric ones, we found the amount of times the users opened the platform A app and the discount might be important when modelling. On the categorical side of things, we say the province might be relevant, but the skew towards Buenos Aires makes it likely to be dropped; while the pay type and segment will be important.\n",
    "\n",
    "On the other hand, the features to be eliminated first when modelling will be the card type, due to its low variance, or the ones related to platform B, due to low correlation to the churn.\n",
    "\n",
    "When modelling, we'll start using every feature, and, after we found clear-cut parameters for our models, we will start the feature engineering process."
   ]
  },
  {
   "cell_type": "markdown",
   "metadata": {},
   "source": [
    "### Data Preprocessing\n",
    "Necessary normalization step for the dataframe before using it in the models. We'll also define the target and the features to be used, as well as dividing the table on train and test sets for modelling (although later we will use  a more formal and complete approach to Cross Validation, such as KFold)."
   ]
  },
  {
   "cell_type": "code",
   "execution_count": 52,
   "metadata": {},
   "outputs": [],
   "source": [
    "# Will normalize based on the value of the cell minus the min, divided by max minus min\n",
    "def normalize(col):\n",
    "    '''\n",
    "    Normalizes the desired column.\n",
    "    Args:\n",
    "        col (str): column to normalize.\n",
    "    Returns:\n",
    "        Normalized value for each cell.\n",
    "    '''\n",
    "    \n",
    "    return (col - min(col)) / (max(col) - min(col))"
   ]
  },
  {
   "cell_type": "code",
   "execution_count": 53,
   "metadata": {},
   "outputs": [],
   "source": [
    "# target is churn\n",
    "target = final_df['churn'].copy()\n",
    "\n",
    "# ID is not a feature, we'll drop it\n",
    "final_df.drop(['id', 'churn'], axis=1, inplace=True)\n",
    "\n",
    "# Predictors\n",
    "features = final_df.columns"
   ]
  },
  {
   "cell_type": "code",
   "execution_count": 54,
   "metadata": {},
   "outputs": [
    {
     "name": "stdout",
     "output_type": "stream",
     "text": [
      "pa_3\n",
      "0.000000    10662\n",
      "0.161290     7716\n",
      "0.064516     6791\n",
      "0.032258     6522\n",
      "0.096774     5463\n",
      "0.129032     4051\n",
      "0.193548     2798\n",
      "0.225806     2390\n",
      "0.258065     1921\n",
      "0.290323     1691\n",
      "0.322581     1459\n",
      "0.354839     1337\n",
      "0.387097     1057\n",
      "0.419355      994\n",
      "0.451613      845\n",
      "0.483871      781\n",
      "0.516129      699\n",
      "0.548387      648\n",
      "1.000000      624\n",
      "0.580645      607\n",
      "0.612903      511\n",
      "0.645161      464\n",
      "0.709677      461\n",
      "0.677419      430\n",
      "0.741935      419\n",
      "0.838710      367\n",
      "0.774194      342\n",
      "0.806452      340\n",
      "0.870968      335\n",
      "0.967742      328\n",
      "0.903226      322\n",
      "0.935484      299\n",
      "Name: pa_3, dtype: int64\n",
      "\n",
      "\n",
      "pb_3\n",
      "0.000000    12554\n",
      "0.290323     5948\n",
      "0.032258     4872\n",
      "0.064516     4178\n",
      "0.096774     1964\n",
      "0.193548     1957\n",
      "0.161290     1843\n",
      "0.129032     1840\n",
      "0.225806     1722\n",
      "0.258065     1688\n",
      "0.322581     1665\n",
      "0.354839     1622\n",
      "0.387097     1490\n",
      "0.516129     1421\n",
      "0.483871     1381\n",
      "0.419355     1366\n",
      "0.451613     1361\n",
      "0.548387     1224\n",
      "0.580645     1193\n",
      "0.612903     1143\n",
      "0.645161     1109\n",
      "0.677419     1085\n",
      "0.709677     1058\n",
      "0.741935      985\n",
      "1.000000      969\n",
      "0.774194      941\n",
      "0.806452      925\n",
      "0.838710      898\n",
      "0.870968      878\n",
      "0.935484      824\n",
      "0.967742      801\n",
      "0.903226      769\n",
      "Name: pb_3, dtype: int64\n",
      "\n",
      "\n",
      "pa_2\n",
      "0.000000    8972\n",
      "0.166667    7963\n",
      "0.066667    6625\n",
      "0.033333    6260\n",
      "0.100000    4816\n",
      "0.133333    4039\n",
      "0.200000    2876\n",
      "0.233333    2512\n",
      "0.266667    2240\n",
      "0.300000    1915\n",
      "0.333333    1689\n",
      "0.366667    1475\n",
      "0.400000    1262\n",
      "0.433333    1117\n",
      "0.466667     960\n",
      "0.500000     856\n",
      "0.533333     787\n",
      "1.000000     750\n",
      "0.566667     740\n",
      "0.600000     685\n",
      "0.700000     597\n",
      "0.633333     596\n",
      "0.666667     525\n",
      "0.766667     498\n",
      "0.900000     461\n",
      "0.800000     438\n",
      "0.733333     433\n",
      "0.833333     426\n",
      "0.933333     417\n",
      "0.866667     386\n",
      "0.966667     358\n",
      "Name: pa_2, dtype: int64\n",
      "\n",
      "\n",
      "pb_2\n",
      "0.000000    14770\n",
      "0.300000     5946\n",
      "0.033333     5034\n",
      "0.066667     2251\n",
      "0.100000     2004\n",
      "0.133333     1949\n",
      "0.233333     1841\n",
      "0.200000     1832\n",
      "0.166667     1817\n",
      "0.266667     1678\n",
      "0.366667     1551\n",
      "0.333333     1547\n",
      "0.433333     1502\n",
      "0.400000     1419\n",
      "0.500000     1338\n",
      "0.466667     1333\n",
      "0.533333     1277\n",
      "0.566667     1268\n",
      "0.600000     1257\n",
      "0.633333     1234\n",
      "0.700000     1150\n",
      "1.000000     1122\n",
      "0.666667     1105\n",
      "0.733333     1088\n",
      "0.766667      999\n",
      "0.833333      982\n",
      "0.800000      976\n",
      "0.966667      863\n",
      "0.933333      850\n",
      "0.900000      848\n",
      "0.866667      843\n",
      "Name: pb_2, dtype: int64\n",
      "\n",
      "\n",
      "pa_1\n",
      "0.193548    7451\n",
      "0.000000    7370\n",
      "0.064516    5530\n",
      "0.032258    5513\n",
      "0.096774    5049\n",
      "0.129032    4096\n",
      "0.161290    3546\n",
      "0.225806    2695\n",
      "0.258065    2398\n",
      "0.290323    2061\n",
      "0.322581    1811\n",
      "0.354839    1557\n",
      "0.387097    1431\n",
      "0.419355    1238\n",
      "0.451613    1148\n",
      "0.483871     962\n",
      "1.000000     861\n",
      "0.516129     817\n",
      "0.580645     812\n",
      "0.548387     771\n",
      "0.612903     680\n",
      "0.741935     604\n",
      "0.645161     594\n",
      "0.677419     588\n",
      "0.709677     581\n",
      "0.806452     570\n",
      "0.967742     553\n",
      "0.774194     517\n",
      "0.838710     512\n",
      "0.903226     469\n",
      "0.870968     461\n",
      "0.935484     428\n",
      "Name: pa_1, dtype: int64\n",
      "\n",
      "\n",
      "pb_1\n",
      "0.000000    15311\n",
      "0.322581     5910\n",
      "0.064516     2778\n",
      "0.032258     2269\n",
      "0.096774     1803\n",
      "0.129032     1731\n",
      "0.161290     1727\n",
      "0.258065     1638\n",
      "0.225806     1635\n",
      "0.193548     1611\n",
      "0.290323     1610\n",
      "0.354839     1547\n",
      "0.387097     1542\n",
      "0.451613     1471\n",
      "0.419355     1465\n",
      "0.516129     1438\n",
      "0.548387     1351\n",
      "0.483871     1320\n",
      "0.580645     1278\n",
      "1.000000     1267\n",
      "0.645161     1265\n",
      "0.709677     1199\n",
      "0.774194     1162\n",
      "0.677419     1159\n",
      "0.741935     1148\n",
      "0.612903     1147\n",
      "0.806452     1144\n",
      "0.838710     1029\n",
      "0.967742      984\n",
      "0.903226      954\n",
      "0.870968      921\n",
      "0.935484      860\n",
      "Name: pb_1, dtype: int64\n",
      "\n",
      "\n",
      "age_int\n",
      "0.375    16741\n",
      "0.500    13656\n",
      "0.750     9827\n",
      "0.250     8112\n",
      "0.625     7879\n",
      "0.000     4546\n",
      "0.875     2122\n",
      "1.000      703\n",
      "0.125       88\n",
      "Name: age_int, dtype: int64\n",
      "\n",
      "\n",
      "gender_int\n",
      "0.5    36133\n",
      "1.0    24790\n",
      "0.0     2751\n",
      "Name: gender_int, dtype: int64\n",
      "\n",
      "\n",
      "pay_type_int\n",
      "0.500000    33893\n",
      "0.166667    13943\n",
      "0.666667    11562\n",
      "0.333333     3176\n",
      "0.833333     1041\n",
      "0.000000       37\n",
      "1.000000       22\n",
      "Name: pay_type_int, dtype: int64\n",
      "\n",
      "\n",
      "province_int\n",
      "0.035714    20954\n",
      "0.071429    13565\n",
      "0.214286     5779\n",
      "0.178571     4762\n",
      "0.250000     4357\n",
      "0.142857     3590\n",
      "0.821429     1612\n",
      "0.285714     1602\n",
      "0.107143     1508\n",
      "0.464286      876\n",
      "0.964286      614\n",
      "0.535714      564\n",
      "0.571429      535\n",
      "0.642857      534\n",
      "0.678571      490\n",
      "0.750000      406\n",
      "0.714286      405\n",
      "0.321429      387\n",
      "0.357143      315\n",
      "0.785714      296\n",
      "0.428571      183\n",
      "0.857143      148\n",
      "0.392857      120\n",
      "0.928571       35\n",
      "0.000000       23\n",
      "1.000000        8\n",
      "0.500000        3\n",
      "0.892857        2\n",
      "0.607143        1\n",
      "Name: province_int, dtype: int64\n",
      "\n",
      "\n",
      "money_1\n",
      "0.000000    34870\n",
      "0.000030      226\n",
      "0.000303      181\n",
      "0.000061      155\n",
      "0.000121      147\n",
      "            ...  \n",
      "0.034420        1\n",
      "0.001755        1\n",
      "0.002114        1\n",
      "0.001881        1\n",
      "0.000412        1\n",
      "Name: money_1, Length: 14605, dtype: int64\n",
      "\n",
      "\n",
      "money_2\n",
      "0.000000    35205\n",
      "0.001766     2646\n",
      "0.000032      182\n",
      "0.000064      164\n",
      "0.000644      148\n",
      "            ...  \n",
      "0.000944        1\n",
      "0.001356        1\n",
      "0.001523        1\n",
      "0.000586        1\n",
      "0.000383        1\n",
      "Name: money_2, Length: 13296, dtype: int64\n",
      "\n",
      "\n",
      "investment_int\n",
      "0.375    24541\n",
      "1.000    15366\n",
      "0.500    10428\n",
      "0.750     9141\n",
      "0.625     3445\n",
      "0.250      429\n",
      "0.125      198\n",
      "0.875       72\n",
      "0.000       54\n",
      "Name: investment_int, dtype: int64\n",
      "\n",
      "\n",
      "spent_pa\n",
      "0.002430    200\n",
      "0.002489    168\n",
      "0.002490    163\n",
      "0.002433    140\n",
      "0.002492    132\n",
      "           ... \n",
      "0.003758      1\n",
      "0.003434      1\n",
      "0.003522      1\n",
      "0.003445      1\n",
      "0.010662      1\n",
      "Name: spent_pa, Length: 50349, dtype: int64\n",
      "\n",
      "\n",
      "discount_pa\n",
      "0.006836    27970\n",
      "0.015329      799\n",
      "0.015294      572\n",
      "0.015528      526\n",
      "0.024021      495\n",
      "            ...  \n",
      "0.011365        1\n",
      "0.014567        1\n",
      "0.023089        1\n",
      "0.071568        1\n",
      "0.000000        1\n",
      "Name: discount_pa, Length: 19061, dtype: int64\n",
      "\n",
      "\n",
      "segment_int\n",
      "0.4    17453\n",
      "0.2    15177\n",
      "0.8    12589\n",
      "0.0    11655\n",
      "1.0     6744\n",
      "0.6       56\n",
      "Name: segment_int, dtype: int64\n",
      "\n",
      "\n"
     ]
    }
   ],
   "source": [
    "norm_df = final_df.apply(normalize)\n",
    "check_values(norm_df)"
   ]
  },
  {
   "cell_type": "code",
   "execution_count": 55,
   "metadata": {},
   "outputs": [],
   "source": [
    "# Creating Train/Test data\n",
    "X_train, X_test, y_train, y_test = train_test_split(norm_df, target, test_size=0.2, random_state=42)"
   ]
  },
  {
   "cell_type": "markdown",
   "metadata": {},
   "source": [
    "# Model\n",
    "\n",
    "With the exploratory analysis already finished and the table already normalized, we proceed to find the best model for the outlined problem. It's a binary classification problem, with the response somewhat unbalanced, so applying the typical algorithms for these types of problems is a good starting point:\n",
    "   1. Logistic Regression.\n",
    "   2. Random Forest.\n",
    "   3. XGBoost.\n",
    "\n",
    "The logistic refression is a classic model for classification due to its simplicity and quick run time. Fits the problem to a sigmoid curve, with asymptotes in 0 and 1, to determine the probabilities which are later used to define the predicted response for each observation.\n",
    "   \n",
    "Random Forest is about building multiple decision trees. A decision trees analyzes the features and tries to separate the response in two sides in specific points, to minimize the entropy of each split. Simply put, in each separation, each split will have the least possible mixed 1s and 0s (or True and False repsonses) to obtain a better approximation to the correct response. A Random Forest model uses many of these trees, in a parallel way (that is, at the same time) with the aim of reducing overfitting which may arise from single trees. Each tree gives a prediction for the target, and that one with the most \"votes\" will be the output from the Random Forest model.\n",
    "\n",
    "Lastly, XGBoost works in a similar way, but with a very important difference: the construction of the trees is not parallel, but rather, it is sequential. That is, each tree is trained with the objective of reducing the error of the previous tree.\n",
    "\n",
    "The metric to measure the model effectiveness will be the F1 Score, because it works well on unbalanced datasets. It measures the amount of correctly identified positive results over the total amount of identified positive results (precision), divided by the correctly identified positive results results over the number of samples that should have been identified as positive (recall). The closer the score is to one, the best the model is fitting.\n",
    "\n",
    "F1 = 2 * (precision * recall) / (precision + recall)\n",
    "\n",
    "We'll start by simply modelling an 80/20 train/test split and trying to optimize each model parameters. Later, we'll introduce KFold Cross Validation for the best model, to check for overfitting. Lastly, we'll try Grid Search CV to find the best parameters for the models."
   ]
  },
  {
   "cell_type": "code",
   "execution_count": 56,
   "metadata": {},
   "outputs": [],
   "source": [
    "# Model Utils\n",
    "def train(model, train_features, train_target):\n",
    "    '''\n",
    "    Trains the desired model.\n",
    "    Args:\n",
    "        model (object): model to be trained.\n",
    "        train_features (object): features to train it on.\n",
    "        train_target (object): target to train it on.\n",
    "    Returns:\n",
    "        model object.\n",
    "    '''\n",
    "    \n",
    "    model.fit(train_features, train_target)\n",
    "    \n",
    "    return model\n",
    "\n",
    "def test(model, test_features, test_target, train_features, train_target):\n",
    "    '''\n",
    "    Tests the desired model\n",
    "    Args:\n",
    "        model (object): model to be trained.\n",
    "        test_features (object): features to test it on.\n",
    "        test_target (object): target to test it on.\n",
    "        train_features (object): features to train it on.\n",
    "        train_target (object): target to train it on.\n",
    "    Returns:\n",
    "        F1 score.\n",
    "    '''\n",
    "    \n",
    "    test_predictions = model.predict(test_features)\n",
    "    train_predictions = model.predict(train_features)\n",
    "    f1_test = f1_score(test_target, test_predictions)\n",
    "    f1_train = f1_score(train_target, train_predictions)\n",
    "\n",
    "    \n",
    "    print('Train F1: ', f1_train)\n",
    "    print('Test F1: ', f1_test)\n",
    "    \n",
    "    return f1_test\n",
    "    \n",
    "def cross_validate(n, df, target, model): # n splits\n",
    "    '''\n",
    "    Runs KFold cross validation on the desired model.\n",
    "    Args:\n",
    "        n (int): Number of folds\n",
    "        df (object): Features to apply the model.\n",
    "        target (object): Target to apply the model.\n",
    "        model (object): model to be trained.\n",
    "    Returns:\n",
    "        F1 scores of every fold\n",
    "    '''\n",
    "    \n",
    "    f1_scores = []\n",
    "    kf = KFold(n_splits=n, random_state=42)\n",
    "    \n",
    "    for train_index, test_index in kf.split(df):\n",
    "        X_train, X_test = df.loc[train_index], df.loc[test_index]\n",
    "        y_train, y_test = target.loc[train_index], target.loc[test_index]\n",
    "        model = train(model, X_train, y_train)\n",
    "        f1_score = test(model, X_test, y_test, X_train, y_train)\n",
    "        f1_scores.append(f1_score)\n",
    "    \n",
    "    return f1_scores\n",
    "\n",
    "def run_grid_search(model, params, X_train, y_train, scoring='f1', cv=3):\n",
    "    '''\n",
    "    Runs Grid Search CV for the desired model.\n",
    "    Args:\n",
    "        model (object): model to be trained.\n",
    "        params (dic): parameters to run the grid search.\n",
    "        train_features (object): features to train it on.\n",
    "        train_target (object): target to train it on.\n",
    "        scoring (str): metric of choice - default F1\n",
    "        cv (str/object): number of folds - can be KFold object.\n",
    "    Returns:\n",
    "        Grid search object.\n",
    "    '''\n",
    "    \n",
    "    grid_search = GridSearchCV(estimator=model, param_grid=params, scoring=scoring, cv=cv, n_jobs=-1, verbose=2)\n",
    "    grid_search.fit(X_train, y_train)\n",
    "    \n",
    "    return grid_search"
   ]
  },
  {
   "cell_type": "markdown",
   "metadata": {},
   "source": [
    "## All Features"
   ]
  },
  {
   "cell_type": "markdown",
   "metadata": {},
   "source": [
    "### Logistic Regression"
   ]
  },
  {
   "cell_type": "code",
   "execution_count": 57,
   "metadata": {},
   "outputs": [
    {
     "name": "stdout",
     "output_type": "stream",
     "text": [
      "Train F1:  0.8398345153664302\n",
      "Test F1:  0.8457089113566895\n"
     ]
    }
   ],
   "source": [
    "lr = LogisticRegression(random_state=42)\n",
    "lr = train(lr, X_train, y_train)\n",
    "lr_f1 = test(lr, X_test, y_test, X_train, y_train)"
   ]
  },
  {
   "cell_type": "markdown",
   "metadata": {},
   "source": [
    "The first implementation of the Logistic Regressions gives us an F1 score of 0.84 for both train and test datasets, which means there's no overfitting, and the model might be good enough to make predictions. We procceed to tune parameters to try to improve the model.\n",
    "\n",
    "Penalty is Ridge Regression by default. C is how strong the regularization is, given by the penalty: lower C means higher regularization. Lastly, class weights determine the weights of each class, useful when the dataset is unbalanced (the balanced option automatically adjusts said weights)."
   ]
  },
  {
   "cell_type": "code",
   "execution_count": 58,
   "metadata": {
    "scrolled": true
   },
   "outputs": [
    {
     "name": "stdout",
     "output_type": "stream",
     "text": [
      "LR for C:  0.0001\n",
      "Train F1:  0.8441474455701661\n",
      "Test F1:  0.8492816481431281\n",
      "LR for C:  0.001\n",
      "Train F1:  0.8441474455701661\n",
      "Test F1:  0.8492816481431281\n",
      "LR for C:  0.01\n",
      "Train F1:  0.842374628023575\n",
      "Test F1:  0.8480633721733524\n",
      "LR for C:  0.1\n",
      "Train F1:  0.8409197670048854\n",
      "Test F1:  0.8471016521982638\n",
      "LR for C:  1\n",
      "Train F1:  0.8398345153664302\n",
      "Test F1:  0.8457089113566895\n"
     ]
    },
    {
     "name": "stderr",
     "output_type": "stream",
     "text": [
      "C:\\ProgramData\\Anaconda3\\lib\\site-packages\\sklearn\\linear_model\\_logistic.py:764: ConvergenceWarning: lbfgs failed to converge (status=1):\n",
      "STOP: TOTAL NO. of ITERATIONS REACHED LIMIT.\n",
      "\n",
      "Increase the number of iterations (max_iter) or scale the data as shown in:\n",
      "    https://scikit-learn.org/stable/modules/preprocessing.html\n",
      "Please also refer to the documentation for alternative solver options:\n",
      "    https://scikit-learn.org/stable/modules/linear_model.html#logistic-regression\n",
      "  extra_warning_msg=_LOGISTIC_SOLVER_CONVERGENCE_MSG)\n"
     ]
    },
    {
     "name": "stdout",
     "output_type": "stream",
     "text": [
      "LR for C:  10\n",
      "Train F1:  0.839250118652112\n",
      "Test F1:  0.8451515437635729\n"
     ]
    },
    {
     "name": "stderr",
     "output_type": "stream",
     "text": [
      "C:\\ProgramData\\Anaconda3\\lib\\site-packages\\sklearn\\linear_model\\_logistic.py:764: ConvergenceWarning: lbfgs failed to converge (status=1):\n",
      "STOP: TOTAL NO. of ITERATIONS REACHED LIMIT.\n",
      "\n",
      "Increase the number of iterations (max_iter) or scale the data as shown in:\n",
      "    https://scikit-learn.org/stable/modules/preprocessing.html\n",
      "Please also refer to the documentation for alternative solver options:\n",
      "    https://scikit-learn.org/stable/modules/linear_model.html#logistic-regression\n",
      "  extra_warning_msg=_LOGISTIC_SOLVER_CONVERGENCE_MSG)\n"
     ]
    },
    {
     "name": "stdout",
     "output_type": "stream",
     "text": [
      "LR for C:  100\n",
      "Train F1:  0.8390589017354764\n",
      "Test F1:  0.8453325774754346\n"
     ]
    },
    {
     "name": "stderr",
     "output_type": "stream",
     "text": [
      "C:\\ProgramData\\Anaconda3\\lib\\site-packages\\sklearn\\linear_model\\_logistic.py:764: ConvergenceWarning: lbfgs failed to converge (status=1):\n",
      "STOP: TOTAL NO. of ITERATIONS REACHED LIMIT.\n",
      "\n",
      "Increase the number of iterations (max_iter) or scale the data as shown in:\n",
      "    https://scikit-learn.org/stable/modules/preprocessing.html\n",
      "Please also refer to the documentation for alternative solver options:\n",
      "    https://scikit-learn.org/stable/modules/linear_model.html#logistic-regression\n",
      "  extra_warning_msg=_LOGISTIC_SOLVER_CONVERGENCE_MSG)\n"
     ]
    },
    {
     "name": "stdout",
     "output_type": "stream",
     "text": [
      "LR for C:  1000\n",
      "Train F1:  0.8389923069617248\n",
      "Test F1:  0.8453325774754346\n",
      "LR for C:  10000\n",
      "Train F1:  0.83893645572326\n",
      "Test F1:  0.8451143451143451\n"
     ]
    },
    {
     "name": "stderr",
     "output_type": "stream",
     "text": [
      "C:\\ProgramData\\Anaconda3\\lib\\site-packages\\sklearn\\linear_model\\_logistic.py:764: ConvergenceWarning: lbfgs failed to converge (status=1):\n",
      "STOP: TOTAL NO. of ITERATIONS REACHED LIMIT.\n",
      "\n",
      "Increase the number of iterations (max_iter) or scale the data as shown in:\n",
      "    https://scikit-learn.org/stable/modules/preprocessing.html\n",
      "Please also refer to the documentation for alternative solver options:\n",
      "    https://scikit-learn.org/stable/modules/linear_model.html#logistic-regression\n",
      "  extra_warning_msg=_LOGISTIC_SOLVER_CONVERGENCE_MSG)\n"
     ]
    }
   ],
   "source": [
    "# Introducing regularization parameter\n",
    "params = [10 ** i for i in range(-4, 5)]\n",
    "\n",
    "for c in params:\n",
    "    lr = LogisticRegression(penalty=\"l2\", C=c, class_weight=None, random_state=42)\n",
    "    lr = train(lr, X_train, y_train)\n",
    "    print('LR for C: ', c)\n",
    "    lr_f1 = test(lr, X_test, y_test, X_train, y_train)"
   ]
  },
  {
   "cell_type": "markdown",
   "metadata": {},
   "source": [
    "We don't see substantial improvement after our hyperparameter-tuning process, which might give us the idea that we need to work harder on feature selection and creation, or to straight up search for better models.\n",
    "\n",
    "In any case, we apply KFold with our best C."
   ]
  },
  {
   "cell_type": "code",
   "execution_count": 59,
   "metadata": {},
   "outputs": [
    {
     "name": "stderr",
     "output_type": "stream",
     "text": [
      "C:\\ProgramData\\Anaconda3\\lib\\site-packages\\sklearn\\model_selection\\_split.py:297: FutureWarning: Setting a random_state has no effect since shuffle is False. This will raise an error in 0.24. You should leave random_state to its default (None), or set shuffle=True.\n",
      "  FutureWarning\n"
     ]
    },
    {
     "name": "stdout",
     "output_type": "stream",
     "text": [
      "Train F1:  0.8445905076817612\n",
      "Test F1:  0.8503339953060118\n",
      "Train F1:  0.845370379698377\n",
      "Test F1:  0.8433384797021161\n",
      "Train F1:  0.8449747553638552\n",
      "Test F1:  0.8467946396233249\n",
      "Train F1:  0.8453005833341729\n",
      "Test F1:  0.843968412453481\n",
      "Train F1:  0.8449196783101203\n",
      "Test F1:  0.8473931933381609\n",
      "Train F1:  0.845024436942611\n",
      "Test F1:  0.8463489762638159\n",
      "Train F1:  0.8457920866859348\n",
      "Test F1:  0.8396209221796975\n",
      "Train F1:  0.8451757214251169\n",
      "Test F1:  0.8450934155632143\n",
      "Train F1:  0.845303700420113\n",
      "Test F1:  0.8439400817067635\n",
      "Train F1:  0.845222262523677\n",
      "Test F1:  0.8447790982491155\n"
     ]
    },
    {
     "data": {
      "text/plain": [
       "0.84516112143857"
      ]
     },
     "execution_count": 59,
     "metadata": {},
     "output_type": "execute_result"
    }
   ],
   "source": [
    "lr = LogisticRegression(penalty=\"l2\", C=0.001, class_weight=None, random_state=42)\n",
    "lr_f1s = cross_validate(10, norm_df, target, lr)\n",
    "np.mean(lr_f1s)"
   ]
  },
  {
   "cell_type": "markdown",
   "metadata": {},
   "source": [
    "The metric is stable and there's no overfitting. The average score is 0.8452. This is a good start, as the model is quite useful for predictions, but we might find something better."
   ]
  },
  {
   "cell_type": "markdown",
   "metadata": {},
   "source": [
    "### Random Forest"
   ]
  },
  {
   "cell_type": "code",
   "execution_count": 60,
   "metadata": {},
   "outputs": [
    {
     "name": "stdout",
     "output_type": "stream",
     "text": [
      "Train F1:  0.9999865600430078\n",
      "Test F1:  0.9305604869388789\n"
     ]
    }
   ],
   "source": [
    "rf = RandomForestClassifier(random_state=42)\n",
    "rf = train(rf, X_train, y_train)\n",
    "rf_f1 = test(rf, X_test, y_test, X_train, y_train)"
   ]
  },
  {
   "cell_type": "code",
   "execution_count": 61,
   "metadata": {},
   "outputs": [
    {
     "name": "stderr",
     "output_type": "stream",
     "text": [
      "C:\\ProgramData\\Anaconda3\\lib\\site-packages\\sklearn\\model_selection\\_split.py:297: FutureWarning: Setting a random_state has no effect since shuffle is False. This will raise an error in 0.24. You should leave random_state to its default (None), or set shuffle=True.\n",
      "  FutureWarning\n"
     ]
    },
    {
     "name": "stdout",
     "output_type": "stream",
     "text": [
      "Train F1:  0.9999865762802872\n",
      "Test F1:  0.9286771838464287\n",
      "Train F1:  0.9999731752461172\n",
      "Test F1:  0.9248047373525958\n",
      "Train F1:  0.9999731536417085\n",
      "Test F1:  0.9287824758023433\n",
      "Train F1:  0.9999732154814517\n",
      "Test F1:  0.9240636223704464\n",
      "Train F1:  0.9999865942757558\n",
      "Test F1:  0.9285091095714652\n"
     ]
    },
    {
     "data": {
      "text/plain": [
       "0.9269674257886559"
      ]
     },
     "execution_count": 61,
     "metadata": {},
     "output_type": "execute_result"
    }
   ],
   "source": [
    "# Running CV for vanilla RF\n",
    "rf = RandomForestClassifier(random_state=42)\n",
    "rf_f1s = cross_validate(5, norm_df, target, rf)\n",
    "np.mean(rf_f1s)"
   ]
  },
  {
   "cell_type": "markdown",
   "metadata": {},
   "source": [
    "We start with an F1 Score of 0.9306, which stabilizs in 0.9270 and is considerably higher than the Logistic Regression. Howerver, there might be overfitting, due to the difference in scores between train and test sets. We'll try to improve this by hyperparameter tuning.\n",
    "\n",
    "N_stimators is the amount of trees; the more trees, the better the model will learn about our data, although it becomes slower to run. Max_depth is how deep each tree is - higher depth means the model is able to better capture the difference between the data and better reduce the entropy. Min_samples_split is the minimum amount required to build brances. Min_samples_leaf is similar, but related to leaves (base of the tree). Lastly, max_features is the amount of features to consider when looking for the best split.\n",
    "\n",
    "Since there are to many parameters to optimize, we'll use Grid Search Cross Validation, by which we'll build a grid of every possible hyperparameter and run the model for each permutation of them."
   ]
  },
  {
   "cell_type": "code",
   "execution_count": 62,
   "metadata": {},
   "outputs": [],
   "source": [
    "kf = KFold(5) #No Random State because shuffle=False"
   ]
  },
  {
   "cell_type": "code",
   "execution_count": 63,
   "metadata": {},
   "outputs": [
    {
     "name": "stdout",
     "output_type": "stream",
     "text": [
      "Fitting 5 folds for each of 144 candidates, totalling 720 fits\n"
     ]
    },
    {
     "name": "stderr",
     "output_type": "stream",
     "text": [
      "[Parallel(n_jobs=-1)]: Using backend LokyBackend with 12 concurrent workers.\n",
      "[Parallel(n_jobs=-1)]: Done  17 tasks      | elapsed:   21.8s\n",
      "[Parallel(n_jobs=-1)]: Done 138 tasks      | elapsed:  3.3min\n",
      "[Parallel(n_jobs=-1)]: Done 341 tasks      | elapsed: 12.7min\n",
      "[Parallel(n_jobs=-1)]: Done 624 tasks      | elapsed: 28.8min\n",
      "[Parallel(n_jobs=-1)]: Done 720 out of 720 | elapsed: 36.6min finished\n"
     ]
    },
    {
     "name": "stdout",
     "output_type": "stream",
     "text": [
      "0.9305123408796716\n"
     ]
    },
    {
     "data": {
      "text/plain": [
       "{'max_depth': 15,\n",
       " 'max_features': 12,\n",
       " 'min_samples_leaf': 1,\n",
       " 'min_samples_split': 4,\n",
       " 'n_estimators': 200}"
      ]
     },
     "execution_count": 63,
     "metadata": {},
     "output_type": "execute_result"
    }
   ],
   "source": [
    "rf = RandomForestClassifier(random_state=42)\n",
    "\n",
    "rf_param_grid = {\n",
    "    'max_depth': [5, 10, 15, 20],\n",
    "    'max_features': [4, 8, 12, 16],\n",
    "    'min_samples_leaf': [1, 3, 5],\n",
    "    'min_samples_split': [2, 4, 6],\n",
    "    'n_estimators': [200]\n",
    "}\n",
    "\n",
    "rf_grid_search = run_grid_search(rf, rf_param_grid, X_train, y_train, cv=kf)\n",
    "best_rf = rf_grid_search.best_estimator_\n",
    "print(rf_grid_search.best_score_)\n",
    "rf_grid_search.best_params_"
   ]
  },
  {
   "cell_type": "markdown",
   "metadata": {},
   "source": [
    "Note: Grid Search CV for Random Forest with 200 trees and cv=5 takes 60 minutes to run on a 6cores/12threads processor. The obtained parameters are:\n",
    "\n",
    "max_depth=15, max_features=12, min_samples_leaf=1, min_samples_split=4, n_estimators=200\n",
    "\n",
    "F1 Score is 0.9305.\n",
    "\n",
    "Useful to build the model with these parameters instead of running the Grid Search CV every time."
   ]
  },
  {
   "cell_type": "code",
   "execution_count": 64,
   "metadata": {},
   "outputs": [
    {
     "name": "stdout",
     "output_type": "stream",
     "text": [
      "Train F1:  0.9663298349654714\n",
      "Test F1:  0.9331511563180002\n"
     ]
    }
   ],
   "source": [
    "rf = train(best_rf, X_train, y_train)\n",
    "rf_f1 = test(rf, X_test, y_test, X_train, y_train)"
   ]
  },
  {
   "cell_type": "markdown",
   "metadata": {},
   "source": [
    "We analyzed each possible combination of our Random Forest model given the parameters shown above, with a 5 Fold CV, and found the parameters outlined above. The best grid search gives us a 0.9305 score, improving over the initial 0.9269. We also reduced overfitting, and now the difference between train and test are only 3%.\n",
    "\n",
    "For know, the model to use would be the Random Forest, as it performs better than the Logistic Regression."
   ]
  },
  {
   "cell_type": "markdown",
   "metadata": {},
   "source": [
    "### XGBoost"
   ]
  },
  {
   "cell_type": "code",
   "execution_count": 65,
   "metadata": {},
   "outputs": [
    {
     "name": "stdout",
     "output_type": "stream",
     "text": [
      "Train F1:  0.9502948609941028\n",
      "Test F1:  0.931855333060891\n"
     ]
    }
   ],
   "source": [
    "clf = xgb.XGBClassifier(random_state=42)\n",
    "clf = train(clf, X_train, y_train)\n",
    "clf = test(clf, X_test, y_test, X_train, y_train)"
   ]
  },
  {
   "cell_type": "markdown",
   "metadata": {},
   "source": [
    "The XGBoost model, without even tuning parameters, gives us a better result than the Logistic Regression and Random Forest, without overfitting, with an F1 score of 0.9319 (2 point difference between train and test). We'll apply KFold and then tune parameters with Grid Search CV."
   ]
  },
  {
   "cell_type": "code",
   "execution_count": 66,
   "metadata": {},
   "outputs": [
    {
     "name": "stderr",
     "output_type": "stream",
     "text": [
      "C:\\ProgramData\\Anaconda3\\lib\\site-packages\\sklearn\\model_selection\\_split.py:297: FutureWarning: Setting a random_state has no effect since shuffle is False. This will raise an error in 0.24. You should leave random_state to its default (None), or set shuffle=True.\n",
      "  FutureWarning\n"
     ]
    },
    {
     "name": "stdout",
     "output_type": "stream",
     "text": [
      "Train F1:  0.9514477538429634\n",
      "Test F1:  0.9304285273867023\n",
      "Train F1:  0.9536633457866334\n",
      "Test F1:  0.9272811486799444\n",
      "Train F1:  0.9512801907328704\n",
      "Test F1:  0.9282306468988868\n",
      "Train F1:  0.9514522928898431\n",
      "Test F1:  0.9254195152268488\n",
      "Train F1:  0.9495903814047394\n",
      "Test F1:  0.9281693777433514\n"
     ]
    },
    {
     "data": {
      "text/plain": [
       "0.9279058431871468"
      ]
     },
     "execution_count": 66,
     "metadata": {},
     "output_type": "execute_result"
    }
   ],
   "source": [
    "clf = xgb.XGBClassifier(random_state=42)\n",
    "clf_f1s = cross_validate(5, norm_df, target, clf)\n",
    "np.mean(clf_f1s)"
   ]
  },
  {
   "cell_type": "markdown",
   "metadata": {},
   "source": [
    "By doing 5 Fold CV, we see the score stabilizes in 0.9279, without overfitting. We proceed to use Grid Search CV."
   ]
  },
  {
   "cell_type": "code",
   "execution_count": 67,
   "metadata": {},
   "outputs": [
    {
     "name": "stdout",
     "output_type": "stream",
     "text": [
      "Fitting 5 folds for each of 576 candidates, totalling 2880 fits\n"
     ]
    },
    {
     "name": "stderr",
     "output_type": "stream",
     "text": [
      "[Parallel(n_jobs=-1)]: Using backend LokyBackend with 12 concurrent workers.\n",
      "[Parallel(n_jobs=-1)]: Done  17 tasks      | elapsed:   15.9s\n",
      "[Parallel(n_jobs=-1)]: Done 138 tasks      | elapsed:  2.1min\n",
      "[Parallel(n_jobs=-1)]: Done 341 tasks      | elapsed:  5.2min\n",
      "[Parallel(n_jobs=-1)]: Done 624 tasks      | elapsed:  9.5min\n",
      "[Parallel(n_jobs=-1)]: Done 989 tasks      | elapsed: 15.1min\n",
      "[Parallel(n_jobs=-1)]: Done 1434 tasks      | elapsed: 21.8min\n",
      "[Parallel(n_jobs=-1)]: Done 1961 tasks      | elapsed: 31.8min\n",
      "[Parallel(n_jobs=-1)]: Done 2568 tasks      | elapsed: 43.3min\n",
      "[Parallel(n_jobs=-1)]: Done 2880 out of 2880 | elapsed: 49.1min finished\n"
     ]
    },
    {
     "name": "stdout",
     "output_type": "stream",
     "text": [
      "0.9321241420439688\n"
     ]
    },
    {
     "data": {
      "text/plain": [
       "{'colsample_bytree': 0.5,\n",
       " 'eta': 0.2,\n",
       " 'gamma': 0.1,\n",
       " 'lambda': 2,\n",
       " 'max_depth': 10,\n",
       " 'min_child_weight': 2}"
      ]
     },
     "execution_count": 67,
     "metadata": {},
     "output_type": "execute_result"
    }
   ],
   "source": [
    "clf = xgb.XGBClassifier(random_state=42)\n",
    "xgb_param_grid = {\n",
    "     'eta': [0.1, 0.2, 0.3] ,\n",
    "     'max_depth': [5, 10, 15, 20],\n",
    "     'min_child_weight': [2, 4, 6],\n",
    "     'gamma': [0.0, 0.1],\n",
    "     'colsample_bytree': [0.4, 0.5],\n",
    "     'lambda': [1, 1.5, 2, 3]\n",
    "     }\n",
    "\n",
    "xgb_grid_search = run_grid_search(clf, xgb_param_grid, X_train, y_train, cv=kf)\n",
    "best_xgb = xgb_grid_search.best_estimator_\n",
    "print(xgb_grid_search.best_score_)\n",
    "xgb_grid_search.best_params_"
   ]
  },
  {
   "cell_type": "markdown",
   "metadata": {},
   "source": [
    "Note: Grid Search CV for XGBoost with 5 Folds takes 60 minutes to run on a 6cores/12threads processor. The obtained parameters are:\n",
    "\n",
    "colsample_bytree=0.5, eta=0.2, gamma=0.1, lambda=2, max_depth=10, min_child_weight=2\n",
    "\n",
    "F1 Score is 0.9305.\n",
    "\n",
    "Useful to build the model with these parameters instead of running the Grid Search CV every time."
   ]
  },
  {
   "cell_type": "code",
   "execution_count": 68,
   "metadata": {},
   "outputs": [
    {
     "name": "stdout",
     "output_type": "stream",
     "text": [
      "Train F1:  0.9754132884068653\n",
      "Test F1:  0.9341305125453524\n"
     ]
    }
   ],
   "source": [
    "clf = train(best_xgb, X_train, y_train)\n",
    "xgb_f1 = test(clf, X_test, y_test, X_train, y_train)"
   ]
  },
  {
   "cell_type": "markdown",
   "metadata": {},
   "source": [
    "We found the parameters from above and an F1 score of 0.9321, superior to the Random Forest. Making and independent run with those parameters gives us an even better score of 0.9341, without overfitting. As such, XGBoost is the best model out of the 3 analyzed. In the next section, we'll proceed to create some features to see if we can improve the models even further."
   ]
  },
  {
   "cell_type": "markdown",
   "metadata": {},
   "source": [
    "### Feature Engineering\n",
    "\n",
    "As we explained in previous sections, we could delete the columns related to Investment and Cards, since they are heavily unbalanced, tending to one specific class, giving us a very low variance.\n",
    "\n",
    "On the other hand, we could rebuild the table by adding more features. First, we could take the average of pa/pb columns, going from 6 columns to 2, one for each platform. Same for money_ 1 and money_2.\n",
    "\n",
    "Lastly, we could create a column that shows the difference between account money and the money spent (on any platform), giving us the available income of the customer. Problem is, said money only applies to platform A, so there would be some kind of inconsistency and creating \"fake\" data (for example, someone bought something but with money from another platform or account which we do not have data about, such as a debit card)."
   ]
  },
  {
   "cell_type": "code",
   "execution_count": 69,
   "metadata": {},
   "outputs": [],
   "source": [
    "def trim_dfs(cols, *args):\n",
    "    '''\n",
    "    Deletes columns on as many DataFrames as desired.\n",
    "    Args:\n",
    "        cols (list): list of columns to be deleted.\n",
    "        *args: DataFrames where the columns will be deleted\n",
    "    Returns:\n",
    "        List of columns with fixed DataFrames\n",
    "    '''\n",
    "    \n",
    "    dfs = []\n",
    "    for df in args:\n",
    "        df_aux = df.drop(cols, axis=1)\n",
    "        dfs.append(df_aux)\n",
    "        \n",
    "    return dfs"
   ]
  },
  {
   "cell_type": "code",
   "execution_count": 70,
   "metadata": {},
   "outputs": [],
   "source": [
    "X_train2, X_test2 = trim_dfs(['investment_int', 'pay_type_int', 'province_int'], X_train, X_test)"
   ]
  },
  {
   "cell_type": "code",
   "execution_count": 71,
   "metadata": {},
   "outputs": [
    {
     "name": "stdout",
     "output_type": "stream",
     "text": [
      "Train F1:  0.8441474455701661\n",
      "Test F1:  0.8492816481431281\n"
     ]
    }
   ],
   "source": [
    "lr = LogisticRegression(penalty=\"l2\", C=0.001, class_weight=None, random_state=42)\n",
    "lr = train(lr, X_train2, y_train)\n",
    "lr_f1 = test(lr, X_test2, y_test, X_train2, y_train)"
   ]
  },
  {
   "cell_type": "code",
   "execution_count": 72,
   "metadata": {},
   "outputs": [
    {
     "name": "stdout",
     "output_type": "stream",
     "text": [
      "Train F1:  0.9505172436004793\n",
      "Test F1:  0.9065626250500199\n"
     ]
    }
   ],
   "source": [
    "rf = train(best_rf, X_train2, y_train)\n",
    "rf_f1 = test(rf, X_test2, y_test, X_train2, y_train)"
   ]
  },
  {
   "cell_type": "code",
   "execution_count": 73,
   "metadata": {
    "scrolled": true
   },
   "outputs": [
    {
     "name": "stdout",
     "output_type": "stream",
     "text": [
      "Train F1:  0.9492202185721509\n",
      "Test F1:  0.9045555331586375\n"
     ]
    }
   ],
   "source": [
    "clf = train(best_xgb, X_train2, y_train)\n",
    "xgb_f1 = test(clf, X_test2, y_test, X_train2, y_train)"
   ]
  },
  {
   "cell_type": "markdown",
   "metadata": {},
   "source": [
    "The Logistic Regression mantains the same values as the previous version - 0.84 score. However, we see the score goes down for the Random Forest and XGBoost models, so, the first Feature Engineering test wasn't really successful.\n",
    "\n",
    "We go back to the original features, but only analyzing platform A (we delete everything related to platform B) for testing purposes."
   ]
  },
  {
   "cell_type": "code",
   "execution_count": 74,
   "metadata": {},
   "outputs": [],
   "source": [
    "X_train3, X_test3, norm_df3 = trim_dfs(['pb_3', 'pb_2', 'pb_1'], X_train, X_test, norm_df)"
   ]
  },
  {
   "cell_type": "code",
   "execution_count": 75,
   "metadata": {},
   "outputs": [
    {
     "name": "stdout",
     "output_type": "stream",
     "text": [
      "Train F1:  0.8441474455701661\n",
      "Test F1:  0.8492816481431281\n"
     ]
    }
   ],
   "source": [
    "lr = LogisticRegression(penalty=\"l2\", C=0.001, class_weight=None, random_state=43)\n",
    "lr = train(lr, X_train3, y_train)\n",
    "lr_f1 = test(lr, X_test3, y_test, X_train3, y_train)"
   ]
  },
  {
   "cell_type": "code",
   "execution_count": 76,
   "metadata": {},
   "outputs": [
    {
     "name": "stdout",
     "output_type": "stream",
     "text": [
      "Train F1:  0.9643733845934047\n",
      "Test F1:  0.9307041111167434\n"
     ]
    }
   ],
   "source": [
    "rf = train(best_rf, X_train3, y_train)\n",
    "rf_f1 = test(rf, X_test3, y_test, X_train3, y_train)"
   ]
  },
  {
   "cell_type": "code",
   "execution_count": 77,
   "metadata": {},
   "outputs": [
    {
     "name": "stdout",
     "output_type": "stream",
     "text": [
      "Train F1:  0.970126343133782\n",
      "Test F1:  0.9314230357416\n"
     ]
    }
   ],
   "source": [
    "clf = train(best_xgb, X_train3, y_train)\n",
    "xgb_f1 = test(clf, X_test3, y_test, X_train3, y_train)"
   ]
  },
  {
   "cell_type": "markdown",
   "metadata": {},
   "source": [
    "The results are very similar, so we proceed to implement KFold CV with the best model for each case (so we do not have to run Grid Search again)."
   ]
  },
  {
   "cell_type": "code",
   "execution_count": 78,
   "metadata": {},
   "outputs": [
    {
     "name": "stderr",
     "output_type": "stream",
     "text": [
      "C:\\ProgramData\\Anaconda3\\lib\\site-packages\\sklearn\\model_selection\\_split.py:297: FutureWarning: Setting a random_state has no effect since shuffle is False. This will raise an error in 0.24. You should leave random_state to its default (None), or set shuffle=True.\n",
      "  FutureWarning\n"
     ]
    },
    {
     "name": "stdout",
     "output_type": "stream",
     "text": [
      "Train F1:  0.965184078955912\n",
      "Test F1:  0.9307951413698071\n",
      "Train F1:  0.9651011935651271\n",
      "Test F1:  0.9272253715336295\n",
      "Train F1:  0.9644701668786172\n",
      "Test F1:  0.9293967930771189\n",
      "Train F1:  0.964859125750984\n",
      "Test F1:  0.9294690946396512\n",
      "Train F1:  0.9646189735614308\n",
      "Test F1:  0.9317890637011224\n"
     ]
    },
    {
     "data": {
      "text/plain": [
       "0.9297350928642658"
      ]
     },
     "execution_count": 78,
     "metadata": {},
     "output_type": "execute_result"
    }
   ],
   "source": [
    "best_rf_f1s = cross_validate(5, norm_df3, target, best_rf)\n",
    "np.mean(best_rf_f1s)"
   ]
  },
  {
   "cell_type": "code",
   "execution_count": 79,
   "metadata": {},
   "outputs": [
    {
     "name": "stderr",
     "output_type": "stream",
     "text": [
      "C:\\ProgramData\\Anaconda3\\lib\\site-packages\\sklearn\\model_selection\\_split.py:297: FutureWarning: Setting a random_state has no effect since shuffle is False. This will raise an error in 0.24. You should leave random_state to its default (None), or set shuffle=True.\n",
      "  FutureWarning\n"
     ]
    },
    {
     "name": "stdout",
     "output_type": "stream",
     "text": [
      "Train F1:  0.9703281587738258\n",
      "Test F1:  0.9296035378207436\n",
      "Train F1:  0.9689065627166534\n",
      "Test F1:  0.9286742034943474\n",
      "Train F1:  0.9688938886563416\n",
      "Test F1:  0.9282159166709426\n",
      "Train F1:  0.9708890225721236\n",
      "Test F1:  0.925420927590125\n",
      "Train F1:  0.9708046398366107\n",
      "Test F1:  0.9292501549266681\n"
     ]
    },
    {
     "data": {
      "text/plain": [
       "0.9282329481005653"
      ]
     },
     "execution_count": 79,
     "metadata": {},
     "output_type": "execute_result"
    }
   ],
   "source": [
    "best_xgb_f1s = cross_validate(5, norm_df3, target, best_xgb)\n",
    "np.mean(best_xgb_f1s)"
   ]
  },
  {
   "cell_type": "markdown",
   "metadata": {},
   "source": [
    "With 5 Folds, we see the average score is slightly worse than the original cases, so we are going to keep the platform B features. For Random Forest it was 0.9297 vs 0.9305 and for the XGBoost 0.8292 vs 0.9321.\n",
    "\n",
    "Now, we take the average of the platform A, B and money feeatures, while deleting the original ones (to avoid showing repeated information)."
   ]
  },
  {
   "cell_type": "code",
   "execution_count": 80,
   "metadata": {},
   "outputs": [],
   "source": [
    "X_train4 = X_train.copy()\n",
    "X_train4['pa_avg'] = ((X_train4['pa_1'] + X_train4['pa_2'] + X_train4['pa_3']) / 3)\n",
    "X_train4['pb_avg'] = ((X_train4['pb_1'] + X_train4['pb_2'] + X_train4['pb_3']) / 3)\n",
    "X_train4['money_avg'] = ((X_train4['money_1'] + X_train4['money_2']) / 2)\n",
    "\n",
    "X_test4 = X_test.copy()\n",
    "X_test4['pa_avg'] = ((X_test4['pa_1'] + X_test4['pa_2'] + X_test4['pa_3']) / 3)\n",
    "X_test4['pb_avg'] = ((X_test4['pb_1'] + X_test4['pb_2'] + X_test4['pb_3']) / 3)\n",
    "X_test4['money_avg'] = ((X_test4['money_1'] + X_test4['money_2']) / 2)\n",
    "\n",
    "norm_df4 = norm_df.copy()\n",
    "norm_df4['pa_avg'] = ((norm_df4['pa_1'] + norm_df4['pa_2'] + norm_df4['pa_3']) / 3)\n",
    "norm_df4['pb_avg'] = ((norm_df4['pb_1'] + norm_df4['pb_2'] + norm_df4['pb_3']) / 3)\n",
    "norm_df4['money_avg'] = ((norm_df4['money_1'] + norm_df4['money_2']) / 2)\n",
    "\n",
    "to_drop = ['pa_1', 'pa_2', 'pa_3','pb_1', 'pb_2', 'pb_3', 'money_1', 'money_2']\n",
    "X_train4, X_test4, norm_df4 = trim_dfs(to_drop, X_train4, X_test4, norm_df4)"
   ]
  },
  {
   "cell_type": "code",
   "execution_count": 81,
   "metadata": {},
   "outputs": [
    {
     "name": "stdout",
     "output_type": "stream",
     "text": [
      "Train F1:  0.8441474455701661\n",
      "Test F1:  0.8492816481431281\n"
     ]
    }
   ],
   "source": [
    "lr = LogisticRegression(penalty=\"l2\", C=0.001, class_weight=None, random_state=44)\n",
    "lr = train(lr, X_train4, y_train)\n",
    "lr_f1 = test(lr, X_test4, y_test, X_train4, y_train)"
   ]
  },
  {
   "cell_type": "code",
   "execution_count": 82,
   "metadata": {},
   "outputs": [
    {
     "name": "stdout",
     "output_type": "stream",
     "text": [
      "Train F1:  0.9643589543908835\n",
      "Test F1:  0.9321836165356328\n"
     ]
    }
   ],
   "source": [
    "# # Decrease max features in relative terms(12/17 to 8/11) to avoid error\n",
    "rf = RandomForestClassifier(n_estimators=200, max_depth=15, max_features=8, min_samples_split=4)\n",
    "rf = train(rf, X_train4, y_train)\n",
    "rf_f1 = test(rf, X_test4, y_test, X_train4, y_train)"
   ]
  },
  {
   "cell_type": "code",
   "execution_count": 83,
   "metadata": {},
   "outputs": [
    {
     "name": "stdout",
     "output_type": "stream",
     "text": [
      "Train F1:  0.9716608746967411\n",
      "Test F1:  0.9321151490404247\n"
     ]
    }
   ],
   "source": [
    "clf = train(best_xgb, X_train4, y_train)\n",
    "xgb_f1 = test(clf, X_test4, y_test, X_train4, y_train)"
   ]
  },
  {
   "cell_type": "code",
   "execution_count": 84,
   "metadata": {},
   "outputs": [
    {
     "name": "stderr",
     "output_type": "stream",
     "text": [
      "C:\\ProgramData\\Anaconda3\\lib\\site-packages\\sklearn\\model_selection\\_split.py:297: FutureWarning: Setting a random_state has no effect since shuffle is False. This will raise an error in 0.24. You should leave random_state to its default (None), or set shuffle=True.\n",
      "  FutureWarning\n"
     ]
    },
    {
     "name": "stdout",
     "output_type": "stream",
     "text": [
      "Train F1:  0.9654689142367735\n",
      "Test F1:  0.9323730718153028\n",
      "Train F1:  0.9651354259857119\n",
      "Test F1:  0.9287682416573119\n",
      "Train F1:  0.9643005288810537\n",
      "Test F1:  0.9307394581381138\n",
      "Train F1:  0.9648194392329887\n",
      "Test F1:  0.9291645310097386\n",
      "Train F1:  0.9650614276087294\n",
      "Test F1:  0.9318018664752333\n"
     ]
    },
    {
     "data": {
      "text/plain": [
       "0.9305694338191401"
      ]
     },
     "execution_count": 84,
     "metadata": {},
     "output_type": "execute_result"
    }
   ],
   "source": [
    "rf = RandomForestClassifier(n_estimators=200, max_depth=15, max_features=8, min_samples_split=4)\n",
    "best_rf_f1s = cross_validate(5, norm_df4, target, rf)\n",
    "np.mean(best_rf_f1s)"
   ]
  },
  {
   "cell_type": "markdown",
   "metadata": {},
   "source": [
    "The Logistic Regression and XGBoost achieve worse results, so we keep the original features. Random Forest seemed to improve, but when running KFold CV we see the average score is lower than the best XGBoost with the previous features.\n",
    "\n",
    "The most useful feature to be created might be some kind of measurement of the available income, calculated by the amount of money in the accounts minus the money spent. Problem is, not everything that is spent goes through platform A, and such money spent occurred in May (month -1), so we would need to filter money_1 to filter said spent categories with money in account (that is Cards = Account Money = 1). However, the dataset has many different types of spending (debit, credit, transfer, etc.). We are going to partially ignore this and go ahead and create the available income as if the client has the entiriety of their money in the account."
   ]
  },
  {
   "cell_type": "code",
   "execution_count": 85,
   "metadata": {},
   "outputs": [],
   "source": [
    "X_train5 = X_train.copy()\n",
    "X_test5 = X_test.copy()\n",
    "\n",
    "X_train5['available_income'] = X_train5['money_1'] - X_train5['spent_pa']\n",
    "X_test5['available_income'] = X_test5['money_1'] - X_train5['spent_pa']\n",
    "\n",
    "X_train5, X_test5, norm_df5 = trim_dfs(['money_1', 'money_2'], X_train, X_test, norm_df)"
   ]
  },
  {
   "cell_type": "code",
   "execution_count": 86,
   "metadata": {},
   "outputs": [
    {
     "name": "stdout",
     "output_type": "stream",
     "text": [
      "Train F1:  0.8441474455701661\n",
      "Test F1:  0.8492816481431281\n"
     ]
    }
   ],
   "source": [
    "lr = LogisticRegression(penalty=\"l2\", C=0.001, class_weight=None, random_state=42)\n",
    "lr = train(lr, X_train5, y_train)\n",
    "lr_f1 = test(lr, X_test5, y_test, X_train5, y_train)"
   ]
  },
  {
   "cell_type": "code",
   "execution_count": 87,
   "metadata": {},
   "outputs": [
    {
     "name": "stdout",
     "output_type": "stream",
     "text": [
      "Train F1:  0.9656875487392774\n",
      "Test F1:  0.9315373708729997\n"
     ]
    }
   ],
   "source": [
    "rf = train(best_rf, X_train5, y_train)\n",
    "rf_f1 = test(rf, X_test5, y_test, X_train5, y_train)"
   ]
  },
  {
   "cell_type": "code",
   "execution_count": 88,
   "metadata": {},
   "outputs": [
    {
     "name": "stdout",
     "output_type": "stream",
     "text": [
      "Train F1:  0.9713281393457676\n",
      "Test F1:  0.9325630144690424\n"
     ]
    }
   ],
   "source": [
    "clf = train(best_xgb, X_train5, y_train)\n",
    "xgb_f1 = test(clf, X_test5, y_test, X_train5, y_train)"
   ]
  },
  {
   "cell_type": "markdown",
   "metadata": {},
   "source": [
    "The Logistic Regression, again, shows the same results. The Random Forest and XGBoost seem to improve so we run 5 Fold CV."
   ]
  },
  {
   "cell_type": "code",
   "execution_count": 89,
   "metadata": {},
   "outputs": [
    {
     "name": "stderr",
     "output_type": "stream",
     "text": [
      "C:\\ProgramData\\Anaconda3\\lib\\site-packages\\sklearn\\model_selection\\_split.py:297: FutureWarning: Setting a random_state has no effect since shuffle is False. This will raise an error in 0.24. You should leave random_state to its default (None), or set shuffle=True.\n",
      "  FutureWarning\n"
     ]
    },
    {
     "name": "stdout",
     "output_type": "stream",
     "text": [
      "Train F1:  0.9664591753193591\n",
      "Test F1:  0.9317264974722974\n",
      "Train F1:  0.9671911747508478\n",
      "Test F1:  0.9299811311132643\n",
      "Train F1:  0.9660825398474948\n",
      "Test F1:  0.9305074383533727\n",
      "Train F1:  0.9670249873572012\n",
      "Test F1:  0.930406687522437\n",
      "Train F1:  0.9666883032584707\n",
      "Test F1:  0.9319124955171884\n"
     ]
    },
    {
     "data": {
      "text/plain": [
       "0.930906849995712"
      ]
     },
     "execution_count": 89,
     "metadata": {},
     "output_type": "execute_result"
    }
   ],
   "source": [
    "best_rf_f1s = cross_validate(5, norm_df5, target, best_rf)\n",
    "np.mean(best_rf_f1s)"
   ]
  },
  {
   "cell_type": "code",
   "execution_count": 90,
   "metadata": {},
   "outputs": [
    {
     "name": "stderr",
     "output_type": "stream",
     "text": [
      "C:\\ProgramData\\Anaconda3\\lib\\site-packages\\sklearn\\model_selection\\_split.py:297: FutureWarning: Setting a random_state has no effect since shuffle is False. This will raise an error in 0.24. You should leave random_state to its default (None), or set shuffle=True.\n",
      "  FutureWarning\n"
     ]
    },
    {
     "name": "stdout",
     "output_type": "stream",
     "text": [
      "Train F1:  0.9728992313141118\n",
      "Test F1:  0.9316687217427045\n",
      "Train F1:  0.971332827185381\n",
      "Test F1:  0.9305213464696224\n",
      "Train F1:  0.9720103781743848\n",
      "Test F1:  0.9304307644914513\n",
      "Train F1:  0.9730748096396891\n",
      "Test F1:  0.9271495786153767\n",
      "Train F1:  0.972053144839322\n",
      "Test F1:  0.9305011342544854\n"
     ]
    },
    {
     "data": {
      "text/plain": [
       "0.9300543091147281"
      ]
     },
     "execution_count": 90,
     "metadata": {},
     "output_type": "execute_result"
    }
   ],
   "source": [
    "best_xgb_f1s = cross_validate(5, norm_df5, target, best_xgb)\n",
    "np.mean(best_xgb_f1s)"
   ]
  },
  {
   "cell_type": "markdown",
   "metadata": {},
   "source": [
    "With CV we see the XGBoost is worse. The Random Forest improves, but it's still not as good as the original XGBoost. Furthermore, we need to keep in mind that we made a couple of strong assumptions to create this feature (in reality, not many customers have their entire money in the platform A account)."
   ]
  },
  {
   "cell_type": "markdown",
   "metadata": {},
   "source": [
    "### Summary\n",
    "We analyzed three models, at first with all the features, and then creating a couple and deleting others. The best model wsa the XGBoost with the original features, that gave us the following parameters:\n",
    "   1. colsample_bytree: 0.5\n",
    "   2. eta: 0.2\n",
    "   3. gamma: 0.1\n",
    "   4. max_depth: 10\n",
    "   5. min_child_weight: 2\n",
    "   6. lambda: 2\n",
    "   \n",
    "Feature engineering was useful to validate the score against changes in the table, but was not particularly successful in finding a better result or model. This was not the case for hyper parametrization, which gave us a significant improvement in our scores (thanks to Grid Search CV).\n",
    "\n",
    "The actual score was 0.9342 for a particular train/test split, and an average of 0.9321 in a 5 Fold CV.   \n",
    "\n",
    "We are goint to finish the project by creating a prediction column and assigning it to the original table."
   ]
  },
  {
   "cell_type": "code",
   "execution_count": 91,
   "metadata": {},
   "outputs": [
    {
     "name": "stdout",
     "output_type": "stream",
     "text": [
      "Train F1:  0.9754132884068653\n",
      "Test F1:  0.9341305125453524\n"
     ]
    }
   ],
   "source": [
    "# test preds\n",
    "clf = train(best_xgb, X_train, y_train)\n",
    "preds_train = clf.predict(X_train)\n",
    "preds_test = clf.predict(X_test)\n",
    "print('Train F1: ', f1_score(y_train, preds_train))\n",
    "print('Test F1: ', f1_score(y_test, preds_test))"
   ]
  },
  {
   "cell_type": "code",
   "execution_count": 92,
   "metadata": {},
   "outputs": [],
   "source": [
    "X_train_preds = X_train.copy()\n",
    "X_train_preds['churn_pred'] = preds_train\n",
    "\n",
    "X_test_preds = X_test.copy()\n",
    "X_test_preds['churn_pred'] = preds_test"
   ]
  },
  {
   "cell_type": "code",
   "execution_count": 94,
   "metadata": {},
   "outputs": [
    {
     "data": {
      "text/html": [
       "<div>\n",
       "<style scoped>\n",
       "    .dataframe tbody tr th:only-of-type {\n",
       "        vertical-align: middle;\n",
       "    }\n",
       "\n",
       "    .dataframe tbody tr th {\n",
       "        vertical-align: top;\n",
       "    }\n",
       "\n",
       "    .dataframe thead th {\n",
       "        text-align: right;\n",
       "    }\n",
       "</style>\n",
       "<table border=\"1\" class=\"dataframe\">\n",
       "  <thead>\n",
       "    <tr style=\"text-align: right;\">\n",
       "      <th></th>\n",
       "      <th>id</th>\n",
       "      <th>churn</th>\n",
       "      <th>pa_3</th>\n",
       "      <th>pb_3</th>\n",
       "      <th>pa_2</th>\n",
       "      <th>pb_2</th>\n",
       "      <th>pa_1</th>\n",
       "      <th>pb_1</th>\n",
       "      <th>age_int</th>\n",
       "      <th>gender_int</th>\n",
       "      <th>pay_type_int</th>\n",
       "      <th>province_int</th>\n",
       "      <th>money_1</th>\n",
       "      <th>money_2</th>\n",
       "      <th>investment_int</th>\n",
       "      <th>spent_pa</th>\n",
       "      <th>discount_pa</th>\n",
       "      <th>segment_int</th>\n",
       "      <th>churn_pred</th>\n",
       "    </tr>\n",
       "  </thead>\n",
       "  <tbody>\n",
       "    <tr>\n",
       "      <th>0</th>\n",
       "      <td>20663512</td>\n",
       "      <td>1</td>\n",
       "      <td>13</td>\n",
       "      <td>25</td>\n",
       "      <td>14</td>\n",
       "      <td>24</td>\n",
       "      <td>5</td>\n",
       "      <td>25</td>\n",
       "      <td>Entre 41 y 55 años</td>\n",
       "      <td>female</td>\n",
       "      <td>Credit Card</td>\n",
       "      <td>capital federal</td>\n",
       "      <td>6935.650000</td>\n",
       "      <td>10447.870000</td>\n",
       "      <td>investing</td>\n",
       "      <td>11.356600</td>\n",
       "      <td>2.231200</td>\n",
       "      <td>Instore</td>\n",
       "      <td>1.0</td>\n",
       "    </tr>\n",
       "    <tr>\n",
       "      <th>1</th>\n",
       "      <td>20663512</td>\n",
       "      <td>1</td>\n",
       "      <td>13</td>\n",
       "      <td>25</td>\n",
       "      <td>14</td>\n",
       "      <td>24</td>\n",
       "      <td>5</td>\n",
       "      <td>25</td>\n",
       "      <td>Entre 41 y 55 años</td>\n",
       "      <td>female</td>\n",
       "      <td>Credit Card</td>\n",
       "      <td>capital federal</td>\n",
       "      <td>6935.650000</td>\n",
       "      <td>10447.870000</td>\n",
       "      <td>investing</td>\n",
       "      <td>36.638400</td>\n",
       "      <td>0.000000</td>\n",
       "      <td>Money Transfer</td>\n",
       "      <td>1.0</td>\n",
       "    </tr>\n",
       "    <tr>\n",
       "      <th>2</th>\n",
       "      <td>444286946</td>\n",
       "      <td>0</td>\n",
       "      <td>5</td>\n",
       "      <td>9</td>\n",
       "      <td>5</td>\n",
       "      <td>9</td>\n",
       "      <td>6</td>\n",
       "      <td>10</td>\n",
       "      <td>Entre 26 y 30 años</td>\n",
       "      <td>male</td>\n",
       "      <td>Debit Card</td>\n",
       "      <td>capital federal</td>\n",
       "      <td>3692.968965</td>\n",
       "      <td>3086.271906</td>\n",
       "      <td>non_eligible</td>\n",
       "      <td>16.206400</td>\n",
       "      <td>3.822600</td>\n",
       "      <td>Instore</td>\n",
       "      <td>0.0</td>\n",
       "    </tr>\n",
       "    <tr>\n",
       "      <th>3</th>\n",
       "      <td>444286946</td>\n",
       "      <td>0</td>\n",
       "      <td>5</td>\n",
       "      <td>9</td>\n",
       "      <td>5</td>\n",
       "      <td>9</td>\n",
       "      <td>6</td>\n",
       "      <td>10</td>\n",
       "      <td>Entre 26 y 30 años</td>\n",
       "      <td>male</td>\n",
       "      <td>Debit Card</td>\n",
       "      <td>capital federal</td>\n",
       "      <td>3626.798983</td>\n",
       "      <td>3027.306869</td>\n",
       "      <td>non_eligible</td>\n",
       "      <td>4.619000</td>\n",
       "      <td>0.923800</td>\n",
       "      <td>Transport</td>\n",
       "      <td>0.0</td>\n",
       "    </tr>\n",
       "    <tr>\n",
       "      <th>4</th>\n",
       "      <td>348084528</td>\n",
       "      <td>1</td>\n",
       "      <td>4</td>\n",
       "      <td>4</td>\n",
       "      <td>4</td>\n",
       "      <td>3</td>\n",
       "      <td>3</td>\n",
       "      <td>8</td>\n",
       "      <td>Sin Dato</td>\n",
       "      <td>female</td>\n",
       "      <td>Credit Card</td>\n",
       "      <td>são paulo</td>\n",
       "      <td>0.000000</td>\n",
       "      <td>0.000000</td>\n",
       "      <td>eligible</td>\n",
       "      <td>6.457400</td>\n",
       "      <td>0.000000</td>\n",
       "      <td>Cellphone Recharge</td>\n",
       "      <td>1.0</td>\n",
       "    </tr>\n",
       "    <tr>\n",
       "      <th>...</th>\n",
       "      <td>...</td>\n",
       "      <td>...</td>\n",
       "      <td>...</td>\n",
       "      <td>...</td>\n",
       "      <td>...</td>\n",
       "      <td>...</td>\n",
       "      <td>...</td>\n",
       "      <td>...</td>\n",
       "      <td>...</td>\n",
       "      <td>...</td>\n",
       "      <td>...</td>\n",
       "      <td>...</td>\n",
       "      <td>...</td>\n",
       "      <td>...</td>\n",
       "      <td>...</td>\n",
       "      <td>...</td>\n",
       "      <td>...</td>\n",
       "      <td>...</td>\n",
       "      <td>...</td>\n",
       "    </tr>\n",
       "    <tr>\n",
       "      <th>63669</th>\n",
       "      <td>35688803</td>\n",
       "      <td>1</td>\n",
       "      <td>1</td>\n",
       "      <td>12</td>\n",
       "      <td>0</td>\n",
       "      <td>20</td>\n",
       "      <td>0</td>\n",
       "      <td>22</td>\n",
       "      <td>Entre 31 y 35 años</td>\n",
       "      <td>female</td>\n",
       "      <td>Credit Card</td>\n",
       "      <td>formosa</td>\n",
       "      <td>0.000000</td>\n",
       "      <td>0.000000</td>\n",
       "      <td>eligible</td>\n",
       "      <td>51.820400</td>\n",
       "      <td>0.000000</td>\n",
       "      <td>Instore</td>\n",
       "      <td>1.0</td>\n",
       "    </tr>\n",
       "    <tr>\n",
       "      <th>63670</th>\n",
       "      <td>384904109</td>\n",
       "      <td>0</td>\n",
       "      <td>1</td>\n",
       "      <td>5</td>\n",
       "      <td>0</td>\n",
       "      <td>4</td>\n",
       "      <td>0</td>\n",
       "      <td>4</td>\n",
       "      <td>Entre 26 y 30 años</td>\n",
       "      <td>female</td>\n",
       "      <td>Credit Card</td>\n",
       "      <td>corrientes</td>\n",
       "      <td>0.000000</td>\n",
       "      <td>0.000000</td>\n",
       "      <td>eligible</td>\n",
       "      <td>22.500096</td>\n",
       "      <td>0.824763</td>\n",
       "      <td>Money Transfer</td>\n",
       "      <td>0.0</td>\n",
       "    </tr>\n",
       "    <tr>\n",
       "      <th>63671</th>\n",
       "      <td>403313804</td>\n",
       "      <td>0</td>\n",
       "      <td>5</td>\n",
       "      <td>9</td>\n",
       "      <td>5</td>\n",
       "      <td>9</td>\n",
       "      <td>6</td>\n",
       "      <td>10</td>\n",
       "      <td>Entre 26 y 30 años</td>\n",
       "      <td>female</td>\n",
       "      <td>Credit Card</td>\n",
       "      <td>corrientes</td>\n",
       "      <td>0.000000</td>\n",
       "      <td>0.000000</td>\n",
       "      <td>eligible</td>\n",
       "      <td>74.544089</td>\n",
       "      <td>0.714365</td>\n",
       "      <td>Money Transfer</td>\n",
       "      <td>0.0</td>\n",
       "    </tr>\n",
       "    <tr>\n",
       "      <th>63672</th>\n",
       "      <td>307339795</td>\n",
       "      <td>0</td>\n",
       "      <td>3</td>\n",
       "      <td>0</td>\n",
       "      <td>1</td>\n",
       "      <td>0</td>\n",
       "      <td>2</td>\n",
       "      <td>0</td>\n",
       "      <td>Entre 41 y 55 años</td>\n",
       "      <td>female</td>\n",
       "      <td>Credit Card</td>\n",
       "      <td>buenos aires</td>\n",
       "      <td>0.000000</td>\n",
       "      <td>0.000000</td>\n",
       "      <td>eligible</td>\n",
       "      <td>33.065628</td>\n",
       "      <td>1.073004</td>\n",
       "      <td>Money Transfer</td>\n",
       "      <td>0.0</td>\n",
       "    </tr>\n",
       "    <tr>\n",
       "      <th>63673</th>\n",
       "      <td>42975676</td>\n",
       "      <td>0</td>\n",
       "      <td>5</td>\n",
       "      <td>0</td>\n",
       "      <td>6</td>\n",
       "      <td>0</td>\n",
       "      <td>7</td>\n",
       "      <td>0</td>\n",
       "      <td>Entre 41 y 55 años</td>\n",
       "      <td>female</td>\n",
       "      <td>Credit Card</td>\n",
       "      <td>cordoba</td>\n",
       "      <td>0.000000</td>\n",
       "      <td>0.000000</td>\n",
       "      <td>pending</td>\n",
       "      <td>22.371400</td>\n",
       "      <td>0.000000</td>\n",
       "      <td>Money Transfer</td>\n",
       "      <td>1.0</td>\n",
       "    </tr>\n",
       "  </tbody>\n",
       "</table>\n",
       "<p>63674 rows × 19 columns</p>\n",
       "</div>"
      ],
      "text/plain": [
       "              id  churn  pa_3  pb_3  pa_2  pb_2  pa_1  pb_1  \\\n",
       "0       20663512      1    13    25    14    24     5    25   \n",
       "1       20663512      1    13    25    14    24     5    25   \n",
       "2      444286946      0     5     9     5     9     6    10   \n",
       "3      444286946      0     5     9     5     9     6    10   \n",
       "4      348084528      1     4     4     4     3     3     8   \n",
       "...          ...    ...   ...   ...   ...   ...   ...   ...   \n",
       "63669   35688803      1     1    12     0    20     0    22   \n",
       "63670  384904109      0     1     5     0     4     0     4   \n",
       "63671  403313804      0     5     9     5     9     6    10   \n",
       "63672  307339795      0     3     0     1     0     2     0   \n",
       "63673   42975676      0     5     0     6     0     7     0   \n",
       "\n",
       "                  age_int gender_int pay_type_int     province_int  \\\n",
       "0      Entre 41 y 55 años     female  Credit Card  capital federal   \n",
       "1      Entre 41 y 55 años     female  Credit Card  capital federal   \n",
       "2      Entre 26 y 30 años       male   Debit Card  capital federal   \n",
       "3      Entre 26 y 30 años       male   Debit Card  capital federal   \n",
       "4                Sin Dato     female  Credit Card        são paulo   \n",
       "...                   ...        ...          ...              ...   \n",
       "63669  Entre 31 y 35 años     female  Credit Card          formosa   \n",
       "63670  Entre 26 y 30 años     female  Credit Card       corrientes   \n",
       "63671  Entre 26 y 30 años     female  Credit Card       corrientes   \n",
       "63672  Entre 41 y 55 años     female  Credit Card     buenos aires   \n",
       "63673  Entre 41 y 55 años     female  Credit Card          cordoba   \n",
       "\n",
       "           money_1       money_2 investment_int   spent_pa  discount_pa  \\\n",
       "0      6935.650000  10447.870000      investing  11.356600     2.231200   \n",
       "1      6935.650000  10447.870000      investing  36.638400     0.000000   \n",
       "2      3692.968965   3086.271906   non_eligible  16.206400     3.822600   \n",
       "3      3626.798983   3027.306869   non_eligible   4.619000     0.923800   \n",
       "4         0.000000      0.000000       eligible   6.457400     0.000000   \n",
       "...            ...           ...            ...        ...          ...   \n",
       "63669     0.000000      0.000000       eligible  51.820400     0.000000   \n",
       "63670     0.000000      0.000000       eligible  22.500096     0.824763   \n",
       "63671     0.000000      0.000000       eligible  74.544089     0.714365   \n",
       "63672     0.000000      0.000000       eligible  33.065628     1.073004   \n",
       "63673     0.000000      0.000000        pending  22.371400     0.000000   \n",
       "\n",
       "              segment_int  churn_pred  \n",
       "0                 Instore         1.0  \n",
       "1          Money Transfer         1.0  \n",
       "2                 Instore         0.0  \n",
       "3               Transport         0.0  \n",
       "4      Cellphone Recharge         1.0  \n",
       "...                   ...         ...  \n",
       "63669             Instore         1.0  \n",
       "63670      Money Transfer         0.0  \n",
       "63671      Money Transfer         0.0  \n",
       "63672      Money Transfer         0.0  \n",
       "63673      Money Transfer         1.0  \n",
       "\n",
       "[63674 rows x 19 columns]"
      ]
     },
     "execution_count": 94,
     "metadata": {},
     "output_type": "execute_result"
    }
   ],
   "source": [
    "og_df"
   ]
  },
  {
   "cell_type": "code",
   "execution_count": 95,
   "metadata": {},
   "outputs": [],
   "source": [
    "og_df.loc[X_train_preds.index, 'churn_pred'] = X_train_preds['churn_pred']\n",
    "og_df.loc[X_test_preds.index, 'churn_pred'] = X_test_preds['churn_pred']\n",
    "\n",
    "# Reordering\n",
    "og_df = og_df[['id', 'pa_3', 'pb_3', 'pa_2', 'pb_2', 'pa_1', 'pb_1', 'age_int', 'gender_int', 'pay_type_int',\n",
    "               'province_int', 'money_1', 'money_2', 'investment_int', 'spent_pa', 'discount_pa', 'segment_int',\n",
    "               'churn', 'churn_pred']]\n",
    "\n",
    "og_df['churn_pred'] = og_df['churn_pred'].astype(int)"
   ]
  },
  {
   "cell_type": "code",
   "execution_count": 96,
   "metadata": {},
   "outputs": [
    {
     "data": {
      "text/plain": [
       "1    73.186858\n",
       "0    26.813142\n",
       "Name: churn, dtype: float64"
      ]
     },
     "execution_count": 96,
     "metadata": {},
     "output_type": "execute_result"
    }
   ],
   "source": [
    "og_df['churn'].value_counts() * 100 / og_df.shape[0]"
   ]
  },
  {
   "cell_type": "code",
   "execution_count": 97,
   "metadata": {},
   "outputs": [
    {
     "data": {
      "text/plain": [
       "1    76.866539\n",
       "0    23.133461\n",
       "Name: churn_pred, dtype: float64"
      ]
     },
     "execution_count": 97,
     "metadata": {},
     "output_type": "execute_result"
    }
   ],
   "source": [
    "og_df['churn_pred'].value_counts() * 100 / og_df.shape[0]"
   ]
  },
  {
   "cell_type": "markdown",
   "metadata": {},
   "source": [
    "When checking a simple ratio comparison between originals and predictions, we see the they are very close: from around 73/26 to 76/23 respectively, which means the model is fitting well.\n",
    "\n",
    "On the other hand, the original file (with the target information) only had 43502 rows, witha  65/35 split. However, when joining columns such as state or segment, we duplicate clients (although the actual data is different, as one client may have been in different provinces, for example). Said columns can't be deleted because they provide valuable information. That's why we end up with more than 60000 rows and a 73/26 split.\n",
    "\n",
    "The first fix we implemented was using Hot Encoding (dummies) instead of Label Encoding for such columns - that is, creating a column for each class in each categorical column, and assigning 1 or 0 depending if the class was present for that user or not. However, the prediction capabilities of the models were significantly lower, with the best result being 0.90. This is not shown in this present notebook, as to avoid confusing information that did not end up in our models.\n",
    "\n",
    "So, they way to fix it is grouping by client and sum the predictions. If the sum is 0, then the client never had a 1 predicted, so it stays as a 0. Otherwise, if it is 1 or more, then it means at least in one row it was predicted as 1, so it will be labeled as 1 (which means, they will keep using platform A)."
   ]
  },
  {
   "cell_type": "code",
   "execution_count": 98,
   "metadata": {},
   "outputs": [
    {
     "data": {
      "text/html": [
       "<div>\n",
       "<style scoped>\n",
       "    .dataframe tbody tr th:only-of-type {\n",
       "        vertical-align: middle;\n",
       "    }\n",
       "\n",
       "    .dataframe tbody tr th {\n",
       "        vertical-align: top;\n",
       "    }\n",
       "\n",
       "    .dataframe thead th {\n",
       "        text-align: right;\n",
       "    }\n",
       "</style>\n",
       "<table border=\"1\" class=\"dataframe\">\n",
       "  <thead>\n",
       "    <tr style=\"text-align: right;\">\n",
       "      <th></th>\n",
       "      <th>id</th>\n",
       "      <th>churn</th>\n",
       "      <th>churn_pred</th>\n",
       "    </tr>\n",
       "  </thead>\n",
       "  <tbody>\n",
       "    <tr>\n",
       "      <th>0</th>\n",
       "      <td>100006392</td>\n",
       "      <td>1</td>\n",
       "      <td>1</td>\n",
       "    </tr>\n",
       "    <tr>\n",
       "      <th>1</th>\n",
       "      <td>100007165</td>\n",
       "      <td>2</td>\n",
       "      <td>2</td>\n",
       "    </tr>\n",
       "    <tr>\n",
       "      <th>2</th>\n",
       "      <td>100007237</td>\n",
       "      <td>0</td>\n",
       "      <td>0</td>\n",
       "    </tr>\n",
       "    <tr>\n",
       "      <th>3</th>\n",
       "      <td>100007543</td>\n",
       "      <td>2</td>\n",
       "      <td>2</td>\n",
       "    </tr>\n",
       "    <tr>\n",
       "      <th>4</th>\n",
       "      <td>100007761</td>\n",
       "      <td>1</td>\n",
       "      <td>1</td>\n",
       "    </tr>\n",
       "    <tr>\n",
       "      <th>...</th>\n",
       "      <td>...</td>\n",
       "      <td>...</td>\n",
       "      <td>...</td>\n",
       "    </tr>\n",
       "    <tr>\n",
       "      <th>43497</th>\n",
       "      <td>99971137</td>\n",
       "      <td>1</td>\n",
       "      <td>1</td>\n",
       "    </tr>\n",
       "    <tr>\n",
       "      <th>43498</th>\n",
       "      <td>99977179</td>\n",
       "      <td>1</td>\n",
       "      <td>1</td>\n",
       "    </tr>\n",
       "    <tr>\n",
       "      <th>43499</th>\n",
       "      <td>9998207</td>\n",
       "      <td>0</td>\n",
       "      <td>0</td>\n",
       "    </tr>\n",
       "    <tr>\n",
       "      <th>43500</th>\n",
       "      <td>99993131</td>\n",
       "      <td>1</td>\n",
       "      <td>1</td>\n",
       "    </tr>\n",
       "    <tr>\n",
       "      <th>43501</th>\n",
       "      <td>99999505</td>\n",
       "      <td>2</td>\n",
       "      <td>2</td>\n",
       "    </tr>\n",
       "  </tbody>\n",
       "</table>\n",
       "<p>43502 rows × 3 columns</p>\n",
       "</div>"
      ],
      "text/plain": [
       "              id  churn  churn_pred\n",
       "0      100006392      1           1\n",
       "1      100007165      2           2\n",
       "2      100007237      0           0\n",
       "3      100007543      2           2\n",
       "4      100007761      1           1\n",
       "...          ...    ...         ...\n",
       "43497   99971137      1           1\n",
       "43498   99977179      1           1\n",
       "43499    9998207      0           0\n",
       "43500   99993131      1           1\n",
       "43501   99999505      2           2\n",
       "\n",
       "[43502 rows x 3 columns]"
      ]
     },
     "execution_count": 98,
     "metadata": {},
     "output_type": "execute_result"
    }
   ],
   "source": [
    "og_df_trim = og_df[['id', 'churn', 'churn_pred']].copy()\n",
    "to_export = og_df_trim.groupby('id', as_index=False).sum()\n",
    "to_export"
   ]
  },
  {
   "cell_type": "code",
   "execution_count": 99,
   "metadata": {},
   "outputs": [
    {
     "name": "stdout",
     "output_type": "stream",
     "text": [
      "1    64.13958\n",
      "0    35.86042\n",
      "Name: churn, dtype: float64\n",
      "1    69.127856\n",
      "0    30.872144\n",
      "Name: churn_pred, dtype: float64\n"
     ]
    }
   ],
   "source": [
    "# If result is 1 or higher, it means at least one instance was predicted as 1, so we'll classify it as 1\n",
    "for i in range(1, 6):\n",
    "    to_export['churn'].replace(i, 1, inplace=True)\n",
    "    to_export['churn_pred'].replace(i, 1, inplace=True)\n",
    "    \n",
    "print(to_export['churn'].value_counts() * 100 / to_export.shape[0])\n",
    "print(to_export['churn_pred'].value_counts() * 100 / to_export.shape[0])"
   ]
  },
  {
   "cell_type": "markdown",
   "metadata": {},
   "source": [
    "With said adjustment, we go frmo a 65/35 split in favor to 1 in the original target file to predictions of 60/30 from our model, which means it's fitting quite well.\n",
    "\n",
    "Al hacer el ajuste de clientes, pasamos de un 65/35 en favor del 1 a un 60/30 con las predicciones del modelo, por lo que el split se mantuvo a similar cercanía que con el dataframe anterior de más de 60000 filas."
   ]
  },
  {
   "cell_type": "code",
   "execution_count": 100,
   "metadata": {},
   "outputs": [],
   "source": [
    "## UNCOMMENT IF YOU WANT TO EXPORT THE RESULTS\n",
    "# to_export.to_excel('predicted_churn.xlsx', index=False)"
   ]
  },
  {
   "cell_type": "markdown",
   "metadata": {},
   "source": [
    "# Conclusión\n",
    "\n",
    "Starting from 6 different tables, we created a big dataset with different types of fields for each client, such as transactional, financial, demographic or behavioural data. We followed up with an exploratory analysis to find patterns and correlations, visualize effects and atributes, among other things. We found relevant columns and created a couple hypothesis about which ones to use and which ones to delete, only to end up rejecting them after analyzing our results.\n",
    "\n",
    "Afterwards, we starting modelling, using Logistic Regression, Random Forest and XGBoost. Post hyper-parametrization for each of them, and after many tests regarding input tables, we concluded the XGBoost with the original dataset gave us the best results, so it was used to create the predictive table. Said table had a couple of things to note regarding data quality and duplicates, where we had to make a couple of important decisions regarding methodology (already explained in the \"Summary\" section(.\n",
    "\n",
    "So, after our statistical analysis and our modelling, which economic or business effects could this type of project have? First, we found a segment of 30% of clients that we are predicting they will stop using our platform. Second, we found they strongly respond to discounts. So, to keep these users in our platform, we could try to stablish a more frequent discount policy on different areas of the platform, such as paying bills, for example.\n",
    " \n",
    "Moreover, we also found a trong correlation between the amount of times the App was used and the response. Even if it seems there's some kind of \"spill\" effect of this information to the response, there's actually none, since said data corresponds to the previous three months, and we are predicting the following two. As such, incentivizing the use of the app by adding functionalities might be a step in the right direction. Coupling it with a marketing campaign to show those new features might go even further in retaining the users.\n",
    "\n",
    "In conclusion, we predict 30% of the users won't make any transactions in the following two months on platform A. Introducing discounts or new features, as well as strong marketing campaings, might help reduce this number by incentivizing users to keep using our app."
   ]
  }
 ],
 "metadata": {
  "kernelspec": {
   "display_name": "Python 3",
   "language": "python",
   "name": "python3"
  },
  "language_info": {
   "codemirror_mode": {
    "name": "ipython",
    "version": 3
   },
   "file_extension": ".py",
   "mimetype": "text/x-python",
   "name": "python",
   "nbconvert_exporter": "python",
   "pygments_lexer": "ipython3",
   "version": "3.7.7"
  }
 },
 "nbformat": 4,
 "nbformat_minor": 4
}
